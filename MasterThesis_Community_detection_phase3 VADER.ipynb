{
 "cells": [
  {
   "cell_type": "code",
   "execution_count": 3,
   "id": "ad98e481",
   "metadata": {},
   "outputs": [],
   "source": [
    "#pip install networkx==2.2"
   ]
  },
  {
   "cell_type": "code",
   "execution_count": 1,
   "id": "0f56d361",
   "metadata": {},
   "outputs": [
    {
     "name": "stdout",
     "output_type": "stream",
     "text": [
      "2.2\n"
     ]
    }
   ],
   "source": [
    "import pandas as pd\n",
    "import networkx as nx\n",
    "import pquality\n",
    "import numpy as np\n",
    "print(nx.__version__)\n",
    "import matplotlib.pyplot as plt\n",
    "import nxmetis\n",
    "import community\n",
    "import sklearn\n",
    "from sklearn.preprocessing import MinMaxScaler\n",
    "import seaborn as sns\n",
    "from vaderSentiment.vaderSentiment import SentimentIntensityAnalyzer\n",
    "import networkx.algorithms.community as nx_comm"
   ]
  },
  {
   "cell_type": "code",
   "execution_count": 2,
   "id": "bb01efee",
   "metadata": {},
   "outputs": [],
   "source": [
    "df = pd.read_csv('C:/Users/acer/OneDrive/Desktop/MATERIALE TESI/DATASET/USA election Twitter collection/Polarized_dataset.csv')"
   ]
  },
  {
   "cell_type": "code",
   "execution_count": 3,
   "id": "8251c949",
   "metadata": {},
   "outputs": [
    {
     "name": "stdout",
     "output_type": "stream",
     "text": [
      "<class 'pandas.core.frame.DataFrame'>\n",
      "Int64Index: 663685 entries, 0 to 663684\n",
      "Data columns (total 6 columns):\n",
      " #   Column              Non-Null Count   Dtype  \n",
      "---  ------              --------------   -----  \n",
      " 0   Screen_name         663685 non-null  object \n",
      " 1   Retweet             663685 non-null  object \n",
      " 2   Name                663666 non-null  object \n",
      " 3   Text_clean          663685 non-null  object \n",
      " 4   Day                 663685 non-null  int64  \n",
      " 5   Polarization Score  663685 non-null  float64\n",
      "dtypes: float64(1), int64(1), object(4)\n",
      "memory usage: 35.4+ MB\n"
     ]
    }
   ],
   "source": [
    "#DELETE NaN Values\n",
    "df['Screen_name'] = df['Screen_name'].replace('', np.nan)\n",
    "df['Retweet'] = df['Retweet'].replace('', np.nan)\n",
    "df = df[df['Retweet'].notna()]\n",
    "df = df[df['Screen_name'].notna()]\n",
    "df.info()"
   ]
  },
  {
   "cell_type": "code",
   "execution_count": 4,
   "id": "df02ee7a",
   "metadata": {},
   "outputs": [
    {
     "name": "stdout",
     "output_type": "stream",
     "text": [
      "<class 'pandas.core.frame.DataFrame'>\n",
      "Int64Index: 612775 entries, 0 to 663683\n",
      "Data columns (total 6 columns):\n",
      " #   Column              Non-Null Count   Dtype  \n",
      "---  ------              --------------   -----  \n",
      " 0   Screen_name         612775 non-null  object \n",
      " 1   Retweet             612775 non-null  object \n",
      " 2   Name                612756 non-null  object \n",
      " 3   Text_clean          612775 non-null  object \n",
      " 4   Day                 612775 non-null  int64  \n",
      " 5   Polarization Score  612775 non-null  float64\n",
      "dtypes: float64(1), int64(1), object(4)\n",
      "memory usage: 32.7+ MB\n"
     ]
    }
   ],
   "source": [
    "#DELETE USERS THAT RETWEET OUR SELF\n",
    "df.drop_duplicates(subset=['Screen_name', 'Retweet'], inplace=True)\n",
    "df.info()"
   ]
  },
  {
   "cell_type": "markdown",
   "id": "1fdd69d6",
   "metadata": {},
   "source": [
    "ASSIGN POLARIZATION SCORE"
   ]
  },
  {
   "cell_type": "code",
   "execution_count": 5,
   "id": "08bbb98a",
   "metadata": {},
   "outputs": [],
   "source": [
    "#CALCULATE POLARIZATION SCORE MEAN\n",
    "df['Polarization Score Screen_name'] = df.groupby(['Screen_name'])['Polarization Score'].transform('mean')\n",
    "#RESCALE THE POLARIZATION SCORE IN ORDER TO BE USED BY METIS\n",
    "scaler = MinMaxScaler(feature_range=(-5,+5))\n",
    "df['Polarization Score Screen_name'] = scaler.fit_transform(df[['Polarization Score Screen_name']])"
   ]
  },
  {
   "cell_type": "code",
   "execution_count": 6,
   "id": "76cbd2f2",
   "metadata": {},
   "outputs": [],
   "source": [
    "#Compute the Polarization score for the Retweetted users"
   ]
  },
  {
   "cell_type": "code",
   "execution_count": 7,
   "id": "94de11c4",
   "metadata": {},
   "outputs": [],
   "source": [
    "values = df['Retweet'].to_list()\n",
    "#obtaining the list of Retweetted peple with a text associated\n",
    "df2 = df.loc[df['Screen_name'].isin(values)]\n",
    "#obtain the single values from the above list\n",
    "df2 = df2.drop_duplicates(subset='Screen_name', keep=\"last\")\n",
    "df2 = df2.rename(columns={'Polarization Score Screen_name':'Polarization Score Retweet'})\n",
    "df2 = df2.drop(['Retweet','Name','Text_clean','Day','Polarization Score'],axis=1)\n",
    "#obtain the final dataset\n",
    "df = df.merge(df2, how = 'left', on = ['Screen_name'])\n",
    "#fill NaN values with neutral value of the polarization score\n",
    "df['Polarization Score Retweet'] = df['Polarization Score Retweet'].fillna(0)\n",
    "df['Polarization Score Retweet'] = df.groupby(['Retweet'])['Polarization Score Retweet'].transform('mean')"
   ]
  },
  {
   "cell_type": "code",
   "execution_count": 8,
   "id": "1f0d8166",
   "metadata": {
    "scrolled": true
   },
   "outputs": [],
   "source": [
    "#EVALUATE TH NUMBER OF CONNECTION BETWEEN TWO USERS\n",
    "helper = df.value_counts(['Screen_name','Retweet']).to_frame('Tot connection user1,user2').reset_index()\n",
    "helper['key'] = helper['Screen_name'] + helper['Retweet']\n",
    "df['key'] = df['Screen_name'] + df['Retweet']\n",
    "df = pd.merge(df, helper, how=\"left\", on=['key','key'])\n",
    "df = df.drop(['key','Screen_name_y','Retweet_y','Name'],axis=1)\n",
    "df = df.rename(columns={'Screen_name_x':'Screen_name','Retweet_x':'Retweet'})\n",
    "#df['Total connections Screen_name'] = df.groupby('Screen_name')['Screen_name'].transform('count')\n",
    "#df['Total connections Retweet'] = df.groupby('Retweet')['Retweet'].transform('count')"
   ]
  },
  {
   "cell_type": "code",
   "execution_count": 9,
   "id": "d6fd5c63",
   "metadata": {},
   "outputs": [],
   "source": [
    "df['Polarization Score Screen_name'] = df['Polarization Score Screen_name'].astype(int)\n",
    "df['Polarization Score Retweet'] = df['Polarization Score Retweet'].astype(int) "
   ]
  },
  {
   "cell_type": "markdown",
   "id": "12f463c9",
   "metadata": {},
   "source": [
    "ASSIGN SENTIMENT ANALYSIS - LEXICON BASED"
   ]
  },
  {
   "cell_type": "code",
   "execution_count": 10,
   "id": "af47403b",
   "metadata": {},
   "outputs": [
    {
     "data": {
      "text/plain": [
       "count    612775.000000\n",
       "mean          0.258116\n",
       "std           1.402162\n",
       "min          -5.000000\n",
       "25%           0.000000\n",
       "50%           0.000000\n",
       "75%           1.000000\n",
       "max           5.000000\n",
       "Name: Sentiment_Score_Vader_Screenname, dtype: float64"
      ]
     },
     "execution_count": 10,
     "metadata": {},
     "output_type": "execute_result"
    }
   ],
   "source": [
    "analyzer = SentimentIntensityAnalyzer()\n",
    "df['Sentiment_Score_Vader_Screenname'] = [analyzer.polarity_scores(x)['compound'] for x in df['Text_clean']]\n",
    "df['Sentiment_Score_Vader_Screenname'] = df.groupby(['Screen_name'])['Sentiment_Score_Vader_Screenname'].transform('mean')\n",
    "df['Sentiment_Score_Vader_Screenname'] = scaler.fit_transform(df[['Sentiment_Score_Vader_Screenname']])\n",
    "df['Sentiment_Score_Vader_Screenname'] = df['Sentiment_Score_Vader_Screenname'].astype(int) \n",
    "df['Sentiment_Score_Vader_Screenname'].describe()"
   ]
  },
  {
   "cell_type": "code",
   "execution_count": 11,
   "id": "0fc25f81",
   "metadata": {},
   "outputs": [],
   "source": [
    "values = df['Retweet'].to_list()\n",
    "#obtaining the list of Retweetted peple with a text associated\n",
    "df2 = df.loc[df['Screen_name'].isin(values)]\n",
    "df2 = df2.drop_duplicates(subset='Screen_name', keep=\"last\")\n",
    "df2 = df2.rename(columns={'Sentiment_Score_Vader_Screenname':'Sentiment_Score_Vader_Retweet'})\n",
    "df2 = df2.drop(['Retweet','Text_clean','Day','Polarization Score','Polarization Score Screen_name','Polarization Score Retweet','Tot connection user1,user2'],axis=1)\n",
    "#obtain the final dataset\n",
    "df = df.merge(df2, how = 'left', on = ['Screen_name'])"
   ]
  },
  {
   "cell_type": "code",
   "execution_count": 12,
   "id": "7bcc753f",
   "metadata": {},
   "outputs": [],
   "source": [
    "df['Sentiment_Score_Vader_Retweet'] = df['Sentiment_Score_Vader_Retweet'].fillna(0)\n",
    "df['Sentiment_Score_Vader_Retweet'] = df.groupby(['Retweet'])['Sentiment_Score_Vader_Retweet'].transform('mean')\n",
    "df['Sentiment_Score_Vader_Retweet'] = df['Sentiment_Score_Vader_Retweet'].astype(int)"
   ]
  },
  {
   "cell_type": "code",
   "execution_count": 13,
   "id": "4d16da5d",
   "metadata": {},
   "outputs": [
    {
     "data": {
      "text/plain": [
       "(-5.0, 5.0)"
      ]
     },
     "execution_count": 13,
     "metadata": {},
     "output_type": "execute_result"
    },
    {
     "data": {
      "image/png": "[encoded data removed]",
      "text/plain": [
       "<Figure size 360x360 with 1 Axes>"
      ]
     },
     "metadata": {
      "needs_background": "light"
     },
     "output_type": "display_data"
    }
   ],
   "source": [
    "#DENSITY SENTIMENT\n",
    "density = sns.displot(df, x=\"Sentiment_Score_Vader_Screenname\",kind=\"kde\", fill=True)\n",
    "plt.xlim(-5,+5)"
   ]
  },
  {
   "cell_type": "code",
   "execution_count": 14,
   "id": "a3a86e8d",
   "metadata": {},
   "outputs": [
    {
     "data": {
      "text/plain": [
       "(-5.0, 5.0)"
      ]
     },
     "execution_count": 14,
     "metadata": {},
     "output_type": "execute_result"
    },
    {
     "data": {
      "image/png": "[encoded data removed]",
      "text/plain": [
       "<Figure size 360x360 with 1 Axes>"
      ]
     },
     "metadata": {
      "needs_background": "light"
     },
     "output_type": "display_data"
    }
   ],
   "source": [
    "#DENSITY SENTIMENT\n",
    "density = sns.displot(df, x=\"Sentiment_Score_Vader_Retweet\",kind=\"kde\", fill=True)\n",
    "plt.xlim(-5,+5)"
   ]
  },
  {
   "cell_type": "code",
   "execution_count": 15,
   "id": "05853dc4",
   "metadata": {},
   "outputs": [
    {
     "data": {
      "text/plain": [
       "(-5.0, 5.0)"
      ]
     },
     "execution_count": 15,
     "metadata": {},
     "output_type": "execute_result"
    },
    {
     "data": {
      "image/png": "[encoded data removed]",
      "text/plain": [
       "<Figure size 360x360 with 1 Axes>"
      ]
     },
     "metadata": {
      "needs_background": "light"
     },
     "output_type": "display_data"
    }
   ],
   "source": [
    "#DENSITY POLARIZATION\n",
    "density = sns.displot(df, x=\"Polarization Score Screen_name\",kind=\"kde\", fill=True)\n",
    "plt.xlim(-5,+5)"
   ]
  },
  {
   "cell_type": "code",
   "execution_count": 16,
   "id": "37236d98",
   "metadata": {
    "scrolled": true
   },
   "outputs": [
    {
     "data": {
      "text/plain": [
       "(-5.0, 5.0)"
      ]
     },
     "execution_count": 16,
     "metadata": {},
     "output_type": "execute_result"
    },
    {
     "data": {
      "image/png": "[encoded data removed]",
      "text/plain": [
       "<Figure size 360x360 with 1 Axes>"
      ]
     },
     "metadata": {
      "needs_background": "light"
     },
     "output_type": "display_data"
    }
   ],
   "source": [
    "#DENSITY POLARIZATION\n",
    "density = sns.displot(df, x=\"Polarization Score Retweet\",kind=\"kde\", fill=True)\n",
    "plt.xlim(-5,+5)"
   ]
  },
  {
   "cell_type": "markdown",
   "id": "98907233",
   "metadata": {},
   "source": [
    "EVALUATE HYBRID MEASURE"
   ]
  },
  {
   "cell_type": "code",
   "execution_count": 17,
   "id": "66b31b7a",
   "metadata": {},
   "outputs": [],
   "source": [
    "df['Polarization distance'] = 10 - abs(df['Polarization Score Screen_name']-df['Polarization Score Retweet'])\n",
    "df['Sentiment distance'] = 10 - abs(df['Sentiment_Score_Vader_Screenname']-df['Sentiment_Score_Vader_Retweet'])\n",
    "df['Polarization hybrid measure'] = df['Tot connection user1,user2']*(10 - abs(df['Polarization Score Screen_name']-df['Polarization Score Retweet']))\n",
    "df['Sentiment hybrid measure'] = df['Tot connection user1,user2']*(10 - abs(df['Sentiment_Score_Vader_Screenname']-df['Sentiment_Score_Vader_Retweet']))"
   ]
  },
  {
   "cell_type": "code",
   "execution_count": 18,
   "id": "935e35fe",
   "metadata": {},
   "outputs": [
    {
     "data": {
      "text/plain": [
       "(0.0, 15.0)"
      ]
     },
     "execution_count": 18,
     "metadata": {},
     "output_type": "execute_result"
    },
    {
     "data": {
      "image/png": "[encoded data removed]",
      "text/plain": [
       "<Figure size 360x360 with 1 Axes>"
      ]
     },
     "metadata": {
      "needs_background": "light"
     },
     "output_type": "display_data"
    }
   ],
   "source": [
    "density = sns.displot(df, x='Polarization distance',kind=\"kde\", fill=True)\n",
    "plt.xlim(0,+15)"
   ]
  },
  {
   "cell_type": "code",
   "execution_count": 19,
   "id": "dfbe65a7",
   "metadata": {},
   "outputs": [
    {
     "data": {
      "text/plain": [
       "(0.0, 15.0)"
      ]
     },
     "execution_count": 19,
     "metadata": {},
     "output_type": "execute_result"
    },
    {
     "data": {
      "image/png": "[encoded data removed]",
      "text/plain": [
       "<Figure size 360x360 with 1 Axes>"
      ]
     },
     "metadata": {
      "needs_background": "light"
     },
     "output_type": "display_data"
    }
   ],
   "source": [
    "density = sns.displot(df, x='Sentiment distance',kind=\"kde\", fill=True)\n",
    "plt.xlim(0,15)"
   ]
  },
  {
   "cell_type": "code",
   "execution_count": 20,
   "id": "36f4de57",
   "metadata": {
    "scrolled": true
   },
   "outputs": [
    {
     "name": "stdout",
     "output_type": "stream",
     "text": [
      "<class 'pandas.core.frame.DataFrame'>\n",
      "Int64Index: 612775 entries, 0 to 612774\n",
      "Data columns (total 14 columns):\n",
      " #   Column                            Non-Null Count   Dtype  \n",
      "---  ------                            --------------   -----  \n",
      " 0   Screen_name                       612775 non-null  object \n",
      " 1   Retweet                           612775 non-null  object \n",
      " 2   Text_clean                        612775 non-null  object \n",
      " 3   Day                               612775 non-null  int64  \n",
      " 4   Polarization Score                612775 non-null  float64\n",
      " 5   Polarization Score Screen_name    612775 non-null  int32  \n",
      " 6   Polarization Score Retweet        612775 non-null  int32  \n",
      " 7   Tot connection user1,user2        612775 non-null  int64  \n",
      " 8   Sentiment_Score_Vader_Screenname  612775 non-null  int32  \n",
      " 9   Sentiment_Score_Vader_Retweet     612775 non-null  int32  \n",
      " 10  Polarization distance             612775 non-null  int32  \n",
      " 11  Sentiment distance                612775 non-null  int32  \n",
      " 12  Polarization hybrid measure       612775 non-null  int64  \n",
      " 13  Sentiment hybrid measure          612775 non-null  int64  \n",
      "dtypes: float64(1), int32(6), int64(4), object(3)\n",
      "memory usage: 56.1+ MB\n"
     ]
    }
   ],
   "source": [
    "df['Key'] = df['Screen_name'] + df['Retweet']\n",
    "df = df.drop_duplicates(subset=[\"Key\"], keep='last')\n",
    "df = df.drop(['Key'],axis=1)\n",
    "df.info()"
   ]
  },
  {
   "cell_type": "markdown",
   "id": "c6d9c1b1",
   "metadata": {},
   "source": [
    "COMMUNITY DETECTION"
   ]
  },
  {
   "cell_type": "markdown",
   "id": "3f7c1f9e",
   "metadata": {},
   "source": [
    "DAY 2"
   ]
  },
  {
   "cell_type": "code",
   "execution_count": 21,
   "id": "45dc7985",
   "metadata": {},
   "outputs": [],
   "source": [
    "df_2Nov = df.loc[df['Day']==2]\n",
    "#df_2Nov = df_2Nov[['Screen_name','Retweet','Text_clean', 'Sentiment_Score_Vader_Screenname', 'Polarization Score Screen_name' ,'Polarization hybrid measure','Sentiment hybrid measure','Polarization distance','Sentiment distance']]\n",
    "#weights = dict(zip([tuple(x) for x in df_2Nov[['Screen_name','Retweet']].to_numpy()],df['Hybrid_measure']))\n",
    "G=nx.from_pandas_edgelist(df_2Nov,\"Screen_name\", \"Retweet\",create_using=nx.Graph(), edge_attr=['Tot connection user1,user2','Polarization hybrid measure','Sentiment hybrid measure','Polarization distance','Sentiment distance'])\n",
    "\n",
    "noweight_parts = nxmetis.partition(G, 2, edge_weight = 'Tot connection user1,user2', node_weight=None, node_size=None)\n",
    "sentiment_parts = nxmetis.partition(G, 2, edge_weight = 'Sentiment distance' , node_weight=None, node_size=None)\n",
    "polarization_parts = nxmetis.partition(G, 2, edge_weight = 'Polarization distance' , node_weight=None, node_size=None)\n",
    "sentimenthybrid_parts = nxmetis.partition(G, 2, edge_weight = 'Sentiment hybrid measure' , node_weight=None, node_size=None)\n",
    "polarizationhybrid_parts = nxmetis.partition(G, 2, edge_weight = 'Polarization hybrid measure' , node_weight=None, node_size=None)"
   ]
  },
  {
   "cell_type": "code",
   "execution_count": 22,
   "id": "d3825ba7",
   "metadata": {},
   "outputs": [
    {
     "name": "stdout",
     "output_type": "stream",
     "text": [
      "--------TOPOLOGICAL WEIGHT--------\n",
      "                         min         max         avg        std\n",
      "Index                                                          \n",
      "Internal Density      0.0001      0.0002      0.0002     0.0000\n",
      "Edges inside      10179.0000  14777.0000  12478.0000  2299.0000\n",
      "Average Degree        1.7049      2.4738      2.0893     0.3844\n",
      "FOMD                  0.1238      0.2584      0.1911     0.0673\n",
      "TPR                   0.0022      0.0160      0.0091     0.0069\n",
      "Expansion             0.0029      0.0029      0.0029     0.0000\n",
      "Cut Ratio             0.0000      0.0000      0.0000     0.0000\n",
      "Conductance           0.0012      0.0017      0.0014     0.0003\n",
      "Normalized Cut        0.0029      0.0029      0.0029     0.0000\n",
      "Maximum-ODF           3.0000      7.0000      5.0000     2.0000\n",
      "Average-ODF           0.0029      0.0029      0.0029     0.0000\n",
      "Flake-ODF             0.0000      0.0000      0.0000     0.0000\n",
      "                          value\n",
      "Index                          \n",
      "Modularity (no overlap)  0.4817\n",
      "--------SENTIMENT WEIGHT--------\n",
      "                         min         max         avg        std\n",
      "Index                                                          \n",
      "Internal Density      0.0001      0.0002      0.0002     0.0000\n",
      "Edges inside      10169.0000  14791.0000  12480.0000  2311.0000\n",
      "Average Degree        1.7002      2.4805      2.0903     0.3901\n",
      "FOMD                  0.1333      0.2490      0.1912     0.0578\n",
      "TPR                   0.0024      0.0158      0.0091     0.0067\n",
      "Expansion             0.0026      0.0026      0.0026     0.0000\n",
      "Cut Ratio             0.0000      0.0000      0.0000     0.0000\n",
      "Conductance           0.0010      0.0015      0.0013     0.0002\n",
      "Normalized Cut        0.0026      0.0026      0.0026     0.0000\n",
      "Maximum-ODF           2.0000      6.0000      4.0000     2.0000\n",
      "Average-ODF           0.0026      0.0026      0.0026     0.0000\n",
      "Flake-ODF             0.0000      0.0000      0.0000     0.0000\n",
      "                          value\n",
      "Index                          \n",
      "Modularity (no overlap)  0.4817\n",
      "--------POLARIZATION WEIGHT--------\n",
      "                         min         max         avg        std\n",
      "Index                                                          \n",
      "Internal Density      0.0001      0.0002      0.0002     0.0000\n",
      "Edges inside      10183.0000  14773.0000  12478.0000  2295.0000\n",
      "Average Degree        1.7050      2.4739      2.0894     0.3845\n",
      "FOMD                  0.1318      0.2504      0.1911     0.0593\n",
      "TPR                   0.0024      0.0157      0.0091     0.0067\n",
      "Expansion             0.0029      0.0029      0.0029     0.0000\n",
      "Cut Ratio             0.0000      0.0000      0.0000     0.0000\n",
      "Conductance           0.0012      0.0017      0.0014     0.0003\n",
      "Normalized Cut        0.0029      0.0029      0.0029     0.0000\n",
      "Maximum-ODF           3.0000      5.0000      4.0000     1.0000\n",
      "Average-ODF           0.0029      0.0029      0.0029     0.0000\n",
      "Flake-ODF             0.0000      0.0000      0.0000     0.0000\n",
      "                          value\n",
      "Index                          \n",
      "Modularity (no overlap)  0.4817\n",
      "--------SENTIMENT BOOSTER WEIGHT--------\n",
      "                         min         max         avg        std\n",
      "Index                                                          \n",
      "Internal Density      0.0001      0.0002      0.0002     0.0000\n",
      "Edges inside      10169.0000  14791.0000  12480.0000  2311.0000\n",
      "Average Degree        1.7002      2.4805      2.0903     0.3901\n",
      "FOMD                  0.1333      0.2490      0.1912     0.0578\n",
      "TPR                   0.0024      0.0158      0.0091     0.0067\n",
      "Expansion             0.0026      0.0026      0.0026     0.0000\n",
      "Cut Ratio             0.0000      0.0000      0.0000     0.0000\n",
      "Conductance           0.0010      0.0015      0.0013     0.0002\n",
      "Normalized Cut        0.0026      0.0026      0.0026     0.0000\n",
      "Maximum-ODF           2.0000      6.0000      4.0000     2.0000\n",
      "Average-ODF           0.0026      0.0026      0.0026     0.0000\n",
      "Flake-ODF             0.0000      0.0000      0.0000     0.0000\n",
      "                          value\n",
      "Index                          \n",
      "Modularity (no overlap)  0.4817\n",
      "--------POLARIZATION BOOSTER WEIGHT--------\n",
      "                         min         max         avg        std\n",
      "Index                                                          \n",
      "Internal Density      0.0001      0.0002      0.0002     0.0000\n",
      "Edges inside      10183.0000  14773.0000  12478.0000  2295.0000\n",
      "Average Degree        1.7050      2.4739      2.0894     0.3845\n",
      "FOMD                  0.1318      0.2504      0.1911     0.0593\n",
      "TPR                   0.0024      0.0157      0.0091     0.0067\n",
      "Expansion             0.0029      0.0029      0.0029     0.0000\n",
      "Cut Ratio             0.0000      0.0000      0.0000     0.0000\n",
      "Conductance           0.0012      0.0017      0.0014     0.0003\n",
      "Normalized Cut        0.0029      0.0029      0.0029     0.0000\n",
      "Maximum-ODF           3.0000      5.0000      4.0000     1.0000\n",
      "Average-ODF           0.0029      0.0029      0.0029     0.0000\n",
      "Flake-ODF             0.0000      0.0000      0.0000     0.0000\n",
      "                          value\n",
      "Index                          \n",
      "Modularity (no overlap)  0.4817\n"
     ]
    }
   ],
   "source": [
    "#FOMD\n",
    "#average degree\n",
    "#Expansion\n",
    "#Maximum-ODF\n",
    "noweight_communities = list(noweight_parts[1])\n",
    "scores_now = pquality.pquality_summary(G,noweight_communities)\n",
    "print(\"--------TOPOLOGICAL WEIGHT--------\")\n",
    "print(scores_now['Indexes'].round(4))\n",
    "print(scores_now['Modularity'].round(4))\n",
    "noweight_communities = pd.DataFrame(noweight_communities)\n",
    "noweight_communities_2 = noweight_communities.transpose()\n",
    "#------------------------------\n",
    "sentiment_parts_communities = list(sentiment_parts[1])\n",
    "sent_now = pquality.pquality_summary(G,sentiment_parts_communities)\n",
    "print(\"--------SENTIMENT WEIGHT--------\")\n",
    "print(sent_now['Indexes'].round(4))\n",
    "print(sent_now['Modularity'].round(4))\n",
    "sentiment_parts_communities = pd.DataFrame(sentiment_parts_communities)\n",
    "sentiment_parts_communities_2 = sentiment_parts_communities.transpose()\n",
    "#------------------------------\n",
    "polarization_parts_communities = list(polarization_parts[1])\n",
    "scores_pol = pquality.pquality_summary(G,polarization_parts_communities)\n",
    "print(\"--------POLARIZATION WEIGHT--------\")\n",
    "print(scores_pol['Indexes'].round(4))\n",
    "print(scores_pol['Modularity'].round(4))\n",
    "polarization_parts_communities = pd.DataFrame(polarization_parts_communities)\n",
    "polarization_parts_communities_2 = polarization_parts_communities.transpose()\n",
    "#------------------------------\n",
    "sentimenthybrid_parts_communities = list(sentimenthybrid_parts[1])\n",
    "scores_senthib = pquality.pquality_summary(G,sentimenthybrid_parts_communities)\n",
    "print(\"--------SENTIMENT BOOSTER WEIGHT--------\")\n",
    "print(scores_senthib['Indexes'].round(4))\n",
    "print(scores_senthib['Modularity'].round(4))\n",
    "sentimenthybrid_parts_communities = pd.DataFrame(sentimenthybrid_parts_communities)\n",
    "sentimenthybrid_parts_communities_2 = sentimenthybrid_parts_communities.transpose()\n",
    "#-----------------------------\n",
    "polarizationhybrid_parts_communities = list(polarizationhybrid_parts[1])\n",
    "scores_polhib = pquality.pquality_summary(G,polarizationhybrid_parts_communities)\n",
    "print(\"--------POLARIZATION BOOSTER WEIGHT--------\")\n",
    "print(scores_polhib['Indexes'].round(4))\n",
    "print(scores_polhib['Modularity'].round(4))\n",
    "polarizationhybrid_parts_communities = pd.DataFrame(polarizationhybrid_parts_communities)\n",
    "polarizationhybrid_parts_communities_2 = polarizationhybrid_parts_communities.transpose()"
   ]
  },
  {
   "cell_type": "code",
   "execution_count": 23,
   "id": "e6d0d98f",
   "metadata": {},
   "outputs": [
    {
     "name": "stderr",
     "output_type": "stream",
     "text": [
      "C:\\Users\\acer\\AppData\\Local\\Temp/ipykernel_12572/3314108553.py:3: SettingWithCopyWarning: \n",
      "A value is trying to be set on a copy of a slice from a DataFrame.\n",
      "Try using .loc[row_indexer,col_indexer] = value instead\n",
      "\n",
      "See the caveats in the documentation: https://pandas.pydata.org/pandas-docs/stable/user_guide/indexing.html#returning-a-view-versus-a-copy\n",
      "  df_2Nov[\"Community_Screen_name\"] = np.where(df_2Nov[\"Screen_name\"].isin(community0), \"0\", \"1\")\n",
      "C:\\Users\\acer\\AppData\\Local\\Temp/ipykernel_12572/3314108553.py:4: SettingWithCopyWarning: \n",
      "A value is trying to be set on a copy of a slice from a DataFrame.\n",
      "Try using .loc[row_indexer,col_indexer] = value instead\n",
      "\n",
      "See the caveats in the documentation: https://pandas.pydata.org/pandas-docs/stable/user_guide/indexing.html#returning-a-view-versus-a-copy\n",
      "  df_2Nov[\"Community_Retweet\"] = np.where(df_2Nov[\"Retweet\"].isin(community0), \"0\", \"1\")\n"
     ]
    },
    {
     "name": "stdout",
     "output_type": "stream",
     "text": [
      "Modularity community 0:  0.7892406667008564\n",
      "Density della community 0:  0.00020702459017586842\n",
      "Modularity community 1:  0.950211865454915\n",
      "Density della community 1:  0.00014276521230291076\n",
      "11953\n",
      "11956\n"
     ]
    }
   ],
   "source": [
    "#STUDY THE COMMUNITIES FORMED USING ONLY THE TOPOLOGICAL STRUCTURE\n",
    "community0 = list(noweight_communities_2[0])\n",
    "df_2Nov[\"Community_Screen_name\"] = np.where(df_2Nov[\"Screen_name\"].isin(community0), \"0\", \"1\")\n",
    "df_2Nov[\"Community_Retweet\"] = np.where(df_2Nov[\"Retweet\"].isin(community0), \"0\", \"1\")\n",
    "df_2Nov_community0 = df_2Nov.loc[df_2Nov['Community_Screen_name']=='0']\n",
    "df_2Nov_community1 = df_2Nov.loc[df_2Nov['Community_Screen_name']=='1']\n",
    "Gcommunity0_2Nov = nx.from_pandas_edgelist(df_2Nov_community0, 'Screen_name', 'Retweet')\n",
    "mod0_2nov = community.modularity(community.best_partition(Gcommunity0_2Nov, random_state=1),Gcommunity0_2Nov)\n",
    "print(\"Modularity community 0: \", community.modularity(community.best_partition(Gcommunity0_2Nov, random_state=1),Gcommunity0_2Nov))\n",
    "print(\"Density della community 0: \", nx.density(Gcommunity0_2Nov))\n",
    "\n",
    "Gcommunity1_2Nov = nx.from_pandas_edgelist(df_2Nov_community1, 'Screen_name', 'Retweet')\n",
    "print(\"Modularity community 1: \", community.modularity(community.best_partition(Gcommunity1_2Nov,random_state=1),Gcommunity1_2Nov))\n",
    "print(\"Density della community 1: \", nx.density(Gcommunity1_2Nov))\n",
    "\n",
    "nowmod0_2nov = community.modularity(community.best_partition(Gcommunity0_2Nov, random_state=1),Gcommunity0_2Nov)\n",
    "nowmod1_2nov = community.modularity(community.best_partition(Gcommunity1_2Nov,random_state=1),Gcommunity1_2Nov)\n",
    "nodes_comm0_noweight2nov = Gcommunity0_2Nov.number_of_nodes()\n",
    "nodes_comm1_noweight2nov = Gcommunity1_2Nov.number_of_nodes()\n",
    "print(nodes_comm0_noweight2nov)\n",
    "print(nodes_comm1_noweight2nov)"
   ]
  },
  {
   "cell_type": "code",
   "execution_count": 24,
   "id": "0b5e9f7c",
   "metadata": {},
   "outputs": [
    {
     "name": "stderr",
     "output_type": "stream",
     "text": [
      "C:\\Users\\acer\\AppData\\Local\\Temp/ipykernel_12572/538496119.py:3: SettingWithCopyWarning: \n",
      "A value is trying to be set on a copy of a slice from a DataFrame.\n",
      "Try using .loc[row_indexer,col_indexer] = value instead\n",
      "\n",
      "See the caveats in the documentation: https://pandas.pydata.org/pandas-docs/stable/user_guide/indexing.html#returning-a-view-versus-a-copy\n",
      "  df_2Nov[\"Community_Screen_name\"] = np.where(df_2Nov[\"Screen_name\"].isin(community0), \"0\", \"1\")\n",
      "C:\\Users\\acer\\AppData\\Local\\Temp/ipykernel_12572/538496119.py:4: SettingWithCopyWarning: \n",
      "A value is trying to be set on a copy of a slice from a DataFrame.\n",
      "Try using .loc[row_indexer,col_indexer] = value instead\n",
      "\n",
      "See the caveats in the documentation: https://pandas.pydata.org/pandas-docs/stable/user_guide/indexing.html#returning-a-view-versus-a-copy\n",
      "  df_2Nov[\"Community_Retweet\"] = np.where(df_2Nov[\"Retweet\"].isin(community0), \"0\", \"1\")\n"
     ]
    },
    {
     "name": "stdout",
     "output_type": "stream",
     "text": [
      "Modularity community 0:  95.07763836406234\n",
      "Modularity community 1:  78.94897056409299\n",
      "11972\n",
      "11937\n"
     ]
    }
   ],
   "source": [
    "#STUDY THE COMMUNITIES FORMED USING THE SENTIMENT SIMILARITY\n",
    "community0 = list(sentiment_parts_communities_2[0])\n",
    "df_2Nov[\"Community_Screen_name\"] = np.where(df_2Nov[\"Screen_name\"].isin(community0), \"0\", \"1\")\n",
    "df_2Nov[\"Community_Retweet\"] = np.where(df_2Nov[\"Retweet\"].isin(community0), \"0\", \"1\")\n",
    "df_2Nov_community0 = df_2Nov.loc[df_2Nov['Community_Screen_name']=='0']\n",
    "df_2Nov_community1 = df_2Nov.loc[df_2Nov['Community_Screen_name']=='1']\n",
    "Gcommunity0_2Nov = nx.from_pandas_edgelist(df_2Nov_community0, 'Screen_name', 'Retweet')\n",
    "mod0_2nov = community.modularity(community.best_partition(Gcommunity0_2Nov, random_state=1),Gcommunity0_2Nov)*100\n",
    "print(\"Modularity community 0: \", community.modularity(community.best_partition(Gcommunity0_2Nov, random_state=1),Gcommunity0_2Nov)*100)\n",
    "Gcommunity1_2Nov = nx.from_pandas_edgelist(df_2Nov_community1, 'Screen_name', 'Retweet')\n",
    "print(\"Modularity community 1: \", community.modularity(community.best_partition(Gcommunity1_2Nov,random_state=1),Gcommunity1_2Nov)*100)\n",
    "sentsimmod0_2nov = community.modularity(community.best_partition(Gcommunity0_2Nov, random_state=1),Gcommunity0_2Nov)*100\n",
    "sentsimmod1_2nov = community.modularity(community.best_partition(Gcommunity1_2Nov,random_state=1),Gcommunity1_2Nov)*100\n",
    "\n",
    "nodes_comm0_sentsimmod0_2nov = Gcommunity0_2Nov.number_of_nodes()\n",
    "nodes_comm1_sentsimmod1_2nov = Gcommunity1_2Nov.number_of_nodes()\n",
    "print(nodes_comm0_sentsimmod0_2nov)\n",
    "print(nodes_comm1_sentsimmod1_2nov)"
   ]
  },
  {
   "cell_type": "code",
   "execution_count": 25,
   "id": "76a9cb34",
   "metadata": {},
   "outputs": [
    {
     "name": "stderr",
     "output_type": "stream",
     "text": [
      "C:\\Users\\acer\\AppData\\Local\\Temp/ipykernel_12572/1541213851.py:3: SettingWithCopyWarning: \n",
      "A value is trying to be set on a copy of a slice from a DataFrame.\n",
      "Try using .loc[row_indexer,col_indexer] = value instead\n",
      "\n",
      "See the caveats in the documentation: https://pandas.pydata.org/pandas-docs/stable/user_guide/indexing.html#returning-a-view-versus-a-copy\n",
      "  df_2Nov[\"Community_Screen_name\"] = np.where(df_2Nov[\"Screen_name\"].isin(community0), \"0\", \"1\")\n",
      "C:\\Users\\acer\\AppData\\Local\\Temp/ipykernel_12572/1541213851.py:4: SettingWithCopyWarning: \n",
      "A value is trying to be set on a copy of a slice from a DataFrame.\n",
      "Try using .loc[row_indexer,col_indexer] = value instead\n",
      "\n",
      "See the caveats in the documentation: https://pandas.pydata.org/pandas-docs/stable/user_guide/indexing.html#returning-a-view-versus-a-copy\n",
      "  df_2Nov[\"Community_Retweet\"] = np.where(df_2Nov[\"Retweet\"].isin(community0), \"0\", \"1\")\n"
     ]
    },
    {
     "name": "stdout",
     "output_type": "stream",
     "text": [
      "Modularity community 0:  78.99073321652595\n",
      "Modularity community 1:  95.04413812922408\n",
      "11954\n",
      "11955\n"
     ]
    }
   ],
   "source": [
    "#STUDY THE COMMUNITIES FORMED USING THE POLARIZATION SIMILARITY\n",
    "community0 = list(polarization_parts_communities_2[0])\n",
    "df_2Nov[\"Community_Screen_name\"] = np.where(df_2Nov[\"Screen_name\"].isin(community0), \"0\", \"1\")\n",
    "df_2Nov[\"Community_Retweet\"] = np.where(df_2Nov[\"Retweet\"].isin(community0), \"0\", \"1\")\n",
    "df_2Nov_community0 = df_2Nov.loc[df_2Nov['Community_Screen_name']=='0']\n",
    "df_2Nov_community1 = df_2Nov.loc[df_2Nov['Community_Screen_name']=='1']\n",
    "Gcommunity0_2Nov = nx.from_pandas_edgelist(df_2Nov_community0, 'Screen_name', 'Retweet')\n",
    "mod0_2nov = community.modularity(community.best_partition(Gcommunity0_2Nov, random_state=1),Gcommunity0_2Nov)*100\n",
    "print(\"Modularity community 0: \", community.modularity(community.best_partition(Gcommunity0_2Nov, random_state=1),Gcommunity0_2Nov)*100)\n",
    "Gcommunity1_2Nov = nx.from_pandas_edgelist(df_2Nov_community1, 'Screen_name', 'Retweet')\n",
    "print(\"Modularity community 1: \", community.modularity(community.best_partition(Gcommunity1_2Nov,random_state=1),Gcommunity1_2Nov)*100)\n",
    "polsimmod0_2nov = community.modularity(community.best_partition(Gcommunity0_2Nov, random_state=1),Gcommunity0_2Nov)*100\n",
    "polsimmod1_2nov = community.modularity(community.best_partition(Gcommunity1_2Nov,random_state=1),Gcommunity1_2Nov)*100\n",
    "\n",
    "nodes_comm0_polsimmod0_2nov = Gcommunity0_2Nov.number_of_nodes()\n",
    "nodes_comm1_polsimmod1_2nov = Gcommunity1_2Nov.number_of_nodes()\n",
    "print(nodes_comm0_polsimmod0_2nov)\n",
    "print(nodes_comm1_polsimmod1_2nov)"
   ]
  },
  {
   "cell_type": "code",
   "execution_count": 28,
   "id": "93d34f6d",
   "metadata": {},
   "outputs": [
    {
     "name": "stderr",
     "output_type": "stream",
     "text": [
      "C:\\Users\\acer\\AppData\\Local\\Temp/ipykernel_13640/2501463828.py:3: SettingWithCopyWarning: \n",
      "A value is trying to be set on a copy of a slice from a DataFrame.\n",
      "Try using .loc[row_indexer,col_indexer] = value instead\n",
      "\n",
      "See the caveats in the documentation: https://pandas.pydata.org/pandas-docs/stable/user_guide/indexing.html#returning-a-view-versus-a-copy\n",
      "  df_2Nov[\"Community_Screen_name\"] = np.where(df_2Nov[\"Screen_name\"].isin(community0), \"0\", \"1\")\n",
      "C:\\Users\\acer\\AppData\\Local\\Temp/ipykernel_13640/2501463828.py:4: SettingWithCopyWarning: \n",
      "A value is trying to be set on a copy of a slice from a DataFrame.\n",
      "Try using .loc[row_indexer,col_indexer] = value instead\n",
      "\n",
      "See the caveats in the documentation: https://pandas.pydata.org/pandas-docs/stable/user_guide/indexing.html#returning-a-view-versus-a-copy\n",
      "  df_2Nov[\"Community_Retweet\"] = np.where(df_2Nov[\"Retweet\"].isin(community0), \"0\", \"1\")\n"
     ]
    },
    {
     "name": "stdout",
     "output_type": "stream",
     "text": [
      "Modularity community 0:  95.18693809520136\n",
      "Modularity community 1:  79.87551789164726\n",
      "11591\n",
      "11561\n"
     ]
    }
   ],
   "source": [
    "#STUDY THE COMMUNITIES FORMED USING THE SENTIMENT BOOST\n",
    "community0 = list(sentimenthybrid_parts_communities_2[0])\n",
    "df_2Nov[\"Community_Screen_name\"] = np.where(df_2Nov[\"Screen_name\"].isin(community0), \"0\", \"1\")\n",
    "df_2Nov[\"Community_Retweet\"] = np.where(df_2Nov[\"Retweet\"].isin(community0), \"0\", \"1\")\n",
    "df_2Nov_community0 = df_2Nov.loc[df_2Nov['Community_Screen_name']=='0']\n",
    "df_2Nov_community1 = df_2Nov.loc[df_2Nov['Community_Screen_name']=='1']\n",
    "Gcommunity0_2Nov = nx.from_pandas_edgelist(df_2Nov_community0, 'Screen_name', 'Retweet')\n",
    "print(\"Modularity community 0: \", community.modularity(community.best_partition(Gcommunity0_2Nov, random_state=1),Gcommunity0_2Nov)*100)\n",
    "Gcommunity1_2Nov = nx.from_pandas_edgelist(df_2Nov_community1, 'Screen_name', 'Retweet')\n",
    "print(\"Modularity community 1: \", community.modularity(community.best_partition(Gcommunity1_2Nov, random_state=1),Gcommunity1_2Nov)*100)\n",
    "sentmod0_2nov = community.modularity(community.best_partition(Gcommunity0_2Nov, random_state=1),Gcommunity0_2Nov)*100\n",
    "sentmod1_2nov = community.modularity(community.best_partition(Gcommunity1_2Nov,random_state=1),Gcommunity1_2Nov)*100\n",
    "\n",
    "nodes_comm0_sent2nov = Gcommunity0_2Nov.number_of_nodes()\n",
    "nodes_comm1_sent2nov = Gcommunity1_2Nov.number_of_nodes()\n",
    "print(nodes_comm0_sent2nov)\n",
    "print(nodes_comm1_sent2nov)"
   ]
  },
  {
   "cell_type": "code",
   "execution_count": 26,
   "id": "2955b9c9",
   "metadata": {},
   "outputs": [],
   "source": [
    "df_2Nov.to_csv(\"C:/Users/acer/OneDrive/Desktop/MATERIALE TESI/DATASET/Evaluation dataset/Sentiment community/day2_sent.csv\", index=False)"
   ]
  },
  {
   "cell_type": "code",
   "execution_count": 27,
   "id": "c46cf059",
   "metadata": {},
   "outputs": [
    {
     "name": "stderr",
     "output_type": "stream",
     "text": [
      "C:\\Users\\acer\\AppData\\Local\\Temp/ipykernel_12572/7111892.py:3: SettingWithCopyWarning: \n",
      "A value is trying to be set on a copy of a slice from a DataFrame.\n",
      "Try using .loc[row_indexer,col_indexer] = value instead\n",
      "\n",
      "See the caveats in the documentation: https://pandas.pydata.org/pandas-docs/stable/user_guide/indexing.html#returning-a-view-versus-a-copy\n",
      "  df_2Nov[\"Community_Screen_name\"] = np.where(df_2Nov[\"Screen_name\"].isin(community0), \"0\", \"1\")\n",
      "C:\\Users\\acer\\AppData\\Local\\Temp/ipykernel_12572/7111892.py:4: SettingWithCopyWarning: \n",
      "A value is trying to be set on a copy of a slice from a DataFrame.\n",
      "Try using .loc[row_indexer,col_indexer] = value instead\n",
      "\n",
      "See the caveats in the documentation: https://pandas.pydata.org/pandas-docs/stable/user_guide/indexing.html#returning-a-view-versus-a-copy\n",
      "  df_2Nov[\"Community_Retweet\"] = np.where(df_2Nov[\"Retweet\"].isin(community0), \"0\", \"1\")\n"
     ]
    },
    {
     "name": "stdout",
     "output_type": "stream",
     "text": [
      "Modularity community 0:  78.99073321652595\n",
      "Modularity community 1:  95.04413812922408\n",
      "11954\n",
      "11955\n"
     ]
    }
   ],
   "source": [
    "#STUDY THE COMMUNITIES FORMED USING THE POLARIZATION BOOST\n",
    "community0 = list(polarizationhybrid_parts_communities_2[0])\n",
    "df_2Nov[\"Community_Screen_name\"] = np.where(df_2Nov[\"Screen_name\"].isin(community0), \"0\", \"1\")\n",
    "df_2Nov[\"Community_Retweet\"] = np.where(df_2Nov[\"Retweet\"].isin(community0), \"0\", \"1\")\n",
    "df_2Nov_community0 = df_2Nov.loc[df_2Nov['Community_Screen_name']=='0']\n",
    "df_2Nov_community1 = df_2Nov.loc[df_2Nov['Community_Screen_name']=='1']\n",
    "Gcommunity0_2Nov = nx.from_pandas_edgelist(df_2Nov_community0, 'Screen_name', 'Retweet')\n",
    "print(\"Modularity community 0: \", community.modularity(community.best_partition(Gcommunity0_2Nov, random_state=1),Gcommunity0_2Nov)*100)\n",
    "Gcommunity1_2Nov = nx.from_pandas_edgelist(df_2Nov_community1, 'Screen_name', 'Retweet')\n",
    "print(\"Modularity community 1: \", community.modularity(community.best_partition(Gcommunity1_2Nov, random_state=1),Gcommunity1_2Nov)*100)\n",
    "polmod0_2nov = community.modularity(community.best_partition(Gcommunity0_2Nov, random_state=1),Gcommunity0_2Nov)*100\n",
    "polmod1_2nov = community.modularity(community.best_partition(Gcommunity1_2Nov,random_state=1),Gcommunity1_2Nov)*100\n",
    "\n",
    "nodes_comm0_pol2nov = Gcommunity0_2Nov.number_of_nodes()\n",
    "nodes_comm1_pol2nov = Gcommunity1_2Nov.number_of_nodes()\n",
    "print(nodes_comm0_pol2nov)\n",
    "print(nodes_comm1_pol2nov)"
   ]
  },
  {
   "cell_type": "markdown",
   "id": "0618f146",
   "metadata": {},
   "source": [
    "DAY 3"
   ]
  },
  {
   "cell_type": "code",
   "execution_count": 28,
   "id": "858ac3ba",
   "metadata": {},
   "outputs": [],
   "source": [
    "df_3Nov = df.loc[df['Day']==3]\n",
    "#df_3Nov = df_3Nov[['Screen_name','Retweet','Text_clean','Polarization hybrid measure','Sentiment hybrid measure','Polarization distance','Sentiment distance']]\n",
    "#weights = dict(zip([tuple(x) for x in df_2Nov[['Screen_name','Retweet']].to_numpy()],df['Hybrid_measure']))\n",
    "G=nx.from_pandas_edgelist(df_3Nov,\"Screen_name\", \"Retweet\",create_using=nx.Graph(), edge_attr=['Tot connection user1,user2','Polarization hybrid measure','Sentiment hybrid measure','Polarization distance','Sentiment distance'])\n",
    "\n",
    "noweight_parts = nxmetis.partition(G, 2, edge_weight = 'Tot connection user1,user2', node_weight=None, node_size=None)\n",
    "sentiment_parts = nxmetis.partition(G, 2, edge_weight = 'Sentiment distance' , node_weight=None, node_size=None)\n",
    "polarization_parts = nxmetis.partition(G, 2, edge_weight = 'Polarization distance' , node_weight=None, node_size=None)\n",
    "sentimenthybrid_parts = nxmetis.partition(G, 2, edge_weight = 'Sentiment hybrid measure' , node_weight=None, node_size=None)\n",
    "polarizationhybrid_parts = nxmetis.partition(G, 2, edge_weight = 'Polarization hybrid measure' , node_weight=None, node_size=None)"
   ]
  },
  {
   "cell_type": "code",
   "execution_count": 29,
   "id": "335a8510",
   "metadata": {},
   "outputs": [
    {
     "name": "stdout",
     "output_type": "stream",
     "text": [
      "--------TOPOLOGICAL WEIGHT--------\n",
      "                         min         max         avg        std\n",
      "Index                                                          \n",
      "Internal Density      0.0001      0.0001      0.0001     0.0000\n",
      "Edges inside      28695.0000  43479.0000  36087.0000  7392.0000\n",
      "Average Degree        1.8084      2.7443      2.2763     0.4679\n",
      "FOMD                  0.1569      0.2961      0.2265     0.0696\n",
      "TPR                   0.0051      0.0385      0.0218     0.0167\n",
      "Expansion             0.0053      0.0053      0.0053     0.0000\n",
      "Cut Ratio             0.0000      0.0000      0.0000     0.0000\n",
      "Conductance           0.0019      0.0029      0.0024     0.0005\n",
      "Normalized Cut        0.0049      0.0049      0.0049     0.0000\n",
      "Maximum-ODF           6.0000     10.0000      8.0000     2.0000\n",
      "Average-ODF           0.0053      0.0053      0.0053     0.0000\n",
      "Flake-ODF             0.0000      0.0000      0.0000     0.0000\n",
      "                          value\n",
      "Index                          \n",
      "Modularity (no overlap)  0.4768\n",
      "--------SENTIMENT WEIGHT--------\n",
      "                         min         max         avg        std\n",
      "Index                                                          \n",
      "Internal Density      0.0001      0.0001      0.0001     0.0000\n",
      "Edges inside      28825.0000  43334.0000  36079.5000  7254.5000\n",
      "Average Degree        1.8126      2.7412      2.2769     0.4643\n",
      "FOMD                  0.1607      0.2922      0.2265     0.0658\n",
      "TPR                   0.0052      0.0385      0.0219     0.0166\n",
      "Expansion             0.0058      0.0058      0.0058     0.0000\n",
      "Cut Ratio             0.0000      0.0000      0.0000     0.0000\n",
      "Conductance           0.0021      0.0032      0.0027     0.0005\n",
      "Normalized Cut        0.0053      0.0053      0.0053     0.0000\n",
      "Maximum-ODF           7.0000      8.0000      7.5000     0.5000\n",
      "Average-ODF           0.0058      0.0058      0.0058     0.0000\n",
      "Flake-ODF             0.0000      0.0000      0.0000     0.0000\n",
      "                          value\n",
      "Index                          \n",
      "Modularity (no overlap)  0.4773\n",
      "--------POLARIZATION WEIGHT--------\n",
      "                         min         max         avg        std\n",
      "Index                                                          \n",
      "Internal Density      0.0001      0.0001      0.0001     0.0000\n",
      "Edges inside      28820.0000  43355.0000  36087.5000  7267.5000\n",
      "Average Degree        1.8134      2.7408      2.2771     0.4637\n",
      "FOMD                  0.1615      0.2917      0.2266     0.0651\n",
      "TPR                   0.0053      0.0384      0.0218     0.0166\n",
      "Expansion             0.0053      0.0053      0.0053     0.0000\n",
      "Cut Ratio             0.0000      0.0000      0.0000     0.0000\n",
      "Conductance           0.0019      0.0029      0.0024     0.0005\n",
      "Normalized Cut        0.0048      0.0048      0.0048     0.0000\n",
      "Maximum-ODF           6.0000      9.0000      7.5000     1.5000\n",
      "Average-ODF           0.0053      0.0053      0.0053     0.0000\n",
      "Flake-ODF             0.0000      0.0000      0.0000     0.0000\n",
      "                          value\n",
      "Index                          \n",
      "Modularity (no overlap)  0.4775\n",
      "--------SENTIMENT BOOSTER WEIGHT--------\n",
      "                         min         max         avg        std\n",
      "Index                                                          \n",
      "Internal Density      0.0001      0.0001      0.0001     0.0000\n",
      "Edges inside      28825.0000  43334.0000  36079.5000  7254.5000\n",
      "Average Degree        1.8126      2.7412      2.2769     0.4643\n",
      "FOMD                  0.1607      0.2922      0.2265     0.0658\n",
      "TPR                   0.0052      0.0385      0.0219     0.0166\n",
      "Expansion             0.0058      0.0058      0.0058     0.0000\n",
      "Cut Ratio             0.0000      0.0000      0.0000     0.0000\n",
      "Conductance           0.0021      0.0032      0.0027     0.0005\n",
      "Normalized Cut        0.0053      0.0053      0.0053     0.0000\n",
      "Maximum-ODF           7.0000      8.0000      7.5000     0.5000\n",
      "Average-ODF           0.0058      0.0058      0.0058     0.0000\n",
      "Flake-ODF             0.0000      0.0000      0.0000     0.0000\n",
      "                          value\n",
      "Index                          \n",
      "Modularity (no overlap)  0.4773\n",
      "--------POLARIZATION BOOSTER WEIGHT--------\n",
      "                         min         max         avg        std\n",
      "Index                                                          \n",
      "Internal Density      0.0001      0.0001      0.0001     0.0000\n",
      "Edges inside      28820.0000  43355.0000  36087.5000  7267.5000\n",
      "Average Degree        1.8134      2.7408      2.2771     0.4637\n",
      "FOMD                  0.1615      0.2917      0.2266     0.0651\n",
      "TPR                   0.0053      0.0384      0.0218     0.0166\n",
      "Expansion             0.0053      0.0053      0.0053     0.0000\n",
      "Cut Ratio             0.0000      0.0000      0.0000     0.0000\n",
      "Conductance           0.0019      0.0029      0.0024     0.0005\n",
      "Normalized Cut        0.0048      0.0048      0.0048     0.0000\n",
      "Maximum-ODF           6.0000      9.0000      7.5000     1.5000\n",
      "Average-ODF           0.0053      0.0053      0.0053     0.0000\n",
      "Flake-ODF             0.0000      0.0000      0.0000     0.0000\n",
      "                          value\n",
      "Index                          \n",
      "Modularity (no overlap)  0.4775\n"
     ]
    }
   ],
   "source": [
    "#FOMD\n",
    "#average degree\n",
    "#Expansion\n",
    "#Maximum-ODF\n",
    "noweight_communities = list(noweight_parts[1])\n",
    "scores_now = pquality.pquality_summary(G,noweight_communities)\n",
    "print(\"--------TOPOLOGICAL WEIGHT--------\")\n",
    "print(scores_now['Indexes'].round(4))\n",
    "print(scores_now['Modularity'].round(4))\n",
    "noweight_communities = pd.DataFrame(noweight_communities)\n",
    "noweight_communities_3 = noweight_communities.transpose()\n",
    "#------------------------------\n",
    "sentiment_parts_communities = list(sentiment_parts[1])\n",
    "sent_now = pquality.pquality_summary(G,sentiment_parts_communities)\n",
    "print(\"--------SENTIMENT WEIGHT--------\")\n",
    "print(sent_now['Indexes'].round(4))\n",
    "print(sent_now['Modularity'].round(4))\n",
    "sentiment_parts_communities = pd.DataFrame(sentiment_parts_communities)\n",
    "sentiment_parts_communities_3 = sentiment_parts_communities.transpose()\n",
    "#------------------------------\n",
    "polarization_parts_communities = list(polarization_parts[1])\n",
    "scores_pol = pquality.pquality_summary(G,polarization_parts_communities)\n",
    "print(\"--------POLARIZATION WEIGHT--------\")\n",
    "print(scores_pol['Indexes'].round(4))\n",
    "print(scores_pol['Modularity'].round(4))\n",
    "polarization_parts_communities = pd.DataFrame(polarization_parts_communities)\n",
    "polarization_parts_communities_3 = polarization_parts_communities.transpose()\n",
    "#------------------------------\n",
    "sentimenthybrid_parts_communities = list(sentimenthybrid_parts[1])\n",
    "scores_senthib = pquality.pquality_summary(G,sentimenthybrid_parts_communities)\n",
    "print(\"--------SENTIMENT BOOSTER WEIGHT--------\")\n",
    "print(scores_senthib['Indexes'].round(4))\n",
    "print(scores_senthib['Modularity'].round(4))\n",
    "sentimenthybrid_parts_communities = pd.DataFrame(sentimenthybrid_parts_communities)\n",
    "sentimenthybrid_parts_communities_3 = sentimenthybrid_parts_communities.transpose()\n",
    "#-----------------------------\n",
    "polarizationhybrid_parts_communities = list(polarizationhybrid_parts[1])\n",
    "scores_polhib = pquality.pquality_summary(G,polarizationhybrid_parts_communities)\n",
    "print(\"--------POLARIZATION BOOSTER WEIGHT--------\")\n",
    "print(scores_polhib['Indexes'].round(4))\n",
    "print(scores_polhib['Modularity'].round(4))\n",
    "polarizationhybrid_parts_communities = pd.DataFrame(polarizationhybrid_parts_communities)\n",
    "polarizationhybrid_parts_communities_3 = polarizationhybrid_parts_communities.transpose()"
   ]
  },
  {
   "cell_type": "code",
   "execution_count": 30,
   "id": "5579efe7",
   "metadata": {},
   "outputs": [
    {
     "name": "stderr",
     "output_type": "stream",
     "text": [
      "C:\\Users\\acer\\AppData\\Local\\Temp/ipykernel_12572/2379415859.py:3: SettingWithCopyWarning: \n",
      "A value is trying to be set on a copy of a slice from a DataFrame.\n",
      "Try using .loc[row_indexer,col_indexer] = value instead\n",
      "\n",
      "See the caveats in the documentation: https://pandas.pydata.org/pandas-docs/stable/user_guide/indexing.html#returning-a-view-versus-a-copy\n",
      "  df_3Nov[\"Community_Screen_name\"] = np.where(df_3Nov[\"Screen_name\"].isin(community0), \"0\", \"1\")\n",
      "C:\\Users\\acer\\AppData\\Local\\Temp/ipykernel_12572/2379415859.py:4: SettingWithCopyWarning: \n",
      "A value is trying to be set on a copy of a slice from a DataFrame.\n",
      "Try using .loc[row_indexer,col_indexer] = value instead\n",
      "\n",
      "See the caveats in the documentation: https://pandas.pydata.org/pandas-docs/stable/user_guide/indexing.html#returning-a-view-versus-a-copy\n",
      "  df_3Nov[\"Community_Retweet\"] = np.where(df_3Nov[\"Retweet\"].isin(community0), \"0\", \"1\")\n"
     ]
    },
    {
     "name": "stdout",
     "output_type": "stream",
     "text": [
      "Modularity community 0:  93.64193528043586\n",
      "Modularity community 1:  71.95404121079278\n",
      "31780\n",
      "31757\n"
     ]
    }
   ],
   "source": [
    "#STUDY THE COMMUNITIES FORMED USING ONLY THE TOPOLOGICAL STRUCTURE\n",
    "community0 = list(noweight_communities_3[0])\n",
    "df_3Nov[\"Community_Screen_name\"] = np.where(df_3Nov[\"Screen_name\"].isin(community0), \"0\", \"1\")\n",
    "df_3Nov[\"Community_Retweet\"] = np.where(df_3Nov[\"Retweet\"].isin(community0), \"0\", \"1\")\n",
    "df_3Nov_community0 = df_3Nov.loc[df_3Nov['Community_Screen_name']=='0']\n",
    "df_3Nov_community1 = df_3Nov.loc[df_3Nov['Community_Screen_name']=='1']\n",
    "Gcommunity0_3Nov = nx.from_pandas_edgelist(df_3Nov_community0, 'Screen_name', 'Retweet')\n",
    "print(\"Modularity community 0: \", community.modularity(community.best_partition(Gcommunity0_3Nov, random_state=1),Gcommunity0_3Nov)*100)\n",
    "Gcommunity1_3Nov = nx.from_pandas_edgelist(df_3Nov_community1, 'Screen_name', 'Retweet')\n",
    "print(\"Modularity community 1: \", community.modularity(community.best_partition(Gcommunity1_3Nov, random_state=1),Gcommunity1_3Nov)*100)\n",
    "nowmod0_3nov = community.modularity(community.best_partition(Gcommunity0_3Nov, random_state=1),Gcommunity0_3Nov)*100\n",
    "nowmod1_3nov = community.modularity(community.best_partition(Gcommunity1_3Nov,random_state=1),Gcommunity1_3Nov)*100\n",
    "\n",
    "nodes_comm0_noweight3nov = Gcommunity0_3Nov.number_of_nodes()\n",
    "nodes_comm1_noweight3nov = Gcommunity1_3Nov.number_of_nodes()\n",
    "print(nodes_comm0_noweight3nov)\n",
    "print(nodes_comm1_noweight3nov)"
   ]
  },
  {
   "cell_type": "code",
   "execution_count": 31,
   "id": "0bef53a7",
   "metadata": {},
   "outputs": [
    {
     "name": "stderr",
     "output_type": "stream",
     "text": [
      "C:\\Users\\acer\\AppData\\Local\\Temp/ipykernel_12572/3884517560.py:3: SettingWithCopyWarning: \n",
      "A value is trying to be set on a copy of a slice from a DataFrame.\n",
      "Try using .loc[row_indexer,col_indexer] = value instead\n",
      "\n",
      "See the caveats in the documentation: https://pandas.pydata.org/pandas-docs/stable/user_guide/indexing.html#returning-a-view-versus-a-copy\n",
      "  df_3Nov[\"Community_Screen_name\"] = np.where(df_3Nov[\"Screen_name\"].isin(community0), \"0\", \"1\")\n",
      "C:\\Users\\acer\\AppData\\Local\\Temp/ipykernel_12572/3884517560.py:4: SettingWithCopyWarning: \n",
      "A value is trying to be set on a copy of a slice from a DataFrame.\n",
      "Try using .loc[row_indexer,col_indexer] = value instead\n",
      "\n",
      "See the caveats in the documentation: https://pandas.pydata.org/pandas-docs/stable/user_guide/indexing.html#returning-a-view-versus-a-copy\n",
      "  df_3Nov[\"Community_Retweet\"] = np.where(df_3Nov[\"Retweet\"].isin(community0), \"0\", \"1\")\n"
     ]
    },
    {
     "name": "stdout",
     "output_type": "stream",
     "text": [
      "Modularity community 0:  71.90864149984198\n",
      "Modularity community 1:  93.65344730811651\n",
      "31683\n",
      "31852\n"
     ]
    }
   ],
   "source": [
    "#STUDY THE COMMUNITIES FORMED USING THE SENTIMENT SIMILARITY\n",
    "community0 = list(sentiment_parts_communities_3[0])\n",
    "df_3Nov[\"Community_Screen_name\"] = np.where(df_3Nov[\"Screen_name\"].isin(community0), \"0\", \"1\")\n",
    "df_3Nov[\"Community_Retweet\"] = np.where(df_3Nov[\"Retweet\"].isin(community0), \"0\", \"1\")\n",
    "df_3Nov_community0 = df_3Nov.loc[df_3Nov['Community_Screen_name']=='0']\n",
    "df_3Nov_community1 = df_3Nov.loc[df_3Nov['Community_Screen_name']=='1']\n",
    "Gcommunity0_3Nov = nx.from_pandas_edgelist(df_3Nov_community0, 'Screen_name', 'Retweet')\n",
    "mod0_3nov = community.modularity(community.best_partition(Gcommunity0_3Nov, random_state=1),Gcommunity0_3Nov)*100\n",
    "print(\"Modularity community 0: \", community.modularity(community.best_partition(Gcommunity0_3Nov, random_state=1),Gcommunity0_3Nov)*100)\n",
    "Gcommunity1_3Nov = nx.from_pandas_edgelist(df_3Nov_community1, 'Screen_name', 'Retweet')\n",
    "print(\"Modularity community 1: \", community.modularity(community.best_partition(Gcommunity1_3Nov,random_state=1),Gcommunity1_3Nov)*100)\n",
    "sentsimmod0_3nov = community.modularity(community.best_partition(Gcommunity0_3Nov, random_state=1),Gcommunity0_3Nov)*100\n",
    "sentsimmod1_3nov = community.modularity(community.best_partition(Gcommunity1_3Nov,random_state=1),Gcommunity1_3Nov)*100\n",
    "\n",
    "nodes_comm0_sentsimmod0_3nov = Gcommunity0_3Nov.number_of_nodes()\n",
    "nodes_comm1_sentsimmod1_3nov = Gcommunity1_3Nov.number_of_nodes()\n",
    "print(nodes_comm0_sentsimmod0_3nov)\n",
    "print(nodes_comm1_sentsimmod1_3nov)"
   ]
  },
  {
   "cell_type": "code",
   "execution_count": 32,
   "id": "d88b3472",
   "metadata": {},
   "outputs": [
    {
     "name": "stderr",
     "output_type": "stream",
     "text": [
      "C:\\Users\\acer\\AppData\\Local\\Temp/ipykernel_12572/3538145484.py:3: SettingWithCopyWarning: \n",
      "A value is trying to be set on a copy of a slice from a DataFrame.\n",
      "Try using .loc[row_indexer,col_indexer] = value instead\n",
      "\n",
      "See the caveats in the documentation: https://pandas.pydata.org/pandas-docs/stable/user_guide/indexing.html#returning-a-view-versus-a-copy\n",
      "  df_3Nov[\"Community_Screen_name\"] = np.where(df_3Nov[\"Screen_name\"].isin(community0), \"0\", \"1\")\n",
      "C:\\Users\\acer\\AppData\\Local\\Temp/ipykernel_12572/3538145484.py:4: SettingWithCopyWarning: \n",
      "A value is trying to be set on a copy of a slice from a DataFrame.\n",
      "Try using .loc[row_indexer,col_indexer] = value instead\n",
      "\n",
      "See the caveats in the documentation: https://pandas.pydata.org/pandas-docs/stable/user_guide/indexing.html#returning-a-view-versus-a-copy\n",
      "  df_3Nov[\"Community_Retweet\"] = np.where(df_3Nov[\"Retweet\"].isin(community0), \"0\", \"1\")\n"
     ]
    },
    {
     "name": "stdout",
     "output_type": "stream",
     "text": [
      "Modularity community 0:  71.96405900142094\n",
      "Modularity community 1:  93.65266374231813\n",
      "31708\n",
      "31828\n"
     ]
    }
   ],
   "source": [
    "#STUDY THE COMMUNITIES FORMED USING THE POLARIZATION SIMILARITY\n",
    "community0 = list(polarization_parts_communities_3[0])\n",
    "df_3Nov[\"Community_Screen_name\"] = np.where(df_3Nov[\"Screen_name\"].isin(community0), \"0\", \"1\")\n",
    "df_3Nov[\"Community_Retweet\"] = np.where(df_3Nov[\"Retweet\"].isin(community0), \"0\", \"1\")\n",
    "df_3Nov_community0 = df_3Nov.loc[df_3Nov['Community_Screen_name']=='0']\n",
    "df_3Nov_community1 = df_3Nov.loc[df_3Nov['Community_Screen_name']=='1']\n",
    "Gcommunity0_3Nov = nx.from_pandas_edgelist(df_3Nov_community0, 'Screen_name', 'Retweet')\n",
    "mod0_3nov = community.modularity(community.best_partition(Gcommunity0_3Nov, random_state=1),Gcommunity0_3Nov)*100\n",
    "print(\"Modularity community 0: \", community.modularity(community.best_partition(Gcommunity0_3Nov, random_state=1),Gcommunity0_3Nov)*100)\n",
    "Gcommunity1_3Nov = nx.from_pandas_edgelist(df_3Nov_community1, 'Screen_name', 'Retweet')\n",
    "print(\"Modularity community 1: \", community.modularity(community.best_partition(Gcommunity1_3Nov,random_state=1),Gcommunity1_3Nov)*100)\n",
    "polsimmod0_3nov = community.modularity(community.best_partition(Gcommunity0_3Nov, random_state=1),Gcommunity0_3Nov)*100\n",
    "polsimmod1_3nov = community.modularity(community.best_partition(Gcommunity1_3Nov,random_state=1),Gcommunity1_3Nov)*100\n",
    "\n",
    "nodes_comm0_polsimmod0_3nov = Gcommunity0_3Nov.number_of_nodes()\n",
    "nodes_comm1_polsimmod1_3nov = Gcommunity1_3Nov.number_of_nodes()\n",
    "print(nodes_comm0_polsimmod0_3nov)\n",
    "print(nodes_comm1_polsimmod1_3nov)"
   ]
  },
  {
   "cell_type": "code",
   "execution_count": 33,
   "id": "b63d14f1",
   "metadata": {},
   "outputs": [
    {
     "name": "stderr",
     "output_type": "stream",
     "text": [
      "C:\\Users\\acer\\AppData\\Local\\Temp/ipykernel_12572/2090553733.py:3: SettingWithCopyWarning: \n",
      "A value is trying to be set on a copy of a slice from a DataFrame.\n",
      "Try using .loc[row_indexer,col_indexer] = value instead\n",
      "\n",
      "See the caveats in the documentation: https://pandas.pydata.org/pandas-docs/stable/user_guide/indexing.html#returning-a-view-versus-a-copy\n",
      "  df_3Nov[\"Community_Screen_name\"] = np.where(df_3Nov[\"Screen_name\"].isin(community0), \"0\", \"1\")\n",
      "C:\\Users\\acer\\AppData\\Local\\Temp/ipykernel_12572/2090553733.py:4: SettingWithCopyWarning: \n",
      "A value is trying to be set on a copy of a slice from a DataFrame.\n",
      "Try using .loc[row_indexer,col_indexer] = value instead\n",
      "\n",
      "See the caveats in the documentation: https://pandas.pydata.org/pandas-docs/stable/user_guide/indexing.html#returning-a-view-versus-a-copy\n",
      "  df_3Nov[\"Community_Retweet\"] = np.where(df_3Nov[\"Retweet\"].isin(community0), \"0\", \"1\")\n"
     ]
    },
    {
     "name": "stdout",
     "output_type": "stream",
     "text": [
      "Modularity community 0:  71.90864149984198\n",
      "Modularity community 1:  93.65344730811651\n",
      "31683\n",
      "31852\n"
     ]
    }
   ],
   "source": [
    "#STUDY THE COMMUNITIES FORMED USING THE SENTIMENT HYBRID\n",
    "community0 = list(sentimenthybrid_parts_communities_3[0])\n",
    "df_3Nov[\"Community_Screen_name\"] = np.where(df_3Nov[\"Screen_name\"].isin(community0), \"0\", \"1\")\n",
    "df_3Nov[\"Community_Retweet\"] = np.where(df_3Nov[\"Retweet\"].isin(community0), \"0\", \"1\")\n",
    "df_3Nov_community0 = df_3Nov.loc[df_3Nov['Community_Screen_name']=='0']\n",
    "df_3Nov_community1 = df_3Nov.loc[df_3Nov['Community_Screen_name']=='1']\n",
    "Gcommunity0_3Nov = nx.from_pandas_edgelist(df_3Nov_community0, 'Screen_name', 'Retweet')\n",
    "print(\"Modularity community 0: \", community.modularity(community.best_partition(Gcommunity0_3Nov, random_state=1),Gcommunity0_3Nov)*100)\n",
    "Gcommunity1_3Nov = nx.from_pandas_edgelist(df_3Nov_community1, 'Screen_name', 'Retweet')\n",
    "print(\"Modularity community 1: \", community.modularity(community.best_partition(Gcommunity1_3Nov, random_state=1),Gcommunity1_3Nov)*100)\n",
    "sentmod0_3nov = community.modularity(community.best_partition(Gcommunity0_3Nov, random_state=1),Gcommunity0_3Nov)*100\n",
    "sentmod1_3nov = community.modularity(community.best_partition(Gcommunity1_3Nov,random_state=1),Gcommunity1_3Nov)*100\n",
    "\n",
    "nodes_comm0_sent3nov = Gcommunity0_3Nov.number_of_nodes()\n",
    "nodes_comm1_sent3nov = Gcommunity1_3Nov.number_of_nodes()\n",
    "print(nodes_comm0_sent3nov)\n",
    "print(nodes_comm1_sent3nov)"
   ]
  },
  {
   "cell_type": "code",
   "execution_count": 34,
   "id": "d6245324",
   "metadata": {},
   "outputs": [],
   "source": [
    "df_3Nov.to_csv(\"C:/Users/acer/OneDrive/Desktop/MATERIALE TESI/DATASET/Evaluation dataset/Sentiment community/day3_sent.csv\", index=False)"
   ]
  },
  {
   "cell_type": "code",
   "execution_count": 35,
   "id": "bf0c9e18",
   "metadata": {},
   "outputs": [
    {
     "name": "stderr",
     "output_type": "stream",
     "text": [
      "C:\\Users\\acer\\AppData\\Local\\Temp/ipykernel_12572/2392389481.py:3: SettingWithCopyWarning: \n",
      "A value is trying to be set on a copy of a slice from a DataFrame.\n",
      "Try using .loc[row_indexer,col_indexer] = value instead\n",
      "\n",
      "See the caveats in the documentation: https://pandas.pydata.org/pandas-docs/stable/user_guide/indexing.html#returning-a-view-versus-a-copy\n",
      "  df_3Nov[\"Community_Screen_name\"] = np.where(df_3Nov[\"Screen_name\"].isin(community0), \"0\", \"1\")\n",
      "C:\\Users\\acer\\AppData\\Local\\Temp/ipykernel_12572/2392389481.py:4: SettingWithCopyWarning: \n",
      "A value is trying to be set on a copy of a slice from a DataFrame.\n",
      "Try using .loc[row_indexer,col_indexer] = value instead\n",
      "\n",
      "See the caveats in the documentation: https://pandas.pydata.org/pandas-docs/stable/user_guide/indexing.html#returning-a-view-versus-a-copy\n",
      "  df_3Nov[\"Community_Retweet\"] = np.where(df_3Nov[\"Retweet\"].isin(community0), \"0\", \"1\")\n"
     ]
    },
    {
     "name": "stdout",
     "output_type": "stream",
     "text": [
      "Modularity community 0:  71.96405900142094\n",
      "Modularity community 1:  93.65266374231813\n",
      "31708\n",
      "31828\n"
     ]
    }
   ],
   "source": [
    "#STUDY THE COMMUNITIES FORMED USING THE POLARIZATION HYBRID\n",
    "community0 = list(polarization_parts_communities_3[0])\n",
    "df_3Nov[\"Community_Screen_name\"] = np.where(df_3Nov[\"Screen_name\"].isin(community0), \"0\", \"1\")\n",
    "df_3Nov[\"Community_Retweet\"] = np.where(df_3Nov[\"Retweet\"].isin(community0), \"0\", \"1\")\n",
    "df_3Nov_community0 = df_3Nov.loc[df_3Nov['Community_Screen_name']=='0']\n",
    "df_3Nov_community1 = df_3Nov.loc[df_3Nov['Community_Screen_name']=='1']\n",
    "Gcommunity0_3Nov = nx.from_pandas_edgelist(df_3Nov_community0, 'Screen_name', 'Retweet')\n",
    "print(\"Modularity community 0: \", community.modularity(community.best_partition(Gcommunity0_3Nov, random_state=1),Gcommunity0_3Nov)*100)\n",
    "Gcommunity1_3Nov = nx.from_pandas_edgelist(df_3Nov_community1, 'Screen_name', 'Retweet')\n",
    "print(\"Modularity community 1: \", community.modularity(community.best_partition(Gcommunity1_3Nov, random_state=1),Gcommunity1_3Nov)*100)\n",
    "polmod0_3nov = community.modularity(community.best_partition(Gcommunity0_3Nov, random_state=1),Gcommunity0_3Nov)*100\n",
    "polmod1_3nov = community.modularity(community.best_partition(Gcommunity1_3Nov,random_state=1),Gcommunity1_3Nov)*100\n",
    "\n",
    "nodes_comm0_pol3nov = Gcommunity0_3Nov.number_of_nodes()\n",
    "nodes_comm1_pol3nov = Gcommunity1_3Nov.number_of_nodes()\n",
    "print(nodes_comm0_pol3nov)\n",
    "print(nodes_comm1_pol3nov)"
   ]
  },
  {
   "cell_type": "markdown",
   "id": "c1980b19",
   "metadata": {},
   "source": [
    "DAY 4"
   ]
  },
  {
   "cell_type": "code",
   "execution_count": 36,
   "id": "638e2b16",
   "metadata": {},
   "outputs": [],
   "source": [
    "df_4Nov = df.loc[df['Day']==4]\n",
    "#df_4Nov = df_4Nov[['Screen_name','Retweet','Text_clean','Polarization hybrid measure','Sentiment hybrid measure','Polarization distance','Sentiment distance']]\n",
    "#weights = dict(zip([tuple(x) for x in df_2Nov[['Screen_name','Retweet']].to_numpy()],df['Hybrid_measure']))\n",
    "G=nx.from_pandas_edgelist(df_4Nov,\"Screen_name\", \"Retweet\",create_using=nx.Graph(), edge_attr=['Tot connection user1,user2','Polarization hybrid measure','Sentiment hybrid measure','Polarization distance','Sentiment distance'])\n",
    "\n",
    "noweight_parts = nxmetis.partition(G, 2, edge_weight = 'Tot connection user1,user2', node_weight=None, node_size=None)\n",
    "sentiment_parts = nxmetis.partition(G, 2, edge_weight = 'Sentiment distance' , node_weight=None, node_size=None)\n",
    "polarization_parts = nxmetis.partition(G, 2, edge_weight = 'Polarization distance' , node_weight=None, node_size=None)\n",
    "sentimenthybrid_parts = nxmetis.partition(G, 2, edge_weight = 'Sentiment hybrid measure' , node_weight=None, node_size=None)\n",
    "polarizationhybrid_parts = nxmetis.partition(G, 2, edge_weight = 'Polarization hybrid measure' , node_weight=None, node_size=None)"
   ]
  },
  {
   "cell_type": "code",
   "execution_count": 37,
   "id": "2f805855",
   "metadata": {},
   "outputs": [
    {
     "name": "stdout",
     "output_type": "stream",
     "text": [
      "--------TOPOLOGICAL WEIGHT--------\n",
      "                         min         max         avg       std\n",
      "Index                                                         \n",
      "Internal Density      0.0001      0.0001      0.0001    0.0000\n",
      "Edges inside      33519.0000  35137.0000  34328.0000  809.0000\n",
      "Average Degree        2.0283      2.1264      2.0773    0.0490\n",
      "FOMD                  0.1246      0.1886      0.1566    0.0320\n",
      "TPR                   0.0037      0.0064      0.0050    0.0013\n",
      "Expansion             0.0057      0.0057      0.0057    0.0000\n",
      "Cut Ratio             0.0000      0.0000      0.0000    0.0000\n",
      "Conductance           0.0027      0.0028      0.0027    0.0001\n",
      "Normalized Cut        0.0055      0.0055      0.0055    0.0000\n",
      "Maximum-ODF          16.0000     18.0000     17.0000    1.0000\n",
      "Average-ODF           0.0057      0.0057      0.0057    0.0000\n",
      "Flake-ODF             0.0000      0.0000      0.0000    0.0000\n",
      "                         value\n",
      "Index                         \n",
      "Modularity (no overlap)  0.497\n",
      "--------SENTIMENT WEIGHT--------\n",
      "                         min         max         avg       std\n",
      "Index                                                         \n",
      "Internal Density      0.0001      0.0001      0.0001    0.0000\n",
      "Edges inside      33404.0000  35242.0000  34323.0000  919.0000\n",
      "Average Degree        2.0215      2.1325      2.0770    0.0555\n",
      "FOMD                  0.1243      0.1888      0.1566    0.0323\n",
      "TPR                   0.0037      0.0062      0.0049    0.0012\n",
      "Expansion             0.0060      0.0060      0.0060    0.0000\n",
      "Cut Ratio             0.0000      0.0000      0.0000    0.0000\n",
      "Conductance           0.0028      0.0030      0.0029    0.0001\n",
      "Normalized Cut        0.0058      0.0058      0.0058    0.0000\n",
      "Maximum-ODF          13.0000     22.0000     17.5000    4.5000\n",
      "Average-ODF           0.0060      0.0060      0.0060    0.0000\n",
      "Flake-ODF             0.0000      0.0000      0.0000    0.0000\n",
      "                          value\n",
      "Index                          \n",
      "Modularity (no overlap)  0.4968\n",
      "--------POLARIZATION WEIGHT--------\n",
      "                         min         max         avg       std\n",
      "Index                                                         \n",
      "Internal Density      0.0001      0.0001      0.0001    0.0000\n",
      "Edges inside      33364.0000  35282.0000  34323.0000  959.0000\n",
      "Average Degree        2.0199      2.1341      2.0770    0.0571\n",
      "FOMD                  0.1234      0.1897      0.1566    0.0331\n",
      "TPR                   0.0038      0.0063      0.0050    0.0013\n",
      "Expansion             0.0060      0.0060      0.0060    0.0000\n",
      "Cut Ratio             0.0000      0.0000      0.0000    0.0000\n",
      "Conductance           0.0028      0.0030      0.0029    0.0001\n",
      "Normalized Cut        0.0058      0.0058      0.0058    0.0000\n",
      "Maximum-ODF          16.0000     18.0000     17.0000    1.0000\n",
      "Average-ODF           0.0060      0.0060      0.0060    0.0000\n",
      "Flake-ODF             0.0000      0.0000      0.0000    0.0000\n",
      "                          value\n",
      "Index                          \n",
      "Modularity (no overlap)  0.4967\n",
      "--------SENTIMENT BOOSTER WEIGHT--------\n",
      "                         min         max         avg       std\n",
      "Index                                                         \n",
      "Internal Density      0.0001      0.0001      0.0001    0.0000\n",
      "Edges inside      33404.0000  35242.0000  34323.0000  919.0000\n",
      "Average Degree        2.0215      2.1325      2.0770    0.0555\n",
      "FOMD                  0.1243      0.1888      0.1566    0.0323\n",
      "TPR                   0.0037      0.0062      0.0049    0.0012\n",
      "Expansion             0.0060      0.0060      0.0060    0.0000\n",
      "Cut Ratio             0.0000      0.0000      0.0000    0.0000\n",
      "Conductance           0.0028      0.0030      0.0029    0.0001\n",
      "Normalized Cut        0.0058      0.0058      0.0058    0.0000\n",
      "Maximum-ODF          13.0000     22.0000     17.5000    4.5000\n",
      "Average-ODF           0.0060      0.0060      0.0060    0.0000\n",
      "Flake-ODF             0.0000      0.0000      0.0000    0.0000\n",
      "                          value\n",
      "Index                          \n",
      "Modularity (no overlap)  0.4968\n",
      "--------POLARIZATION BOOSTER WEIGHT--------\n",
      "                         min         max         avg       std\n",
      "Index                                                         \n",
      "Internal Density      0.0001      0.0001      0.0001    0.0000\n",
      "Edges inside      33364.0000  35282.0000  34323.0000  959.0000\n",
      "Average Degree        2.0199      2.1341      2.0770    0.0571\n",
      "FOMD                  0.1234      0.1897      0.1566    0.0331\n",
      "TPR                   0.0038      0.0063      0.0050    0.0013\n",
      "Expansion             0.0060      0.0060      0.0060    0.0000\n",
      "Cut Ratio             0.0000      0.0000      0.0000    0.0000\n",
      "Conductance           0.0028      0.0030      0.0029    0.0001\n",
      "Normalized Cut        0.0058      0.0058      0.0058    0.0000\n",
      "Maximum-ODF          16.0000     18.0000     17.0000    1.0000\n",
      "Average-ODF           0.0060      0.0060      0.0060    0.0000\n",
      "Flake-ODF             0.0000      0.0000      0.0000    0.0000\n",
      "                          value\n",
      "Index                          \n",
      "Modularity (no overlap)  0.4967\n"
     ]
    }
   ],
   "source": [
    "#FOMD\n",
    "#average degree\n",
    "#Expansion\n",
    "#Maximum-ODF\n",
    "noweight_communities = list(noweight_parts[1])\n",
    "scores_now = pquality.pquality_summary(G,noweight_communities)\n",
    "print(\"--------TOPOLOGICAL WEIGHT--------\")\n",
    "print(scores_now['Indexes'].round(4))\n",
    "print(scores_now['Modularity'].round(4))\n",
    "noweight_communities = pd.DataFrame(noweight_communities)\n",
    "noweight_communities_4 = noweight_communities.transpose()\n",
    "#------------------------------\n",
    "sentiment_parts_communities = list(sentiment_parts[1])\n",
    "sent_now = pquality.pquality_summary(G,sentiment_parts_communities)\n",
    "print(\"--------SENTIMENT WEIGHT--------\")\n",
    "print(sent_now['Indexes'].round(4))\n",
    "print(sent_now['Modularity'].round(4))\n",
    "sentiment_parts_communities = pd.DataFrame(sentiment_parts_communities)\n",
    "sentiment_parts_communities_4 = sentiment_parts_communities.transpose()\n",
    "#------------------------------\n",
    "polarization_parts_communities = list(polarization_parts[1])\n",
    "scores_pol = pquality.pquality_summary(G,polarization_parts_communities)\n",
    "print(\"--------POLARIZATION WEIGHT--------\")\n",
    "print(scores_pol['Indexes'].round(4))\n",
    "print(scores_pol['Modularity'].round(4))\n",
    "polarization_parts_communities = pd.DataFrame(polarization_parts_communities)\n",
    "polarization_parts_communities_4 = polarization_parts_communities.transpose()\n",
    "#------------------------------\n",
    "sentimenthybrid_parts_communities = list(sentimenthybrid_parts[1])\n",
    "scores_senthib = pquality.pquality_summary(G,sentimenthybrid_parts_communities)\n",
    "print(\"--------SENTIMENT BOOSTER WEIGHT--------\")\n",
    "print(scores_senthib['Indexes'].round(4))\n",
    "print(scores_senthib['Modularity'].round(4))\n",
    "sentimenthybrid_parts_communities = pd.DataFrame(sentimenthybrid_parts_communities)\n",
    "sentimenthybrid_parts_communities_4 = sentimenthybrid_parts_communities.transpose()\n",
    "#-----------------------------\n",
    "polarizationhybrid_parts_communities = list(polarizationhybrid_parts[1])\n",
    "scores_polhib = pquality.pquality_summary(G,polarizationhybrid_parts_communities)\n",
    "print(\"--------POLARIZATION BOOSTER WEIGHT--------\")\n",
    "print(scores_polhib['Indexes'].round(4))\n",
    "print(scores_polhib['Modularity'].round(4))\n",
    "polarizationhybrid_parts_communities = pd.DataFrame(polarizationhybrid_parts_communities)\n",
    "polarizationhybrid_parts_communities_4 = polarizationhybrid_parts_communities.transpose()"
   ]
  },
  {
   "cell_type": "code",
   "execution_count": 38,
   "id": "1502755e",
   "metadata": {},
   "outputs": [
    {
     "name": "stderr",
     "output_type": "stream",
     "text": [
      "C:\\Users\\acer\\AppData\\Local\\Temp/ipykernel_12572/716480008.py:3: SettingWithCopyWarning: \n",
      "A value is trying to be set on a copy of a slice from a DataFrame.\n",
      "Try using .loc[row_indexer,col_indexer] = value instead\n",
      "\n",
      "See the caveats in the documentation: https://pandas.pydata.org/pandas-docs/stable/user_guide/indexing.html#returning-a-view-versus-a-copy\n",
      "  df_4Nov[\"Community_Screen_name\"] = np.where(df_4Nov[\"Screen_name\"].isin(community0), \"0\", \"1\")\n",
      "C:\\Users\\acer\\AppData\\Local\\Temp/ipykernel_12572/716480008.py:4: SettingWithCopyWarning: \n",
      "A value is trying to be set on a copy of a slice from a DataFrame.\n",
      "Try using .loc[row_indexer,col_indexer] = value instead\n",
      "\n",
      "See the caveats in the documentation: https://pandas.pydata.org/pandas-docs/stable/user_guide/indexing.html#returning-a-view-versus-a-copy\n",
      "  df_4Nov[\"Community_Retweet\"] = np.where(df_4Nov[\"Retweet\"].isin(community0), \"0\", \"1\")\n"
     ]
    },
    {
     "name": "stdout",
     "output_type": "stream",
     "text": [
      "Modularity community 0:  80.99378432746417\n",
      "Modularity community 1:  93.07160986761916\n",
      "33090\n",
      "33103\n"
     ]
    }
   ],
   "source": [
    "#STUDY THE COMMUNITIES FORMED USING ONLY THE TOPOLOGICAL STRUCTURE\n",
    "community0 = list(noweight_communities_4[0])\n",
    "df_4Nov[\"Community_Screen_name\"] = np.where(df_4Nov[\"Screen_name\"].isin(community0), \"0\", \"1\")\n",
    "df_4Nov[\"Community_Retweet\"] = np.where(df_4Nov[\"Retweet\"].isin(community0), \"0\", \"1\")\n",
    "df_4Nov_community0 = df_4Nov.loc[df_4Nov['Community_Screen_name']=='0']\n",
    "df_4Nov_community1 = df_4Nov.loc[df_4Nov['Community_Screen_name']=='1']\n",
    "Gcommunity0_4Nov = nx.from_pandas_edgelist(df_4Nov_community0, 'Screen_name', 'Retweet')\n",
    "print(\"Modularity community 0: \", community.modularity(community.best_partition(Gcommunity0_4Nov, random_state=1),Gcommunity0_4Nov)*100)\n",
    "Gcommunity1_4Nov = nx.from_pandas_edgelist(df_4Nov_community1, 'Screen_name', 'Retweet')\n",
    "print(\"Modularity community 1: \", community.modularity(community.best_partition(Gcommunity1_4Nov, random_state=1),Gcommunity1_4Nov)*100)\n",
    "nowmod0_4nov = community.modularity(community.best_partition(Gcommunity0_4Nov, random_state=1),Gcommunity0_4Nov)*100\n",
    "nowmod1_4nov = community.modularity(community.best_partition(Gcommunity1_4Nov,random_state=1),Gcommunity1_4Nov)*100\n",
    "\n",
    "nodes_comm0_noweight4nov = Gcommunity0_4Nov.number_of_nodes()\n",
    "nodes_comm1_noweight4nov = Gcommunity1_4Nov.number_of_nodes()\n",
    "print(nodes_comm0_noweight4nov)\n",
    "print(nodes_comm1_noweight4nov)"
   ]
  },
  {
   "cell_type": "code",
   "execution_count": 39,
   "id": "7d7f98bf",
   "metadata": {},
   "outputs": [
    {
     "name": "stderr",
     "output_type": "stream",
     "text": [
      "C:\\Users\\acer\\AppData\\Local\\Temp/ipykernel_12572/2616481168.py:3: SettingWithCopyWarning: \n",
      "A value is trying to be set on a copy of a slice from a DataFrame.\n",
      "Try using .loc[row_indexer,col_indexer] = value instead\n",
      "\n",
      "See the caveats in the documentation: https://pandas.pydata.org/pandas-docs/stable/user_guide/indexing.html#returning-a-view-versus-a-copy\n",
      "  df_4Nov[\"Community_Screen_name\"] = np.where(df_4Nov[\"Screen_name\"].isin(community0), \"0\", \"1\")\n",
      "C:\\Users\\acer\\AppData\\Local\\Temp/ipykernel_12572/2616481168.py:4: SettingWithCopyWarning: \n",
      "A value is trying to be set on a copy of a slice from a DataFrame.\n",
      "Try using .loc[row_indexer,col_indexer] = value instead\n",
      "\n",
      "See the caveats in the documentation: https://pandas.pydata.org/pandas-docs/stable/user_guide/indexing.html#returning-a-view-versus-a-copy\n",
      "  df_4Nov[\"Community_Retweet\"] = np.where(df_4Nov[\"Retweet\"].isin(community0), \"0\", \"1\")\n"
     ]
    },
    {
     "name": "stdout",
     "output_type": "stream",
     "text": [
      "Modularity community 0:  93.09845814583997\n",
      "Modularity community 1:  80.99754029591111\n",
      "33090\n",
      "33100\n"
     ]
    }
   ],
   "source": [
    "#STUDY THE COMMUNITIES FORMED USING THE SENTIMENT SIMILARITY\n",
    "community0 = list(sentiment_parts_communities_4[0])\n",
    "df_4Nov[\"Community_Screen_name\"] = np.where(df_4Nov[\"Screen_name\"].isin(community0), \"0\", \"1\")\n",
    "df_4Nov[\"Community_Retweet\"] = np.where(df_4Nov[\"Retweet\"].isin(community0), \"0\", \"1\")\n",
    "df_4Nov_community0 = df_4Nov.loc[df_4Nov['Community_Screen_name']=='0']\n",
    "df_4Nov_community1 = df_4Nov.loc[df_4Nov['Community_Screen_name']=='1']\n",
    "Gcommunity0_4Nov = nx.from_pandas_edgelist(df_4Nov_community0, 'Screen_name', 'Retweet')\n",
    "mod0_4nov = community.modularity(community.best_partition(Gcommunity0_4Nov, random_state=1),Gcommunity0_4Nov)*100\n",
    "print(\"Modularity community 0: \", community.modularity(community.best_partition(Gcommunity0_4Nov, random_state=1),Gcommunity0_4Nov)*100)\n",
    "Gcommunity1_4Nov = nx.from_pandas_edgelist(df_4Nov_community1, 'Screen_name', 'Retweet')\n",
    "print(\"Modularity community 1: \", community.modularity(community.best_partition(Gcommunity1_4Nov,random_state=1),Gcommunity1_4Nov)*100)\n",
    "sentsimmod0_4nov = community.modularity(community.best_partition(Gcommunity0_4Nov, random_state=1),Gcommunity0_4Nov)*100\n",
    "sentsimmod1_4nov = community.modularity(community.best_partition(Gcommunity1_4Nov,random_state=1),Gcommunity1_4Nov)*100\n",
    "\n",
    "nodes_comm0_sentsimmod0_4nov = Gcommunity0_4Nov.number_of_nodes()\n",
    "nodes_comm1_sentsimmod1_4nov = Gcommunity1_4Nov.number_of_nodes()\n",
    "print(nodes_comm0_sentsimmod0_4nov)\n",
    "print(nodes_comm1_sentsimmod1_4nov)"
   ]
  },
  {
   "cell_type": "code",
   "execution_count": 40,
   "id": "d2c8b295",
   "metadata": {},
   "outputs": [
    {
     "name": "stderr",
     "output_type": "stream",
     "text": [
      "C:\\Users\\acer\\AppData\\Local\\Temp/ipykernel_12572/660250820.py:3: SettingWithCopyWarning: \n",
      "A value is trying to be set on a copy of a slice from a DataFrame.\n",
      "Try using .loc[row_indexer,col_indexer] = value instead\n",
      "\n",
      "See the caveats in the documentation: https://pandas.pydata.org/pandas-docs/stable/user_guide/indexing.html#returning-a-view-versus-a-copy\n",
      "  df_4Nov[\"Community_Screen_name\"] = np.where(df_4Nov[\"Screen_name\"].isin(community0), \"0\", \"1\")\n",
      "C:\\Users\\acer\\AppData\\Local\\Temp/ipykernel_12572/660250820.py:4: SettingWithCopyWarning: \n",
      "A value is trying to be set on a copy of a slice from a DataFrame.\n",
      "Try using .loc[row_indexer,col_indexer] = value instead\n",
      "\n",
      "See the caveats in the documentation: https://pandas.pydata.org/pandas-docs/stable/user_guide/indexing.html#returning-a-view-versus-a-copy\n",
      "  df_4Nov[\"Community_Retweet\"] = np.where(df_4Nov[\"Retweet\"].isin(community0), \"0\", \"1\")\n"
     ]
    },
    {
     "name": "stdout",
     "output_type": "stream",
     "text": [
      "Modularity community 0:  80.98050087165383\n",
      "Modularity community 1:  93.09217204702114\n",
      "33113\n",
      "33078\n"
     ]
    }
   ],
   "source": [
    "#STUDY THE COMMUNITIES FORMED USING THE POLARIZATION SIMILARITY\n",
    "community0 = list(polarization_parts_communities_4[0])\n",
    "df_4Nov[\"Community_Screen_name\"] = np.where(df_4Nov[\"Screen_name\"].isin(community0), \"0\", \"1\")\n",
    "df_4Nov[\"Community_Retweet\"] = np.where(df_4Nov[\"Retweet\"].isin(community0), \"0\", \"1\")\n",
    "df_4Nov_community0 = df_4Nov.loc[df_4Nov['Community_Screen_name']=='0']\n",
    "df_4Nov_community1 = df_4Nov.loc[df_4Nov['Community_Screen_name']=='1']\n",
    "Gcommunity0_4Nov = nx.from_pandas_edgelist(df_4Nov_community0, 'Screen_name', 'Retweet')\n",
    "mod0_4nov = community.modularity(community.best_partition(Gcommunity0_4Nov, random_state=1),Gcommunity0_4Nov)*100\n",
    "print(\"Modularity community 0: \", community.modularity(community.best_partition(Gcommunity0_4Nov, random_state=1),Gcommunity0_4Nov)*100)\n",
    "Gcommunity1_4Nov = nx.from_pandas_edgelist(df_4Nov_community1, 'Screen_name', 'Retweet')\n",
    "print(\"Modularity community 1: \", community.modularity(community.best_partition(Gcommunity1_4Nov,random_state=1),Gcommunity1_4Nov)*100)\n",
    "polsimmod0_4nov = community.modularity(community.best_partition(Gcommunity0_4Nov, random_state=1),Gcommunity0_4Nov)*100\n",
    "polsimmod1_4nov = community.modularity(community.best_partition(Gcommunity1_4Nov,random_state=1),Gcommunity1_4Nov)*100\n",
    "\n",
    "nodes_comm0_polsimmod0_4nov = Gcommunity0_4Nov.number_of_nodes()\n",
    "nodes_comm1_polsimmod1_4nov = Gcommunity1_4Nov.number_of_nodes()\n",
    "print(nodes_comm0_polsimmod0_4nov)\n",
    "print(nodes_comm1_polsimmod1_4nov)"
   ]
  },
  {
   "cell_type": "code",
   "execution_count": 41,
   "id": "b542f48e",
   "metadata": {},
   "outputs": [
    {
     "name": "stderr",
     "output_type": "stream",
     "text": [
      "C:\\Users\\acer\\AppData\\Local\\Temp/ipykernel_12572/4176872589.py:3: SettingWithCopyWarning: \n",
      "A value is trying to be set on a copy of a slice from a DataFrame.\n",
      "Try using .loc[row_indexer,col_indexer] = value instead\n",
      "\n",
      "See the caveats in the documentation: https://pandas.pydata.org/pandas-docs/stable/user_guide/indexing.html#returning-a-view-versus-a-copy\n",
      "  df_4Nov[\"Community_Screen_name\"] = np.where(df_4Nov[\"Screen_name\"].isin(community0), \"0\", \"1\")\n",
      "C:\\Users\\acer\\AppData\\Local\\Temp/ipykernel_12572/4176872589.py:4: SettingWithCopyWarning: \n",
      "A value is trying to be set on a copy of a slice from a DataFrame.\n",
      "Try using .loc[row_indexer,col_indexer] = value instead\n",
      "\n",
      "See the caveats in the documentation: https://pandas.pydata.org/pandas-docs/stable/user_guide/indexing.html#returning-a-view-versus-a-copy\n",
      "  df_4Nov[\"Community_Retweet\"] = np.where(df_4Nov[\"Retweet\"].isin(community0), \"0\", \"1\")\n"
     ]
    },
    {
     "name": "stdout",
     "output_type": "stream",
     "text": [
      "Modularity community 0:  93.09845814583997\n",
      "Modularity community 1:  80.99754029591111\n",
      "33090\n",
      "33100\n"
     ]
    }
   ],
   "source": [
    "#STUDY THE COMMUNITIES FORMED USING THE SENTIMENT HYBRID\n",
    "community0 = list(sentimenthybrid_parts_communities_4[0])\n",
    "df_4Nov[\"Community_Screen_name\"] = np.where(df_4Nov[\"Screen_name\"].isin(community0), \"0\", \"1\")\n",
    "df_4Nov[\"Community_Retweet\"] = np.where(df_4Nov[\"Retweet\"].isin(community0), \"0\", \"1\")\n",
    "df_4Nov_community0 = df_4Nov.loc[df_4Nov['Community_Screen_name']=='0']\n",
    "df_4Nov_community1 = df_4Nov.loc[df_4Nov['Community_Screen_name']=='1']\n",
    "Gcommunity0_4Nov = nx.from_pandas_edgelist(df_4Nov_community0, 'Screen_name', 'Retweet')\n",
    "print(\"Modularity community 0: \", community.modularity(community.best_partition(Gcommunity0_4Nov, random_state=1),Gcommunity0_4Nov)*100)\n",
    "Gcommunity1_4Nov = nx.from_pandas_edgelist(df_4Nov_community1, 'Screen_name', 'Retweet')\n",
    "print(\"Modularity community 1: \", community.modularity(community.best_partition(Gcommunity1_4Nov, random_state=1),Gcommunity1_4Nov)*100)\n",
    "sentmod0_4nov = community.modularity(community.best_partition(Gcommunity0_4Nov, random_state=1),Gcommunity0_4Nov)*100\n",
    "sentmod1_4nov = community.modularity(community.best_partition(Gcommunity1_4Nov,random_state=1),Gcommunity1_4Nov)*100\n",
    "\n",
    "nodes_comm0_sent4nov = Gcommunity0_4Nov.number_of_nodes()\n",
    "nodes_comm1_sent4nov = Gcommunity1_4Nov.number_of_nodes()\n",
    "print(nodes_comm0_sent4nov)\n",
    "print(nodes_comm1_sent4nov)"
   ]
  },
  {
   "cell_type": "code",
   "execution_count": 42,
   "id": "63831ed6",
   "metadata": {},
   "outputs": [],
   "source": [
    "df_4Nov.to_csv(\"C:/Users/acer/OneDrive/Desktop/MATERIALE TESI/DATASET/Evaluation dataset/Sentiment community/day4_sent.csv\", index=False)"
   ]
  },
  {
   "cell_type": "code",
   "execution_count": 43,
   "id": "fbde5ff8",
   "metadata": {},
   "outputs": [
    {
     "name": "stderr",
     "output_type": "stream",
     "text": [
      "C:\\Users\\acer\\AppData\\Local\\Temp/ipykernel_12572/3939444149.py:3: SettingWithCopyWarning: \n",
      "A value is trying to be set on a copy of a slice from a DataFrame.\n",
      "Try using .loc[row_indexer,col_indexer] = value instead\n",
      "\n",
      "See the caveats in the documentation: https://pandas.pydata.org/pandas-docs/stable/user_guide/indexing.html#returning-a-view-versus-a-copy\n",
      "  df_4Nov[\"Community_Screen_name\"] = np.where(df_4Nov[\"Screen_name\"].isin(community0), \"0\", \"1\")\n",
      "C:\\Users\\acer\\AppData\\Local\\Temp/ipykernel_12572/3939444149.py:4: SettingWithCopyWarning: \n",
      "A value is trying to be set on a copy of a slice from a DataFrame.\n",
      "Try using .loc[row_indexer,col_indexer] = value instead\n",
      "\n",
      "See the caveats in the documentation: https://pandas.pydata.org/pandas-docs/stable/user_guide/indexing.html#returning-a-view-versus-a-copy\n",
      "  df_4Nov[\"Community_Retweet\"] = np.where(df_4Nov[\"Retweet\"].isin(community0), \"0\", \"1\")\n"
     ]
    },
    {
     "name": "stdout",
     "output_type": "stream",
     "text": [
      "Modularity community 0:  80.98050087165383\n",
      "Modularity community 1:  93.09217204702114\n",
      "33113\n",
      "33078\n"
     ]
    }
   ],
   "source": [
    "#STUDY THE COMMUNITIES FORMED USING THE POLARIZATION HYBRID\n",
    "community0 = list(polarization_parts_communities_4[0])\n",
    "df_4Nov[\"Community_Screen_name\"] = np.where(df_4Nov[\"Screen_name\"].isin(community0), \"0\", \"1\")\n",
    "df_4Nov[\"Community_Retweet\"] = np.where(df_4Nov[\"Retweet\"].isin(community0), \"0\", \"1\")\n",
    "df_4Nov_community0 = df_4Nov.loc[df_4Nov['Community_Screen_name']=='0']\n",
    "df_4Nov_community1 = df_4Nov.loc[df_4Nov['Community_Screen_name']=='1']\n",
    "Gcommunity0_4Nov = nx.from_pandas_edgelist(df_4Nov_community0, 'Screen_name', 'Retweet')\n",
    "print(\"Modularity community 0: \", community.modularity(community.best_partition(Gcommunity0_4Nov, random_state=1),Gcommunity0_4Nov)*100)\n",
    "Gcommunity1_4Nov = nx.from_pandas_edgelist(df_4Nov_community1, 'Screen_name', 'Retweet')\n",
    "print(\"Modularity community 1: \", community.modularity(community.best_partition(Gcommunity1_4Nov, random_state=1),Gcommunity1_4Nov)*100)\n",
    "polmod0_4nov = community.modularity(community.best_partition(Gcommunity0_4Nov, random_state=1),Gcommunity0_4Nov)*100\n",
    "polmod1_4nov = community.modularity(community.best_partition(Gcommunity1_4Nov,random_state=1),Gcommunity1_4Nov)*100\n",
    "\n",
    "nodes_comm0_pol4nov = Gcommunity0_4Nov.number_of_nodes()\n",
    "nodes_comm1_pol4nov = Gcommunity1_4Nov.number_of_nodes()\n",
    "print(nodes_comm0_pol4nov)\n",
    "print(nodes_comm1_pol4nov)"
   ]
  },
  {
   "cell_type": "markdown",
   "id": "cc5af285",
   "metadata": {},
   "source": [
    "DAY 5"
   ]
  },
  {
   "cell_type": "code",
   "execution_count": 44,
   "id": "3d735733",
   "metadata": {},
   "outputs": [],
   "source": [
    "df_5Nov = df.loc[df['Day']==5]\n",
    "#df_5Nov = df_5Nov[['Screen_name','Retweet','Text_clean','Polarization hybrid measure','Sentiment hybrid measure','Polarization distance','Sentiment distance']]\n",
    "#weights = dict(zip([tuple(x) for x in df_2Nov[['Screen_name','Retweet']].to_numpy()],df['Hybrid_measure']))\n",
    "G=nx.from_pandas_edgelist(df_5Nov,\"Screen_name\", \"Retweet\",create_using=nx.Graph(), edge_attr=['Tot connection user1,user2','Polarization hybrid measure','Sentiment hybrid measure','Polarization distance','Sentiment distance'])\n",
    "\n",
    "noweight_parts = nxmetis.partition(G, 2, edge_weight = 'Tot connection user1,user2', node_weight=None, node_size=None)\n",
    "sentiment_parts = nxmetis.partition(G, 2, edge_weight = 'Sentiment distance' , node_weight=None, node_size=None)\n",
    "polarization_parts = nxmetis.partition(G, 2, edge_weight = 'Polarization distance' , node_weight=None, node_size=None)\n",
    "sentimenthybrid_parts = nxmetis.partition(G, 2, edge_weight = 'Sentiment hybrid measure' , node_weight=None, node_size=None)\n",
    "polarizationhybrid_parts = nxmetis.partition(G, 2, edge_weight = 'Polarization hybrid measure' , node_weight=None, node_size=None)"
   ]
  },
  {
   "cell_type": "code",
   "execution_count": 45,
   "id": "96bd470c",
   "metadata": {},
   "outputs": [
    {
     "name": "stdout",
     "output_type": "stream",
     "text": [
      "--------TOPOLOGICAL WEIGHT--------\n",
      "                         min         max         avg        std\n",
      "Index                                                          \n",
      "Internal Density      0.0001      0.0001      0.0001     0.0000\n",
      "Edges inside      34296.0000  36326.0000  35311.0000  1015.0000\n",
      "Average Degree        2.0642      2.1832      2.1237     0.0595\n",
      "FOMD                  0.1311      0.1962      0.1637     0.0326\n",
      "TPR                   0.0066      0.0072      0.0069     0.0003\n",
      "Expansion             0.0059      0.0059      0.0059     0.0000\n",
      "Cut Ratio             0.0000      0.0000      0.0000     0.0000\n",
      "Conductance           0.0027      0.0029      0.0028     0.0001\n",
      "Normalized Cut        0.0056      0.0056      0.0056     0.0000\n",
      "Maximum-ODF          17.0000     17.0000     17.0000     0.0000\n",
      "Average-ODF           0.0059      0.0059      0.0059     0.0000\n",
      "Flake-ODF             0.0000      0.0000      0.0000     0.0000\n",
      "                          value\n",
      "Index                          \n",
      "Modularity (no overlap)  0.4968\n",
      "--------SENTIMENT WEIGHT--------\n",
      "                         min         max         avg       std\n",
      "Index                                                         \n",
      "Internal Density      0.0001      0.0001      0.0001    0.0000\n",
      "Edges inside      34555.0000  36019.0000  35287.0000  732.0000\n",
      "Average Degree        2.0731      2.1718      2.1224    0.0494\n",
      "FOMD                  0.1289      0.1971      0.1630    0.0341\n",
      "TPR                   0.0066      0.0071      0.0068    0.0003\n",
      "Expansion             0.0073      0.0074      0.0074    0.0000\n",
      "Cut Ratio             0.0000      0.0000      0.0000    0.0000\n",
      "Conductance           0.0034      0.0035      0.0035    0.0001\n",
      "Normalized Cut        0.0069      0.0069      0.0069    0.0000\n",
      "Maximum-ODF          17.0000     25.0000     21.0000    4.0000\n",
      "Average-ODF           0.0073      0.0074      0.0074    0.0000\n",
      "Flake-ODF             0.0000      0.0000      0.0000    0.0000\n",
      "                          value\n",
      "Index                          \n",
      "Modularity (no overlap)  0.4963\n",
      "--------POLARIZATION WEIGHT--------\n",
      "                         min         max         avg        std\n",
      "Index                                                          \n",
      "Internal Density      0.0001      0.0001      0.0001     0.0000\n",
      "Edges inside      34260.0000  36362.0000  35311.0000  1051.0000\n",
      "Average Degree        2.0606      2.1869      2.1237     0.0632\n",
      "FOMD                  0.1279      0.1996      0.1637     0.0359\n",
      "TPR                   0.0066      0.0072      0.0069     0.0003\n",
      "Expansion             0.0059      0.0059      0.0059     0.0000\n",
      "Cut Ratio             0.0000      0.0000      0.0000     0.0000\n",
      "Conductance           0.0027      0.0029      0.0028     0.0001\n",
      "Normalized Cut        0.0056      0.0056      0.0056     0.0000\n",
      "Maximum-ODF          13.0000     17.0000     15.0000     2.0000\n",
      "Average-ODF           0.0059      0.0059      0.0059     0.0000\n",
      "Flake-ODF             0.0000      0.0000      0.0000     0.0000\n",
      "                          value\n",
      "Index                          \n",
      "Modularity (no overlap)  0.4968\n",
      "--------SENTIMENT BOOSTER WEIGHT--------\n",
      "                         min         max         avg       std\n",
      "Index                                                         \n",
      "Internal Density      0.0001      0.0001      0.0001    0.0000\n",
      "Edges inside      34555.0000  36019.0000  35287.0000  732.0000\n",
      "Average Degree        2.0731      2.1718      2.1224    0.0494\n",
      "FOMD                  0.1289      0.1971      0.1630    0.0341\n",
      "TPR                   0.0066      0.0071      0.0068    0.0003\n",
      "Expansion             0.0073      0.0074      0.0074    0.0000\n",
      "Cut Ratio             0.0000      0.0000      0.0000    0.0000\n",
      "Conductance           0.0034      0.0035      0.0035    0.0001\n",
      "Normalized Cut        0.0069      0.0069      0.0069    0.0000\n",
      "Maximum-ODF          17.0000     25.0000     21.0000    4.0000\n",
      "Average-ODF           0.0073      0.0074      0.0074    0.0000\n",
      "Flake-ODF             0.0000      0.0000      0.0000    0.0000\n",
      "                          value\n",
      "Index                          \n",
      "Modularity (no overlap)  0.4963\n",
      "--------POLARIZATION BOOSTER WEIGHT--------\n",
      "                         min         max         avg        std\n",
      "Index                                                          \n",
      "Internal Density      0.0001      0.0001      0.0001     0.0000\n",
      "Edges inside      34260.0000  36362.0000  35311.0000  1051.0000\n",
      "Average Degree        2.0606      2.1869      2.1237     0.0632\n",
      "FOMD                  0.1279      0.1996      0.1637     0.0359\n",
      "TPR                   0.0066      0.0072      0.0069     0.0003\n",
      "Expansion             0.0059      0.0059      0.0059     0.0000\n",
      "Cut Ratio             0.0000      0.0000      0.0000     0.0000\n",
      "Conductance           0.0027      0.0029      0.0028     0.0001\n",
      "Normalized Cut        0.0056      0.0056      0.0056     0.0000\n",
      "Maximum-ODF          13.0000     17.0000     15.0000     2.0000\n",
      "Average-ODF           0.0059      0.0059      0.0059     0.0000\n",
      "Flake-ODF             0.0000      0.0000      0.0000     0.0000\n",
      "                          value\n",
      "Index                          \n",
      "Modularity (no overlap)  0.4968\n"
     ]
    }
   ],
   "source": [
    "#FOMD\n",
    "#average degree\n",
    "#Expansion\n",
    "#Maximum-ODF\n",
    "noweight_communities = list(noweight_parts[1])\n",
    "scores_now = pquality.pquality_summary(G,noweight_communities)\n",
    "print(\"--------TOPOLOGICAL WEIGHT--------\")\n",
    "print(scores_now['Indexes'].round(4))\n",
    "print(scores_now['Modularity'].round(4))\n",
    "noweight_communities = pd.DataFrame(noweight_communities)\n",
    "noweight_communities_5 = noweight_communities.transpose()\n",
    "#------------------------------\n",
    "sentiment_parts_communities = list(sentiment_parts[1])\n",
    "sent_now = pquality.pquality_summary(G,sentiment_parts_communities)\n",
    "print(\"--------SENTIMENT WEIGHT--------\")\n",
    "print(sent_now['Indexes'].round(4))\n",
    "print(sent_now['Modularity'].round(4))\n",
    "sentiment_parts_communities = pd.DataFrame(sentiment_parts_communities)\n",
    "sentiment_parts_communities_5 = sentiment_parts_communities.transpose()\n",
    "#------------------------------\n",
    "polarization_parts_communities = list(polarization_parts[1])\n",
    "scores_pol = pquality.pquality_summary(G,polarization_parts_communities)\n",
    "print(\"--------POLARIZATION WEIGHT--------\")\n",
    "print(scores_pol['Indexes'].round(4))\n",
    "print(scores_pol['Modularity'].round(4))\n",
    "polarization_parts_communities = pd.DataFrame(polarization_parts_communities)\n",
    "polarization_parts_communities_5 = polarization_parts_communities.transpose()\n",
    "#------------------------------\n",
    "sentimenthybrid_parts_communities = list(sentimenthybrid_parts[1])\n",
    "scores_senthib = pquality.pquality_summary(G,sentimenthybrid_parts_communities)\n",
    "print(\"--------SENTIMENT BOOSTER WEIGHT--------\")\n",
    "print(scores_senthib['Indexes'].round(4))\n",
    "print(scores_senthib['Modularity'].round(4))\n",
    "sentimenthybrid_parts_communities = pd.DataFrame(sentimenthybrid_parts_communities)\n",
    "sentimenthybrid_parts_communities_5 = sentimenthybrid_parts_communities.transpose()\n",
    "#-----------------------------\n",
    "polarizationhybrid_parts_communities = list(polarizationhybrid_parts[1])\n",
    "scores_polhib = pquality.pquality_summary(G,polarizationhybrid_parts_communities)\n",
    "print(\"--------POLARIZATION BOOSTER WEIGHT--------\")\n",
    "print(scores_polhib['Indexes'].round(4))\n",
    "print(scores_polhib['Modularity'].round(4))\n",
    "polarizationhybrid_parts_communities = pd.DataFrame(polarizationhybrid_parts_communities)\n",
    "polarizationhybrid_parts_communities_5 = polarizationhybrid_parts_communities.transpose()"
   ]
  },
  {
   "cell_type": "code",
   "execution_count": 46,
   "id": "afaf1271",
   "metadata": {},
   "outputs": [
    {
     "name": "stderr",
     "output_type": "stream",
     "text": [
      "C:\\Users\\acer\\AppData\\Local\\Temp/ipykernel_12572/794740537.py:3: SettingWithCopyWarning: \n",
      "A value is trying to be set on a copy of a slice from a DataFrame.\n",
      "Try using .loc[row_indexer,col_indexer] = value instead\n",
      "\n",
      "See the caveats in the documentation: https://pandas.pydata.org/pandas-docs/stable/user_guide/indexing.html#returning-a-view-versus-a-copy\n",
      "  df_5Nov[\"Community_Screen_name\"] = np.where(df_5Nov[\"Screen_name\"].isin(community0), \"0\", \"1\")\n",
      "C:\\Users\\acer\\AppData\\Local\\Temp/ipykernel_12572/794740537.py:4: SettingWithCopyWarning: \n",
      "A value is trying to be set on a copy of a slice from a DataFrame.\n",
      "Try using .loc[row_indexer,col_indexer] = value instead\n",
      "\n",
      "See the caveats in the documentation: https://pandas.pydata.org/pandas-docs/stable/user_guide/indexing.html#returning-a-view-versus-a-copy\n",
      "  df_5Nov[\"Community_Retweet\"] = np.where(df_5Nov[\"Retweet\"].isin(community0), \"0\", \"1\")\n"
     ]
    },
    {
     "name": "stdout",
     "output_type": "stream",
     "text": [
      "Modularity community 0:  90.5081446096162\n",
      "Modularity community 1:  82.9887617181697\n",
      "33313\n",
      "33294\n"
     ]
    }
   ],
   "source": [
    "#STUDY THE COMMUNITIES FORMED USING ONLY THE TOPOLOGICAL STRUCTURE\n",
    "community0 = list(noweight_communities_5[0])\n",
    "df_5Nov[\"Community_Screen_name\"] = np.where(df_5Nov[\"Screen_name\"].isin(community0), \"0\", \"1\")\n",
    "df_5Nov[\"Community_Retweet\"] = np.where(df_5Nov[\"Retweet\"].isin(community0), \"0\", \"1\")\n",
    "df_5Nov_community0 = df_5Nov.loc[df_5Nov['Community_Screen_name']=='0']\n",
    "df_5Nov_community1 = df_5Nov.loc[df_5Nov['Community_Screen_name']=='1']\n",
    "Gcommunity0_5Nov = nx.from_pandas_edgelist(df_5Nov_community0, 'Screen_name', 'Retweet')\n",
    "print(\"Modularity community 0: \", community.modularity(community.best_partition(Gcommunity0_5Nov, random_state=1),Gcommunity0_5Nov)*100)\n",
    "Gcommunity1_5Nov = nx.from_pandas_edgelist(df_5Nov_community1, 'Screen_name', 'Retweet')\n",
    "print(\"Modularity community 1: \", community.modularity(community.best_partition(Gcommunity1_5Nov, random_state=1),Gcommunity1_5Nov)*100)\n",
    "nowmod0_5nov = community.modularity(community.best_partition(Gcommunity0_5Nov, random_state=1),Gcommunity0_5Nov)*100\n",
    "nowmod1_5nov = community.modularity(community.best_partition(Gcommunity1_5Nov,random_state=1),Gcommunity1_5Nov)*100\n",
    "\n",
    "nodes_comm0_noweight5nov = Gcommunity0_5Nov.number_of_nodes()\n",
    "nodes_comm1_noweight5nov = Gcommunity1_5Nov.number_of_nodes()\n",
    "print(nodes_comm0_noweight5nov)\n",
    "print(nodes_comm1_noweight5nov)"
   ]
  },
  {
   "cell_type": "code",
   "execution_count": 47,
   "id": "a862259b",
   "metadata": {},
   "outputs": [
    {
     "name": "stderr",
     "output_type": "stream",
     "text": [
      "C:\\Users\\acer\\AppData\\Local\\Temp/ipykernel_12572/3912575086.py:3: SettingWithCopyWarning: \n",
      "A value is trying to be set on a copy of a slice from a DataFrame.\n",
      "Try using .loc[row_indexer,col_indexer] = value instead\n",
      "\n",
      "See the caveats in the documentation: https://pandas.pydata.org/pandas-docs/stable/user_guide/indexing.html#returning-a-view-versus-a-copy\n",
      "  df_5Nov[\"Community_Screen_name\"] = np.where(df_5Nov[\"Screen_name\"].isin(community0), \"0\", \"1\")\n",
      "C:\\Users\\acer\\AppData\\Local\\Temp/ipykernel_12572/3912575086.py:4: SettingWithCopyWarning: \n",
      "A value is trying to be set on a copy of a slice from a DataFrame.\n",
      "Try using .loc[row_indexer,col_indexer] = value instead\n",
      "\n",
      "See the caveats in the documentation: https://pandas.pydata.org/pandas-docs/stable/user_guide/indexing.html#returning-a-view-versus-a-copy\n",
      "  df_5Nov[\"Community_Retweet\"] = np.where(df_5Nov[\"Retweet\"].isin(community0), \"0\", \"1\")\n"
     ]
    },
    {
     "name": "stdout",
     "output_type": "stream",
     "text": [
      "Modularity community 0:  83.19843452680192\n",
      "Modularity community 1:  90.43193152741996\n",
      "33398\n",
      "33235\n"
     ]
    }
   ],
   "source": [
    "#STUDY THE COMMUNITIES FORMED USING THE SENTIMENT SIMILARITY\n",
    "community0 = list(sentiment_parts_communities_5[0])\n",
    "df_5Nov[\"Community_Screen_name\"] = np.where(df_5Nov[\"Screen_name\"].isin(community0), \"0\", \"1\")\n",
    "df_5Nov[\"Community_Retweet\"] = np.where(df_5Nov[\"Retweet\"].isin(community0), \"0\", \"1\")\n",
    "df_5Nov_community0 = df_5Nov.loc[df_5Nov['Community_Screen_name']=='0']\n",
    "df_5Nov_community1 = df_5Nov.loc[df_5Nov['Community_Screen_name']=='1']\n",
    "Gcommunity0_5Nov = nx.from_pandas_edgelist(df_5Nov_community0, 'Screen_name', 'Retweet')\n",
    "mod0_5nov = community.modularity(community.best_partition(Gcommunity0_5Nov, random_state=1),Gcommunity0_5Nov)*100\n",
    "print(\"Modularity community 0: \", community.modularity(community.best_partition(Gcommunity0_5Nov, random_state=1),Gcommunity0_5Nov)*100)\n",
    "Gcommunity1_5Nov = nx.from_pandas_edgelist(df_5Nov_community1, 'Screen_name', 'Retweet')\n",
    "print(\"Modularity community 1: \", community.modularity(community.best_partition(Gcommunity1_5Nov,random_state=1),Gcommunity1_5Nov)*100)\n",
    "sentsimmod0_5nov = community.modularity(community.best_partition(Gcommunity0_5Nov, random_state=1),Gcommunity0_5Nov)*100\n",
    "sentsimmod1_5nov = community.modularity(community.best_partition(Gcommunity1_5Nov,random_state=1),Gcommunity1_5Nov)*100\n",
    "\n",
    "nodes_comm0_sentsimmod0_5nov = Gcommunity0_5Nov.number_of_nodes()\n",
    "nodes_comm1_sentsimmod1_5nov = Gcommunity1_5Nov.number_of_nodes()\n",
    "print(nodes_comm0_sentsimmod0_5nov)\n",
    "print(nodes_comm1_sentsimmod1_5nov)"
   ]
  },
  {
   "cell_type": "code",
   "execution_count": 48,
   "id": "2e3df22e",
   "metadata": {},
   "outputs": [
    {
     "name": "stderr",
     "output_type": "stream",
     "text": [
      "C:\\Users\\acer\\AppData\\Local\\Temp/ipykernel_12572/823627770.py:3: SettingWithCopyWarning: \n",
      "A value is trying to be set on a copy of a slice from a DataFrame.\n",
      "Try using .loc[row_indexer,col_indexer] = value instead\n",
      "\n",
      "See the caveats in the documentation: https://pandas.pydata.org/pandas-docs/stable/user_guide/indexing.html#returning-a-view-versus-a-copy\n",
      "  df_5Nov[\"Community_Screen_name\"] = np.where(df_5Nov[\"Screen_name\"].isin(community0), \"0\", \"1\")\n",
      "C:\\Users\\acer\\AppData\\Local\\Temp/ipykernel_12572/823627770.py:4: SettingWithCopyWarning: \n",
      "A value is trying to be set on a copy of a slice from a DataFrame.\n",
      "Try using .loc[row_indexer,col_indexer] = value instead\n",
      "\n",
      "See the caveats in the documentation: https://pandas.pydata.org/pandas-docs/stable/user_guide/indexing.html#returning-a-view-versus-a-copy\n",
      "  df_5Nov[\"Community_Retweet\"] = np.where(df_5Nov[\"Retweet\"].isin(community0), \"0\", \"1\")\n"
     ]
    },
    {
     "name": "stdout",
     "output_type": "stream",
     "text": [
      "Modularity community 0:  90.46601245333305\n",
      "Modularity community 1:  83.04664374445099\n",
      "33306\n",
      "33304\n"
     ]
    }
   ],
   "source": [
    "#STUDY THE COMMUNITIES FORMED USING THE POLARIZATION SIMILARITY\n",
    "community0 = list(polarization_parts_communities_5[0])\n",
    "df_5Nov[\"Community_Screen_name\"] = np.where(df_5Nov[\"Screen_name\"].isin(community0), \"0\", \"1\")\n",
    "df_5Nov[\"Community_Retweet\"] = np.where(df_5Nov[\"Retweet\"].isin(community0), \"0\", \"1\")\n",
    "df_5Nov_community0 = df_5Nov.loc[df_5Nov['Community_Screen_name']=='0']\n",
    "df_5Nov_community1 = df_5Nov.loc[df_5Nov['Community_Screen_name']=='1']\n",
    "Gcommunity0_5Nov = nx.from_pandas_edgelist(df_5Nov_community0, 'Screen_name', 'Retweet')\n",
    "mod0_5nov = community.modularity(community.best_partition(Gcommunity0_5Nov, random_state=1),Gcommunity0_5Nov)*100\n",
    "print(\"Modularity community 0: \", community.modularity(community.best_partition(Gcommunity0_5Nov, random_state=1),Gcommunity0_5Nov)*100)\n",
    "Gcommunity1_5Nov = nx.from_pandas_edgelist(df_5Nov_community1, 'Screen_name', 'Retweet')\n",
    "print(\"Modularity community 1: \", community.modularity(community.best_partition(Gcommunity1_5Nov,random_state=1),Gcommunity1_5Nov)*100)\n",
    "polsimmod0_5nov = community.modularity(community.best_partition(Gcommunity0_5Nov, random_state=1),Gcommunity0_5Nov)*100\n",
    "polsimmod1_5nov = community.modularity(community.best_partition(Gcommunity1_5Nov,random_state=1),Gcommunity1_5Nov)*100\n",
    "\n",
    "nodes_comm0_polsimmod0_5nov = Gcommunity0_5Nov.number_of_nodes()\n",
    "nodes_comm1_polsimmod1_5nov = Gcommunity1_5Nov.number_of_nodes()\n",
    "print(nodes_comm0_polsimmod0_5nov)\n",
    "print(nodes_comm1_polsimmod1_5nov)"
   ]
  },
  {
   "cell_type": "code",
   "execution_count": 49,
   "id": "535b97c4",
   "metadata": {},
   "outputs": [
    {
     "name": "stderr",
     "output_type": "stream",
     "text": [
      "C:\\Users\\acer\\AppData\\Local\\Temp/ipykernel_12572/518930120.py:3: SettingWithCopyWarning: \n",
      "A value is trying to be set on a copy of a slice from a DataFrame.\n",
      "Try using .loc[row_indexer,col_indexer] = value instead\n",
      "\n",
      "See the caveats in the documentation: https://pandas.pydata.org/pandas-docs/stable/user_guide/indexing.html#returning-a-view-versus-a-copy\n",
      "  df_5Nov[\"Community_Screen_name\"] = np.where(df_5Nov[\"Screen_name\"].isin(community0), \"0\", \"1\")\n",
      "C:\\Users\\acer\\AppData\\Local\\Temp/ipykernel_12572/518930120.py:4: SettingWithCopyWarning: \n",
      "A value is trying to be set on a copy of a slice from a DataFrame.\n",
      "Try using .loc[row_indexer,col_indexer] = value instead\n",
      "\n",
      "See the caveats in the documentation: https://pandas.pydata.org/pandas-docs/stable/user_guide/indexing.html#returning-a-view-versus-a-copy\n",
      "  df_5Nov[\"Community_Retweet\"] = np.where(df_5Nov[\"Retweet\"].isin(community0), \"0\", \"1\")\n"
     ]
    },
    {
     "name": "stdout",
     "output_type": "stream",
     "text": [
      "Modularity community 0:  83.19843452680192\n",
      "Modularity community 1:  90.43193152741996\n",
      "33398\n",
      "33235\n"
     ]
    }
   ],
   "source": [
    "#STUDY THE COMMUNITIES FORMED USING THE SENTIMENT HYBRID\n",
    "community0 = list(sentimenthybrid_parts_communities_5[0])\n",
    "df_5Nov[\"Community_Screen_name\"] = np.where(df_5Nov[\"Screen_name\"].isin(community0), \"0\", \"1\")\n",
    "df_5Nov[\"Community_Retweet\"] = np.where(df_5Nov[\"Retweet\"].isin(community0), \"0\", \"1\")\n",
    "df_5Nov_community0 = df_5Nov.loc[df_5Nov['Community_Screen_name']=='0']\n",
    "df_5Nov_community1 = df_5Nov.loc[df_5Nov['Community_Screen_name']=='1']\n",
    "Gcommunity0_5Nov = nx.from_pandas_edgelist(df_5Nov_community0, 'Screen_name', 'Retweet')\n",
    "print(\"Modularity community 0: \", community.modularity(community.best_partition(Gcommunity0_5Nov, random_state=1),Gcommunity0_5Nov)*100)\n",
    "Gcommunity1_5Nov = nx.from_pandas_edgelist(df_5Nov_community1, 'Screen_name', 'Retweet')\n",
    "print(\"Modularity community 1: \", community.modularity(community.best_partition(Gcommunity1_5Nov, random_state=1),Gcommunity1_5Nov)*100)\n",
    "sentmod0_5nov = community.modularity(community.best_partition(Gcommunity0_5Nov, random_state=1),Gcommunity0_5Nov)*100\n",
    "sentmod1_5nov = community.modularity(community.best_partition(Gcommunity1_5Nov,random_state=1),Gcommunity1_5Nov)*100\n",
    "\n",
    "nodes_comm0_sent5nov = Gcommunity0_5Nov.number_of_nodes()\n",
    "nodes_comm1_sent5nov = Gcommunity1_5Nov.number_of_nodes()\n",
    "print(nodes_comm0_sent5nov)\n",
    "print(nodes_comm1_sent5nov)"
   ]
  },
  {
   "cell_type": "code",
   "execution_count": 50,
   "id": "0ebdf326",
   "metadata": {},
   "outputs": [],
   "source": [
    "df_5Nov.to_csv(\"C:/Users/acer/OneDrive/Desktop/MATERIALE TESI/DATASET/Evaluation dataset/Sentiment community/day5_sent.csv\", index=False)"
   ]
  },
  {
   "cell_type": "code",
   "execution_count": 51,
   "id": "fed677ba",
   "metadata": {},
   "outputs": [
    {
     "name": "stderr",
     "output_type": "stream",
     "text": [
      "C:\\Users\\acer\\AppData\\Local\\Temp/ipykernel_12572/3048711170.py:3: SettingWithCopyWarning: \n",
      "A value is trying to be set on a copy of a slice from a DataFrame.\n",
      "Try using .loc[row_indexer,col_indexer] = value instead\n",
      "\n",
      "See the caveats in the documentation: https://pandas.pydata.org/pandas-docs/stable/user_guide/indexing.html#returning-a-view-versus-a-copy\n",
      "  df_5Nov[\"Community_Screen_name\"] = np.where(df_5Nov[\"Screen_name\"].isin(community0), \"0\", \"1\")\n",
      "C:\\Users\\acer\\AppData\\Local\\Temp/ipykernel_12572/3048711170.py:4: SettingWithCopyWarning: \n",
      "A value is trying to be set on a copy of a slice from a DataFrame.\n",
      "Try using .loc[row_indexer,col_indexer] = value instead\n",
      "\n",
      "See the caveats in the documentation: https://pandas.pydata.org/pandas-docs/stable/user_guide/indexing.html#returning-a-view-versus-a-copy\n",
      "  df_5Nov[\"Community_Retweet\"] = np.where(df_5Nov[\"Retweet\"].isin(community0), \"0\", \"1\")\n"
     ]
    },
    {
     "name": "stdout",
     "output_type": "stream",
     "text": [
      "Modularity community 0:  90.46601245333305\n",
      "Modularity community 1:  83.04664374445099\n",
      "33306\n",
      "33304\n"
     ]
    }
   ],
   "source": [
    "#STUDY THE COMMUNITIES FORMED USING THE POLARIZATION HYBRID\n",
    "community0 = list(polarization_parts_communities_5[0])\n",
    "df_5Nov[\"Community_Screen_name\"] = np.where(df_5Nov[\"Screen_name\"].isin(community0), \"0\", \"1\")\n",
    "df_5Nov[\"Community_Retweet\"] = np.where(df_5Nov[\"Retweet\"].isin(community0), \"0\", \"1\")\n",
    "df_5Nov_community0 = df_5Nov.loc[df_5Nov['Community_Screen_name']=='0']\n",
    "df_5Nov_community1 = df_5Nov.loc[df_5Nov['Community_Screen_name']=='1']\n",
    "Gcommunity0_5Nov = nx.from_pandas_edgelist(df_5Nov_community0, 'Screen_name', 'Retweet')\n",
    "print(\"Modularity community 0: \", community.modularity(community.best_partition(Gcommunity0_5Nov, random_state=1),Gcommunity0_5Nov)*100)\n",
    "Gcommunity1_5Nov = nx.from_pandas_edgelist(df_5Nov_community1, 'Screen_name', 'Retweet')\n",
    "print(\"Modularity community 1: \", community.modularity(community.best_partition(Gcommunity1_5Nov, random_state=1),Gcommunity1_5Nov)*100)\n",
    "polmod0_5nov = community.modularity(community.best_partition(Gcommunity0_5Nov, random_state=1),Gcommunity0_5Nov)*100\n",
    "polmod1_5nov = community.modularity(community.best_partition(Gcommunity1_5Nov,random_state=1),Gcommunity1_5Nov)*100\n",
    "\n",
    "nodes_comm0_pol5nov = Gcommunity0_5Nov.number_of_nodes()\n",
    "nodes_comm1_pol5nov = Gcommunity1_5Nov.number_of_nodes()\n",
    "print(nodes_comm0_pol5nov)\n",
    "print(nodes_comm1_pol5nov)"
   ]
  },
  {
   "cell_type": "markdown",
   "id": "c2ad0c0b",
   "metadata": {},
   "source": [
    "DAY 6"
   ]
  },
  {
   "cell_type": "code",
   "execution_count": 52,
   "id": "2d1e95b1",
   "metadata": {},
   "outputs": [],
   "source": [
    "df_6Nov = df.loc[df['Day']==6]\n",
    "#df_6Nov = df_6Nov[['Screen_name','Retweet','Text_clean','Polarization hybrid measure','Sentiment hybrid measure','Polarization distance','Sentiment distance']]\n",
    "#weights = dict(zip([tuple(x) for x in df_2Nov[['Screen_name','Retweet']].to_numpy()],df['Hybrid_measure']))\n",
    "G=nx.from_pandas_edgelist(df_6Nov,\"Screen_name\", \"Retweet\",create_using=nx.Graph(), edge_attr=['Tot connection user1,user2','Polarization hybrid measure','Sentiment hybrid measure','Polarization distance','Sentiment distance'])\n",
    "\n",
    "noweight_parts = nxmetis.partition(G, 2, edge_weight = 'Tot connection user1,user2', node_weight=None, node_size=None)\n",
    "sentiment_parts = nxmetis.partition(G, 2, edge_weight = 'Sentiment distance' , node_weight=None, node_size=None)\n",
    "polarization_parts = nxmetis.partition(G, 2, edge_weight = 'Polarization distance' , node_weight=None, node_size=None)\n",
    "sentimenthybrid_parts = nxmetis.partition(G, 2, edge_weight = 'Sentiment hybrid measure' , node_weight=None, node_size=None)\n",
    "polarizationhybrid_parts = nxmetis.partition(G, 2, edge_weight = 'Polarization hybrid measure' , node_weight=None, node_size=None)"
   ]
  },
  {
   "cell_type": "code",
   "execution_count": 53,
   "id": "04dbe9f3",
   "metadata": {},
   "outputs": [
    {
     "name": "stdout",
     "output_type": "stream",
     "text": [
      "--------TOPOLOGICAL WEIGHT--------\n",
      "                         min         max         avg        std\n",
      "Index                                                          \n",
      "Internal Density      0.0001      0.0001      0.0001     0.0000\n",
      "Edges inside      31203.0000  35876.0000  33539.5000  2336.5000\n",
      "Average Degree        1.9569      2.2500      2.1034     0.1465\n",
      "FOMD                  0.1178      0.2095      0.1637     0.0459\n",
      "TPR                   0.0037      0.0128      0.0083     0.0045\n",
      "Expansion             0.0055      0.0055      0.0055     0.0000\n",
      "Cut Ratio             0.0000      0.0000      0.0000     0.0000\n",
      "Conductance           0.0024      0.0028      0.0026     0.0002\n",
      "Normalized Cut        0.0052      0.0052      0.0052     0.0000\n",
      "Maximum-ODF           9.0000     12.0000     10.5000     1.5000\n",
      "Average-ODF           0.0055      0.0055      0.0055     0.0000\n",
      "Flake-ODF             0.0000      0.0000      0.0000     0.0000\n",
      "                         value\n",
      "Index                         \n",
      "Modularity (no overlap)  0.495\n",
      "--------SENTIMENT WEIGHT--------\n",
      "                         min         max         avg        std\n",
      "Index                                                          \n",
      "Internal Density      0.0001      0.0001      0.0001     0.0000\n",
      "Edges inside      31219.0000  35855.0000  33537.0000  2318.0000\n",
      "Average Degree        1.9518      2.2557      2.1038     0.1520\n",
      "FOMD                  0.1173      0.2102      0.1637     0.0465\n",
      "TPR                   0.0035      0.0129      0.0082     0.0047\n",
      "Expansion             0.0056      0.0057      0.0056     0.0000\n",
      "Cut Ratio             0.0000      0.0000      0.0000     0.0000\n",
      "Conductance           0.0025      0.0029      0.0027     0.0002\n",
      "Normalized Cut        0.0054      0.0054      0.0054     0.0000\n",
      "Maximum-ODF          11.0000     16.0000     13.5000     2.5000\n",
      "Average-ODF           0.0056      0.0057      0.0056     0.0000\n",
      "Flake-ODF             0.0000      0.0000      0.0000     0.0000\n",
      "                          value\n",
      "Index                          \n",
      "Modularity (no overlap)  0.4949\n",
      "--------POLARIZATION WEIGHT--------\n",
      "                         min         max         avg        std\n",
      "Index                                                          \n",
      "Internal Density      0.0001      0.0001      0.0001     0.0000\n",
      "Edges inside      31241.0000  35830.0000  33535.5000  2294.5000\n",
      "Average Degree        1.9520      2.2556      2.1038     0.1518\n",
      "FOMD                  0.1186      0.2088      0.1637     0.0451\n",
      "TPR                   0.0039      0.0125      0.0082     0.0043\n",
      "Expansion             0.0057      0.0058      0.0057     0.0000\n",
      "Cut Ratio             0.0000      0.0000      0.0000     0.0000\n",
      "Conductance           0.0025      0.0029      0.0027     0.0002\n",
      "Normalized Cut        0.0055      0.0055      0.0055     0.0000\n",
      "Maximum-ODF          13.0000     16.0000     14.5000     1.5000\n",
      "Average-ODF           0.0057      0.0058      0.0057     0.0000\n",
      "Flake-ODF             0.0000      0.0000      0.0000     0.0000\n",
      "                         value\n",
      "Index                         \n",
      "Modularity (no overlap)  0.495\n",
      "--------SENTIMENT BOOSTER WEIGHT--------\n",
      "                         min         max         avg        std\n",
      "Index                                                          \n",
      "Internal Density      0.0001      0.0001      0.0001     0.0000\n",
      "Edges inside      31219.0000  35855.0000  33537.0000  2318.0000\n",
      "Average Degree        1.9518      2.2557      2.1038     0.1520\n",
      "FOMD                  0.1173      0.2102      0.1637     0.0465\n",
      "TPR                   0.0035      0.0129      0.0082     0.0047\n",
      "Expansion             0.0056      0.0057      0.0056     0.0000\n",
      "Cut Ratio             0.0000      0.0000      0.0000     0.0000\n",
      "Conductance           0.0025      0.0029      0.0027     0.0002\n",
      "Normalized Cut        0.0054      0.0054      0.0054     0.0000\n",
      "Maximum-ODF          11.0000     16.0000     13.5000     2.5000\n",
      "Average-ODF           0.0056      0.0057      0.0056     0.0000\n",
      "Flake-ODF             0.0000      0.0000      0.0000     0.0000\n",
      "                          value\n",
      "Index                          \n",
      "Modularity (no overlap)  0.4949\n",
      "--------POLARIZATION BOOSTER WEIGHT--------\n",
      "                         min         max         avg        std\n",
      "Index                                                          \n",
      "Internal Density      0.0001      0.0001      0.0001     0.0000\n",
      "Edges inside      31241.0000  35830.0000  33535.5000  2294.5000\n",
      "Average Degree        1.9520      2.2556      2.1038     0.1518\n",
      "FOMD                  0.1186      0.2088      0.1637     0.0451\n",
      "TPR                   0.0039      0.0125      0.0082     0.0043\n",
      "Expansion             0.0057      0.0058      0.0057     0.0000\n",
      "Cut Ratio             0.0000      0.0000      0.0000     0.0000\n",
      "Conductance           0.0025      0.0029      0.0027     0.0002\n",
      "Normalized Cut        0.0055      0.0055      0.0055     0.0000\n",
      "Maximum-ODF          13.0000     16.0000     14.5000     1.5000\n",
      "Average-ODF           0.0057      0.0058      0.0057     0.0000\n",
      "Flake-ODF             0.0000      0.0000      0.0000     0.0000\n",
      "                         value\n",
      "Index                         \n",
      "Modularity (no overlap)  0.495\n"
     ]
    }
   ],
   "source": [
    "#FOMD\n",
    "#average degree\n",
    "#Expansion\n",
    "#Maximum-ODF\n",
    "noweight_communities = list(noweight_parts[1])\n",
    "scores_now = pquality.pquality_summary(G,noweight_communities)\n",
    "print(\"--------TOPOLOGICAL WEIGHT--------\")\n",
    "print(scores_now['Indexes'].round(4))\n",
    "print(scores_now['Modularity'].round(4))\n",
    "noweight_communities = pd.DataFrame(noweight_communities)\n",
    "noweight_communities_6 = noweight_communities.transpose()\n",
    "#------------------------------\n",
    "sentiment_parts_communities = list(sentiment_parts[1])\n",
    "sent_now = pquality.pquality_summary(G,sentiment_parts_communities)\n",
    "print(\"--------SENTIMENT WEIGHT--------\")\n",
    "print(sent_now['Indexes'].round(4))\n",
    "print(sent_now['Modularity'].round(4))\n",
    "sentiment_parts_communities = pd.DataFrame(sentiment_parts_communities)\n",
    "sentiment_parts_communities_6 = sentiment_parts_communities.transpose()\n",
    "#------------------------------\n",
    "polarization_parts_communities = list(polarization_parts[1])\n",
    "scores_pol = pquality.pquality_summary(G,polarization_parts_communities)\n",
    "print(\"--------POLARIZATION WEIGHT--------\")\n",
    "print(scores_pol['Indexes'].round(4))\n",
    "print(scores_pol['Modularity'].round(4))\n",
    "polarization_parts_communities = pd.DataFrame(polarization_parts_communities)\n",
    "polarization_parts_communities_6 = polarization_parts_communities.transpose()\n",
    "#------------------------------\n",
    "sentimenthybrid_parts_communities = list(sentimenthybrid_parts[1])\n",
    "scores_senthib = pquality.pquality_summary(G,sentimenthybrid_parts_communities)\n",
    "print(\"--------SENTIMENT BOOSTER WEIGHT--------\")\n",
    "print(scores_senthib['Indexes'].round(4))\n",
    "print(scores_senthib['Modularity'].round(4))\n",
    "sentimenthybrid_parts_communities = pd.DataFrame(sentimenthybrid_parts_communities)\n",
    "sentimenthybrid_parts_communities_6 = sentimenthybrid_parts_communities.transpose()\n",
    "#-----------------------------\n",
    "polarizationhybrid_parts_communities = list(polarizationhybrid_parts[1])\n",
    "scores_polhib = pquality.pquality_summary(G,polarizationhybrid_parts_communities)\n",
    "print(\"--------POLARIZATION BOOSTER WEIGHT--------\")\n",
    "print(scores_polhib['Indexes'].round(4))\n",
    "print(scores_polhib['Modularity'].round(4))\n",
    "polarizationhybrid_parts_communities = pd.DataFrame(polarizationhybrid_parts_communities)\n",
    "polarizationhybrid_parts_communities_6 = polarizationhybrid_parts_communities.transpose()"
   ]
  },
  {
   "cell_type": "code",
   "execution_count": 54,
   "id": "4c1b04fb",
   "metadata": {},
   "outputs": [
    {
     "name": "stderr",
     "output_type": "stream",
     "text": [
      "C:\\Users\\acer\\AppData\\Local\\Temp/ipykernel_12572/1343042377.py:3: SettingWithCopyWarning: \n",
      "A value is trying to be set on a copy of a slice from a DataFrame.\n",
      "Try using .loc[row_indexer,col_indexer] = value instead\n",
      "\n",
      "See the caveats in the documentation: https://pandas.pydata.org/pandas-docs/stable/user_guide/indexing.html#returning-a-view-versus-a-copy\n",
      "  df_6Nov[\"Community_Screen_name\"] = np.where(df_6Nov[\"Screen_name\"].isin(community0), \"0\", \"1\")\n",
      "C:\\Users\\acer\\AppData\\Local\\Temp/ipykernel_12572/1343042377.py:4: SettingWithCopyWarning: \n",
      "A value is trying to be set on a copy of a slice from a DataFrame.\n",
      "Try using .loc[row_indexer,col_indexer] = value instead\n",
      "\n",
      "See the caveats in the documentation: https://pandas.pydata.org/pandas-docs/stable/user_guide/indexing.html#returning-a-view-versus-a-copy\n",
      "  df_6Nov[\"Community_Retweet\"] = np.where(df_6Nov[\"Retweet\"].isin(community0), \"0\", \"1\")\n"
     ]
    },
    {
     "name": "stdout",
     "output_type": "stream",
     "text": [
      "Modularity community 0:  93.9044159508067\n",
      "Modularity community 1:  78.69334787872585\n",
      "31936\n",
      "31934\n"
     ]
    }
   ],
   "source": [
    "#STUDY THE COMMUNITIES FORMED USING ONLY THE TOPOLOGICAL STRUCTURE\n",
    "community0 = list(noweight_communities_6[0])\n",
    "df_6Nov[\"Community_Screen_name\"] = np.where(df_6Nov[\"Screen_name\"].isin(community0), \"0\", \"1\")\n",
    "df_6Nov[\"Community_Retweet\"] = np.where(df_6Nov[\"Retweet\"].isin(community0), \"0\", \"1\")\n",
    "df_6Nov_community0 = df_6Nov.loc[df_6Nov['Community_Screen_name']=='0']\n",
    "df_6Nov_community1 = df_6Nov.loc[df_6Nov['Community_Screen_name']=='1']\n",
    "Gcommunity0_6Nov = nx.from_pandas_edgelist(df_6Nov_community0, 'Screen_name', 'Retweet')\n",
    "print(\"Modularity community 0: \", community.modularity(community.best_partition(Gcommunity0_6Nov, random_state=1),Gcommunity0_6Nov)*100)\n",
    "Gcommunity1_6Nov = nx.from_pandas_edgelist(df_6Nov_community1, 'Screen_name', 'Retweet')\n",
    "print(\"Modularity community 1: \", community.modularity(community.best_partition(Gcommunity1_6Nov, random_state=1),Gcommunity1_6Nov)*100)\n",
    "nowmod0_6nov = community.modularity(community.best_partition(Gcommunity0_6Nov, random_state=1),Gcommunity0_6Nov)*100\n",
    "nowmod1_6nov = community.modularity(community.best_partition(Gcommunity1_6Nov,random_state=1),Gcommunity1_6Nov)*100\n",
    "\n",
    "nodes_comm0_noweight6nov = Gcommunity0_6Nov.number_of_nodes()\n",
    "nodes_comm1_noweight6nov = Gcommunity1_6Nov.number_of_nodes()\n",
    "print(nodes_comm0_noweight6nov)\n",
    "print(nodes_comm1_noweight6nov)"
   ]
  },
  {
   "cell_type": "code",
   "execution_count": 55,
   "id": "feaa493b",
   "metadata": {},
   "outputs": [
    {
     "name": "stderr",
     "output_type": "stream",
     "text": [
      "C:\\Users\\acer\\AppData\\Local\\Temp/ipykernel_12572/1625278561.py:4: SettingWithCopyWarning: \n",
      "A value is trying to be set on a copy of a slice from a DataFrame.\n",
      "Try using .loc[row_indexer,col_indexer] = value instead\n",
      "\n",
      "See the caveats in the documentation: https://pandas.pydata.org/pandas-docs/stable/user_guide/indexing.html#returning-a-view-versus-a-copy\n",
      "  df_6Nov[\"Community_Screen_name\"] = np.where(df_6Nov[\"Screen_name\"].isin(community0), \"0\", \"1\")\n",
      "C:\\Users\\acer\\AppData\\Local\\Temp/ipykernel_12572/1625278561.py:5: SettingWithCopyWarning: \n",
      "A value is trying to be set on a copy of a slice from a DataFrame.\n",
      "Try using .loc[row_indexer,col_indexer] = value instead\n",
      "\n",
      "See the caveats in the documentation: https://pandas.pydata.org/pandas-docs/stable/user_guide/indexing.html#returning-a-view-versus-a-copy\n",
      "  df_6Nov[\"Community_Retweet\"] = np.where(df_6Nov[\"Retweet\"].isin(community0), \"0\", \"1\")\n"
     ]
    },
    {
     "name": "stdout",
     "output_type": "stream",
     "text": [
      "Modularity community 0:  78.68985600425901\n",
      "Modularity community 1:  93.88955045172395\n",
      "31836\n",
      "32031\n"
     ]
    }
   ],
   "source": [
    "#STUDY THE COMMUNITIES FORMED USING THE SENTIMENT SIMILARITY\n",
    "\n",
    "community0 = list(sentiment_parts_communities_6[0])\n",
    "df_6Nov[\"Community_Screen_name\"] = np.where(df_6Nov[\"Screen_name\"].isin(community0), \"0\", \"1\")\n",
    "df_6Nov[\"Community_Retweet\"] = np.where(df_6Nov[\"Retweet\"].isin(community0), \"0\", \"1\")\n",
    "df_6Nov_community0 = df_6Nov.loc[df_6Nov['Community_Screen_name']=='0']\n",
    "df_6Nov_community1 = df_6Nov.loc[df_6Nov['Community_Screen_name']=='1']\n",
    "Gcommunity0_6Nov = nx.from_pandas_edgelist(df_6Nov_community0, 'Screen_name', 'Retweet')\n",
    "mod0_6nov = community.modularity(community.best_partition(Gcommunity0_6Nov, random_state=1),Gcommunity0_6Nov)*100\n",
    "print(\"Modularity community 0: \", community.modularity(community.best_partition(Gcommunity0_6Nov, random_state=1),Gcommunity0_6Nov)*100)\n",
    "Gcommunity1_6Nov = nx.from_pandas_edgelist(df_6Nov_community1, 'Screen_name', 'Retweet')\n",
    "print(\"Modularity community 1: \", community.modularity(community.best_partition(Gcommunity1_6Nov,random_state=1),Gcommunity1_6Nov)*100)\n",
    "sentsimmod0_6nov = community.modularity(community.best_partition(Gcommunity0_6Nov, random_state=1),Gcommunity0_6Nov)*100\n",
    "sentsimmod1_6nov = community.modularity(community.best_partition(Gcommunity1_6Nov,random_state=1),Gcommunity1_6Nov)*100\n",
    "\n",
    "nodes_comm0_sentsimmod0_6nov = Gcommunity0_6Nov.number_of_nodes()\n",
    "nodes_comm1_sentsimmod1_6nov = Gcommunity1_6Nov.number_of_nodes()\n",
    "print(nodes_comm0_sentsimmod0_6nov)\n",
    "print(nodes_comm1_sentsimmod1_6nov)"
   ]
  },
  {
   "cell_type": "code",
   "execution_count": 56,
   "id": "9deef184",
   "metadata": {},
   "outputs": [
    {
     "name": "stderr",
     "output_type": "stream",
     "text": [
      "C:\\Users\\acer\\AppData\\Local\\Temp/ipykernel_12572/3789387022.py:3: SettingWithCopyWarning: \n",
      "A value is trying to be set on a copy of a slice from a DataFrame.\n",
      "Try using .loc[row_indexer,col_indexer] = value instead\n",
      "\n",
      "See the caveats in the documentation: https://pandas.pydata.org/pandas-docs/stable/user_guide/indexing.html#returning-a-view-versus-a-copy\n",
      "  df_6Nov[\"Community_Screen_name\"] = np.where(df_6Nov[\"Screen_name\"].isin(community0), \"0\", \"1\")\n",
      "C:\\Users\\acer\\AppData\\Local\\Temp/ipykernel_12572/3789387022.py:4: SettingWithCopyWarning: \n",
      "A value is trying to be set on a copy of a slice from a DataFrame.\n",
      "Try using .loc[row_indexer,col_indexer] = value instead\n",
      "\n",
      "See the caveats in the documentation: https://pandas.pydata.org/pandas-docs/stable/user_guide/indexing.html#returning-a-view-versus-a-copy\n",
      "  df_6Nov[\"Community_Retweet\"] = np.where(df_6Nov[\"Retweet\"].isin(community0), \"0\", \"1\")\n"
     ]
    },
    {
     "name": "stdout",
     "output_type": "stream",
     "text": [
      "Modularity community 0:  78.6734543371518\n",
      "Modularity community 1:  93.90928023235092\n",
      "31817\n",
      "32050\n"
     ]
    }
   ],
   "source": [
    "#STUDY THE COMMUNITIES FORMED USING THE POLARIZATION SIMILARITY\n",
    "community0 = list(polarization_parts_communities_6[0])\n",
    "df_6Nov[\"Community_Screen_name\"] = np.where(df_6Nov[\"Screen_name\"].isin(community0), \"0\", \"1\")\n",
    "df_6Nov[\"Community_Retweet\"] = np.where(df_6Nov[\"Retweet\"].isin(community0), \"0\", \"1\")\n",
    "df_6Nov_community0 = df_6Nov.loc[df_6Nov['Community_Screen_name']=='0']\n",
    "df_6Nov_community1 = df_6Nov.loc[df_6Nov['Community_Screen_name']=='1']\n",
    "Gcommunity0_6Nov = nx.from_pandas_edgelist(df_6Nov_community0, 'Screen_name', 'Retweet')\n",
    "mod0_6nov = community.modularity(community.best_partition(Gcommunity0_6Nov, random_state=1),Gcommunity0_6Nov)*100\n",
    "print(\"Modularity community 0: \", community.modularity(community.best_partition(Gcommunity0_6Nov, random_state=1),Gcommunity0_6Nov)*100)\n",
    "Gcommunity1_6Nov = nx.from_pandas_edgelist(df_6Nov_community1, 'Screen_name', 'Retweet')\n",
    "print(\"Modularity community 1: \", community.modularity(community.best_partition(Gcommunity1_6Nov,random_state=1),Gcommunity1_6Nov)*100)\n",
    "polsimmod0_6nov = community.modularity(community.best_partition(Gcommunity0_6Nov, random_state=1),Gcommunity0_6Nov)*100\n",
    "polsimmod1_6nov = community.modularity(community.best_partition(Gcommunity1_6Nov,random_state=1),Gcommunity1_6Nov)*100\n",
    "\n",
    "nodes_comm0_polsimmod0_6nov = Gcommunity0_6Nov.number_of_nodes()\n",
    "nodes_comm1_polsimmod1_6nov = Gcommunity1_6Nov.number_of_nodes()\n",
    "print(nodes_comm0_polsimmod0_6nov)\n",
    "print(nodes_comm1_polsimmod1_6nov)"
   ]
  },
  {
   "cell_type": "code",
   "execution_count": 57,
   "id": "d58b48f7",
   "metadata": {},
   "outputs": [
    {
     "name": "stderr",
     "output_type": "stream",
     "text": [
      "C:\\Users\\acer\\AppData\\Local\\Temp/ipykernel_12572/3531362266.py:3: SettingWithCopyWarning: \n",
      "A value is trying to be set on a copy of a slice from a DataFrame.\n",
      "Try using .loc[row_indexer,col_indexer] = value instead\n",
      "\n",
      "See the caveats in the documentation: https://pandas.pydata.org/pandas-docs/stable/user_guide/indexing.html#returning-a-view-versus-a-copy\n",
      "  df_6Nov[\"Community_Screen_name\"] = np.where(df_6Nov[\"Screen_name\"].isin(community0), \"0\", \"1\")\n",
      "C:\\Users\\acer\\AppData\\Local\\Temp/ipykernel_12572/3531362266.py:4: SettingWithCopyWarning: \n",
      "A value is trying to be set on a copy of a slice from a DataFrame.\n",
      "Try using .loc[row_indexer,col_indexer] = value instead\n",
      "\n",
      "See the caveats in the documentation: https://pandas.pydata.org/pandas-docs/stable/user_guide/indexing.html#returning-a-view-versus-a-copy\n",
      "  df_6Nov[\"Community_Retweet\"] = np.where(df_6Nov[\"Retweet\"].isin(community0), \"0\", \"1\")\n"
     ]
    },
    {
     "name": "stdout",
     "output_type": "stream",
     "text": [
      "Modularity community 0:  78.68985600425901\n",
      "Modularity community 1:  93.88955045172395\n",
      "31836\n",
      "32031\n"
     ]
    }
   ],
   "source": [
    "#STUDY THE COMMUNITIES FORMED USING THE SENTIMENT HYBRID\n",
    "community0 = list(sentimenthybrid_parts_communities_6[0])\n",
    "df_6Nov[\"Community_Screen_name\"] = np.where(df_6Nov[\"Screen_name\"].isin(community0), \"0\", \"1\")\n",
    "df_6Nov[\"Community_Retweet\"] = np.where(df_6Nov[\"Retweet\"].isin(community0), \"0\", \"1\")\n",
    "df_6Nov_community0 = df_6Nov.loc[df_6Nov['Community_Screen_name']=='0']\n",
    "df_6Nov_community1 = df_6Nov.loc[df_6Nov['Community_Screen_name']=='1']\n",
    "Gcommunity0_6Nov = nx.from_pandas_edgelist(df_6Nov_community0, 'Screen_name', 'Retweet')\n",
    "print(\"Modularity community 0: \", community.modularity(community.best_partition(Gcommunity0_6Nov, random_state=1),Gcommunity0_6Nov)*100)\n",
    "Gcommunity1_6Nov = nx.from_pandas_edgelist(df_6Nov_community1, 'Screen_name', 'Retweet')\n",
    "print(\"Modularity community 1: \", community.modularity(community.best_partition(Gcommunity1_6Nov, random_state=1),Gcommunity1_6Nov)*100)\n",
    "sentmod0_6nov = community.modularity(community.best_partition(Gcommunity0_6Nov, random_state=1),Gcommunity0_6Nov)*100\n",
    "sentmod1_6nov = community.modularity(community.best_partition(Gcommunity1_6Nov,random_state=1),Gcommunity1_6Nov)*100\n",
    "\n",
    "nodes_comm0_sent6nov = Gcommunity0_6Nov.number_of_nodes()\n",
    "nodes_comm1_sent6nov = Gcommunity1_6Nov.number_of_nodes()\n",
    "print(nodes_comm0_sent6nov)\n",
    "print(nodes_comm1_sent6nov)"
   ]
  },
  {
   "cell_type": "code",
   "execution_count": 58,
   "id": "8c416311",
   "metadata": {},
   "outputs": [],
   "source": [
    "df_6Nov.to_csv(\"C:/Users/acer/OneDrive/Desktop/MATERIALE TESI/DATASET/Evaluation dataset/Sentiment community/day6_sent.csv\", index=False)"
   ]
  },
  {
   "cell_type": "code",
   "execution_count": 59,
   "id": "fa449e2b",
   "metadata": {},
   "outputs": [
    {
     "name": "stderr",
     "output_type": "stream",
     "text": [
      "C:\\Users\\acer\\AppData\\Local\\Temp/ipykernel_12572/2357207707.py:3: SettingWithCopyWarning: \n",
      "A value is trying to be set on a copy of a slice from a DataFrame.\n",
      "Try using .loc[row_indexer,col_indexer] = value instead\n",
      "\n",
      "See the caveats in the documentation: https://pandas.pydata.org/pandas-docs/stable/user_guide/indexing.html#returning-a-view-versus-a-copy\n",
      "  df_6Nov[\"Community_Screen_name\"] = np.where(df_6Nov[\"Screen_name\"].isin(community0), \"0\", \"1\")\n",
      "C:\\Users\\acer\\AppData\\Local\\Temp/ipykernel_12572/2357207707.py:4: SettingWithCopyWarning: \n",
      "A value is trying to be set on a copy of a slice from a DataFrame.\n",
      "Try using .loc[row_indexer,col_indexer] = value instead\n",
      "\n",
      "See the caveats in the documentation: https://pandas.pydata.org/pandas-docs/stable/user_guide/indexing.html#returning-a-view-versus-a-copy\n",
      "  df_6Nov[\"Community_Retweet\"] = np.where(df_6Nov[\"Retweet\"].isin(community0), \"0\", \"1\")\n"
     ]
    },
    {
     "name": "stdout",
     "output_type": "stream",
     "text": [
      "Modularity community 0:  78.6734543371518\n",
      "Modularity community 1:  93.90928023235092\n",
      "31817\n",
      "32050\n"
     ]
    }
   ],
   "source": [
    "#STUDY THE COMMUNITIES FORMED USING THE POLARIZATION HYBRID\n",
    "community0 = list(polarization_parts_communities_6[0])\n",
    "df_6Nov[\"Community_Screen_name\"] = np.where(df_6Nov[\"Screen_name\"].isin(community0), \"0\", \"1\")\n",
    "df_6Nov[\"Community_Retweet\"] = np.where(df_6Nov[\"Retweet\"].isin(community0), \"0\", \"1\")\n",
    "df_6Nov_community0 = df_6Nov.loc[df_6Nov['Community_Screen_name']=='0']\n",
    "df_6Nov_community1 = df_6Nov.loc[df_6Nov['Community_Screen_name']=='1']\n",
    "Gcommunity0_6Nov = nx.from_pandas_edgelist(df_6Nov_community0, 'Screen_name', 'Retweet')\n",
    "print(\"Modularity community 0: \", community.modularity(community.best_partition(Gcommunity0_6Nov, random_state=1),Gcommunity0_6Nov)*100)\n",
    "Gcommunity1_6Nov = nx.from_pandas_edgelist(df_6Nov_community1, 'Screen_name', 'Retweet')\n",
    "print(\"Modularity community 1: \", community.modularity(community.best_partition(Gcommunity1_6Nov, random_state=1),Gcommunity1_6Nov)*100)\n",
    "polmod0_6nov = community.modularity(community.best_partition(Gcommunity0_6Nov, random_state=1),Gcommunity0_6Nov)*100\n",
    "polmod1_6nov = community.modularity(community.best_partition(Gcommunity1_6Nov,random_state=1),Gcommunity1_6Nov)*100\n",
    "\n",
    "nodes_comm0_pol6nov = Gcommunity0_6Nov.number_of_nodes()\n",
    "nodes_comm1_pol6nov = Gcommunity1_6Nov.number_of_nodes()\n",
    "print(nodes_comm0_pol6nov)\n",
    "print(nodes_comm1_pol6nov)"
   ]
  },
  {
   "cell_type": "markdown",
   "id": "f247196a",
   "metadata": {},
   "source": [
    "DAY 7\n"
   ]
  },
  {
   "cell_type": "code",
   "execution_count": 60,
   "id": "2e7e624c",
   "metadata": {},
   "outputs": [],
   "source": [
    "df_7Nov = df.loc[df['Day']==7]\n",
    "#df_7Nov = df_7Nov[['Screen_name','Retweet','Text_clean','Polarization hybrid measure','Sentiment hybrid measure','Polarization distance','Sentiment distance']]\n",
    "#weights = dict(zip([tuple(x) for x in df_2Nov[['Screen_name','Retweet']].to_numpy()],df['Hybrid_measure']))\n",
    "G=nx.from_pandas_edgelist(df_7Nov,\"Screen_name\", \"Retweet\",create_using=nx.Graph(), edge_attr=['Tot connection user1,user2','Polarization hybrid measure','Sentiment hybrid measure','Polarization distance','Sentiment distance'])\n",
    "\n",
    "noweight_parts = nxmetis.partition(G, 2, edge_weight = 'Tot connection user1,user2', node_weight=None, node_size=None)\n",
    "sentiment_parts = nxmetis.partition(G, 2, edge_weight = 'Sentiment distance' , node_weight=None, node_size=None)\n",
    "polarization_parts = nxmetis.partition(G, 2, edge_weight = 'Polarization distance' , node_weight=None, node_size=None)\n",
    "sentimenthybrid_parts = nxmetis.partition(G, 2, edge_weight = 'Sentiment hybrid measure' , node_weight=None, node_size=None)\n",
    "polarizationhybrid_parts = nxmetis.partition(G, 2, edge_weight = 'Polarization hybrid measure' , node_weight=None, node_size=None)"
   ]
  },
  {
   "cell_type": "code",
   "execution_count": 61,
   "id": "68e7131d",
   "metadata": {},
   "outputs": [
    {
     "name": "stdout",
     "output_type": "stream",
     "text": [
      "--------TOPOLOGICAL WEIGHT--------\n",
      "                          min          max          avg        std\n",
      "Index                                                             \n",
      "Internal Density       0.0000       0.0000       0.0000     0.0000\n",
      "Edges inside      118679.0000  125801.0000  122240.0000  3561.0000\n",
      "Average Degree         2.2035       2.3324       2.2680     0.0644\n",
      "FOMD                   0.1753       0.1898       0.1826     0.0072\n",
      "TPR                    0.0075       0.0128       0.0102     0.0027\n",
      "Expansion              0.0230       0.0230       0.0230     0.0000\n",
      "Cut Ratio              0.0000       0.0000       0.0000     0.0000\n",
      "Conductance            0.0098       0.0103       0.0100     0.0003\n",
      "Normalized Cut         0.0199       0.0199       0.0199     0.0000\n",
      "Maximum-ODF          139.0000     146.0000     142.5000     3.5000\n",
      "Average-ODF            0.0230       0.0230       0.0230     0.0000\n",
      "Flake-ODF              0.0000       0.0000       0.0000     0.0000\n",
      "                          value\n",
      "Index                          \n",
      "Modularity (no overlap)  0.4895\n",
      "--------SENTIMENT WEIGHT--------\n",
      "                          min          max          avg        std\n",
      "Index                                                             \n",
      "Internal Density       0.0000       0.0000       0.0000     0.0000\n",
      "Edges inside      118916.0000  125593.0000  122254.5000  3338.5000\n",
      "Average Degree         2.2019       2.3349       2.2684     0.0665\n",
      "FOMD                   0.1743       0.1912       0.1828     0.0084\n",
      "TPR                    0.0077       0.0127       0.0102     0.0025\n",
      "Expansion              0.0227       0.0228       0.0227     0.0000\n",
      "Cut Ratio              0.0000       0.0000       0.0000     0.0000\n",
      "Conductance            0.0097       0.0102       0.0099     0.0003\n",
      "Normalized Cut         0.0197       0.0197       0.0197     0.0000\n",
      "Maximum-ODF          117.0000     428.0000     272.5000   155.5000\n",
      "Average-ODF            0.0227       0.0228       0.0227     0.0000\n",
      "Flake-ODF              0.0000       0.0000       0.0000     0.0000\n",
      "                          value\n",
      "Index                          \n",
      "Modularity (no overlap)  0.4897\n",
      "--------POLARIZATION WEIGHT--------\n",
      "                          min          max          avg        std\n",
      "Index                                                             \n",
      "Internal Density       0.0000       0.0000       0.0000     0.0000\n",
      "Edges inside      118672.0000  125779.0000  122225.5000  3553.5000\n",
      "Average Degree         2.2018       2.3336       2.2677     0.0659\n",
      "FOMD                   0.1735       0.1913       0.1824     0.0089\n",
      "TPR                    0.0074       0.0129       0.0101     0.0027\n",
      "Expansion              0.0233       0.0233       0.0233     0.0000\n",
      "Cut Ratio              0.0000       0.0000       0.0000     0.0000\n",
      "Conductance            0.0099       0.0105       0.0102     0.0003\n",
      "Normalized Cut         0.0201       0.0201       0.0201     0.0000\n",
      "Maximum-ODF          120.0000     165.0000     142.5000    22.5000\n",
      "Average-ODF            0.0233       0.0233       0.0233     0.0000\n",
      "Flake-ODF              0.0000       0.0000       0.0000     0.0000\n",
      "                          value\n",
      "Index                          \n",
      "Modularity (no overlap)  0.4894\n",
      "--------SENTIMENT BOOSTER WEIGHT--------\n",
      "                          min          max          avg        std\n",
      "Index                                                             \n",
      "Internal Density       0.0000       0.0000       0.0000     0.0000\n",
      "Edges inside      118916.0000  125593.0000  122254.5000  3338.5000\n",
      "Average Degree         2.2019       2.3349       2.2684     0.0665\n",
      "FOMD                   0.1743       0.1912       0.1828     0.0084\n",
      "TPR                    0.0077       0.0127       0.0102     0.0025\n",
      "Expansion              0.0227       0.0228       0.0227     0.0000\n",
      "Cut Ratio              0.0000       0.0000       0.0000     0.0000\n",
      "Conductance            0.0097       0.0102       0.0099     0.0003\n",
      "Normalized Cut         0.0197       0.0197       0.0197     0.0000\n",
      "Maximum-ODF          117.0000     428.0000     272.5000   155.5000\n",
      "Average-ODF            0.0227       0.0228       0.0227     0.0000\n",
      "Flake-ODF              0.0000       0.0000       0.0000     0.0000\n",
      "                          value\n",
      "Index                          \n",
      "Modularity (no overlap)  0.4897\n",
      "--------POLARIZATION BOOSTER WEIGHT--------\n",
      "                          min          max          avg        std\n",
      "Index                                                             \n",
      "Internal Density       0.0000       0.0000       0.0000     0.0000\n",
      "Edges inside      118672.0000  125779.0000  122225.5000  3553.5000\n",
      "Average Degree         2.2018       2.3336       2.2677     0.0659\n",
      "FOMD                   0.1735       0.1913       0.1824     0.0089\n",
      "TPR                    0.0074       0.0129       0.0101     0.0027\n",
      "Expansion              0.0233       0.0233       0.0233     0.0000\n",
      "Cut Ratio              0.0000       0.0000       0.0000     0.0000\n",
      "Conductance            0.0099       0.0105       0.0102     0.0003\n",
      "Normalized Cut         0.0201       0.0201       0.0201     0.0000\n",
      "Maximum-ODF          120.0000     165.0000     142.5000    22.5000\n",
      "Average-ODF            0.0233       0.0233       0.0233     0.0000\n",
      "Flake-ODF              0.0000       0.0000       0.0000     0.0000\n",
      "                          value\n",
      "Index                          \n",
      "Modularity (no overlap)  0.4894\n"
     ]
    }
   ],
   "source": [
    "#FOMD\n",
    "#average degree\n",
    "#Expansion\n",
    "#Maximum-ODF\n",
    "noweight_communities = list(noweight_parts[1])\n",
    "scores_now = pquality.pquality_summary(G,noweight_communities)\n",
    "print(\"--------TOPOLOGICAL WEIGHT--------\")\n",
    "print(scores_now['Indexes'].round(4))\n",
    "print(scores_now['Modularity'].round(4))\n",
    "noweight_communities = pd.DataFrame(noweight_communities)\n",
    "noweight_communities_7 = noweight_communities.transpose()\n",
    "#------------------------------\n",
    "sentiment_parts_communities = list(sentiment_parts[1])\n",
    "sent_now = pquality.pquality_summary(G,sentiment_parts_communities)\n",
    "print(\"--------SENTIMENT WEIGHT--------\")\n",
    "print(sent_now['Indexes'].round(4))\n",
    "print(sent_now['Modularity'].round(4))\n",
    "sentiment_parts_communities = pd.DataFrame(sentiment_parts_communities)\n",
    "sentiment_parts_communities_7 = sentiment_parts_communities.transpose()\n",
    "#------------------------------\n",
    "polarization_parts_communities = list(polarization_parts[1])\n",
    "scores_pol = pquality.pquality_summary(G,polarization_parts_communities)\n",
    "print(\"--------POLARIZATION WEIGHT--------\")\n",
    "print(scores_pol['Indexes'].round(4))\n",
    "print(scores_pol['Modularity'].round(4))\n",
    "polarization_parts_communities = pd.DataFrame(polarization_parts_communities)\n",
    "polarization_parts_communities_7 = polarization_parts_communities.transpose()\n",
    "#------------------------------\n",
    "sentimenthybrid_parts_communities = list(sentimenthybrid_parts[1])\n",
    "scores_senthib = pquality.pquality_summary(G,sentimenthybrid_parts_communities)\n",
    "print(\"--------SENTIMENT BOOSTER WEIGHT--------\")\n",
    "print(scores_senthib['Indexes'].round(4))\n",
    "print(scores_senthib['Modularity'].round(4))\n",
    "sentimenthybrid_parts_communities = pd.DataFrame(sentimenthybrid_parts_communities)\n",
    "sentimenthybrid_parts_communities_7 = sentimenthybrid_parts_communities.transpose()\n",
    "#-----------------------------\n",
    "polarizationhybrid_parts_communities = list(polarizationhybrid_parts[1])\n",
    "scores_polhib = pquality.pquality_summary(G,polarizationhybrid_parts_communities)\n",
    "print(\"--------POLARIZATION BOOSTER WEIGHT--------\")\n",
    "print(scores_polhib['Indexes'].round(4))\n",
    "print(scores_polhib['Modularity'].round(4))\n",
    "polarizationhybrid_parts_communities = pd.DataFrame(polarizationhybrid_parts_communities)\n",
    "polarizationhybrid_parts_communities_7 = polarizationhybrid_parts_communities.transpose()"
   ]
  },
  {
   "cell_type": "code",
   "execution_count": 62,
   "id": "76a22f1a",
   "metadata": {},
   "outputs": [
    {
     "name": "stderr",
     "output_type": "stream",
     "text": [
      "C:\\Users\\acer\\AppData\\Local\\Temp/ipykernel_12572/4161551978.py:3: SettingWithCopyWarning: \n",
      "A value is trying to be set on a copy of a slice from a DataFrame.\n",
      "Try using .loc[row_indexer,col_indexer] = value instead\n",
      "\n",
      "See the caveats in the documentation: https://pandas.pydata.org/pandas-docs/stable/user_guide/indexing.html#returning-a-view-versus-a-copy\n",
      "  df_7Nov[\"Community_Screen_name\"] = np.where(df_7Nov[\"Screen_name\"].isin(community0), \"0\", \"1\")\n",
      "C:\\Users\\acer\\AppData\\Local\\Temp/ipykernel_12572/4161551978.py:4: SettingWithCopyWarning: \n",
      "A value is trying to be set on a copy of a slice from a DataFrame.\n",
      "Try using .loc[row_indexer,col_indexer] = value instead\n",
      "\n",
      "See the caveats in the documentation: https://pandas.pydata.org/pandas-docs/stable/user_guide/indexing.html#returning-a-view-versus-a-copy\n",
      "  df_7Nov[\"Community_Retweet\"] = np.where(df_7Nov[\"Retweet\"].isin(community0), \"0\", \"1\")\n"
     ]
    },
    {
     "name": "stdout",
     "output_type": "stream",
     "text": [
      "Modularity community 0:  85.93541826607968\n",
      "Modularity community 1:  81.07634599661493\n",
      "108051\n",
      "108157\n"
     ]
    }
   ],
   "source": [
    "#STUDY THE COMMUNITIES FORMED USING ONLY THE TOPOLOGICAL STRUCTURE\n",
    "community0 = list(noweight_communities_7[0])\n",
    "df_7Nov[\"Community_Screen_name\"] = np.where(df_7Nov[\"Screen_name\"].isin(community0), \"0\", \"1\")\n",
    "df_7Nov[\"Community_Retweet\"] = np.where(df_7Nov[\"Retweet\"].isin(community0), \"0\", \"1\")\n",
    "df_7Nov_community0 = df_7Nov.loc[df_7Nov['Community_Screen_name']=='0']\n",
    "df_7Nov_community1 = df_7Nov.loc[df_7Nov['Community_Screen_name']=='1']\n",
    "Gcommunity0_7Nov = nx.from_pandas_edgelist(df_7Nov_community0, 'Screen_name', 'Retweet')\n",
    "print(\"Modularity community 0: \", community.modularity(community.best_partition(Gcommunity0_7Nov, random_state=1),Gcommunity0_7Nov)*100)\n",
    "Gcommunity1_7Nov = nx.from_pandas_edgelist(df_7Nov_community1, 'Screen_name', 'Retweet')\n",
    "print(\"Modularity community 1: \", community.modularity(community.best_partition(Gcommunity1_7Nov, random_state=1),Gcommunity1_7Nov)*100)\n",
    "nowmod0_7nov = community.modularity(community.best_partition(Gcommunity0_7Nov, random_state=1),Gcommunity0_7Nov)*100\n",
    "nowmod1_7nov = community.modularity(community.best_partition(Gcommunity1_7Nov,random_state=1),Gcommunity1_7Nov)*100\n",
    "\n",
    "nodes_comm0_noweight7nov = Gcommunity0_7Nov.number_of_nodes()\n",
    "nodes_comm1_noweight7nov = Gcommunity1_7Nov.number_of_nodes()\n",
    "print(nodes_comm0_noweight7nov)\n",
    "print(nodes_comm1_noweight7nov)"
   ]
  },
  {
   "cell_type": "code",
   "execution_count": 63,
   "id": "9a83e193",
   "metadata": {},
   "outputs": [
    {
     "name": "stderr",
     "output_type": "stream",
     "text": [
      "C:\\Users\\acer\\AppData\\Local\\Temp/ipykernel_12572/616175975.py:3: SettingWithCopyWarning: \n",
      "A value is trying to be set on a copy of a slice from a DataFrame.\n",
      "Try using .loc[row_indexer,col_indexer] = value instead\n",
      "\n",
      "See the caveats in the documentation: https://pandas.pydata.org/pandas-docs/stable/user_guide/indexing.html#returning-a-view-versus-a-copy\n",
      "  df_7Nov[\"Community_Screen_name\"] = np.where(df_7Nov[\"Screen_name\"].isin(community0), \"0\", \"1\")\n",
      "C:\\Users\\acer\\AppData\\Local\\Temp/ipykernel_12572/616175975.py:4: SettingWithCopyWarning: \n",
      "A value is trying to be set on a copy of a slice from a DataFrame.\n",
      "Try using .loc[row_indexer,col_indexer] = value instead\n",
      "\n",
      "See the caveats in the documentation: https://pandas.pydata.org/pandas-docs/stable/user_guide/indexing.html#returning-a-view-versus-a-copy\n",
      "  df_7Nov[\"Community_Retweet\"] = np.where(df_7Nov[\"Retweet\"].isin(community0), \"0\", \"1\")\n"
     ]
    },
    {
     "name": "stdout",
     "output_type": "stream",
     "text": [
      "Modularity community 0:  86.06997821900752\n",
      "Modularity community 1:  80.77285694841419\n",
      "107795\n",
      "108349\n"
     ]
    }
   ],
   "source": [
    "#STUDY THE COMMUNITIES FORMED USING THE SENTIMENT SIMILARITY\n",
    "community0 = list(sentiment_parts_communities_7[0])\n",
    "df_7Nov[\"Community_Screen_name\"] = np.where(df_7Nov[\"Screen_name\"].isin(community0), \"0\", \"1\")\n",
    "df_7Nov[\"Community_Retweet\"] = np.where(df_7Nov[\"Retweet\"].isin(community0), \"0\", \"1\")\n",
    "df_7Nov_community0 = df_7Nov.loc[df_7Nov['Community_Screen_name']=='0']\n",
    "df_7Nov_community1 = df_7Nov.loc[df_7Nov['Community_Screen_name']=='1']\n",
    "Gcommunity0_7Nov = nx.from_pandas_edgelist(df_7Nov_community0, 'Screen_name', 'Retweet')\n",
    "mod0_7nov = community.modularity(community.best_partition(Gcommunity0_7Nov, random_state=1),Gcommunity0_7Nov)*100\n",
    "print(\"Modularity community 0: \", community.modularity(community.best_partition(Gcommunity0_7Nov, random_state=1),Gcommunity0_7Nov)*100)\n",
    "Gcommunity1_7Nov = nx.from_pandas_edgelist(df_7Nov_community1, 'Screen_name', 'Retweet')\n",
    "print(\"Modularity community 1: \", community.modularity(community.best_partition(Gcommunity1_7Nov,random_state=1),Gcommunity1_7Nov)*100)\n",
    "sentsimmod0_7nov = community.modularity(community.best_partition(Gcommunity0_7Nov, random_state=1),Gcommunity0_7Nov)*100\n",
    "sentsimmod1_7nov = community.modularity(community.best_partition(Gcommunity1_7Nov,random_state=1),Gcommunity1_7Nov)*100\n",
    "\n",
    "nodes_comm0_sentsimmod0_7nov = Gcommunity0_7Nov.number_of_nodes()\n",
    "nodes_comm1_sentsimmod1_7nov = Gcommunity1_7Nov.number_of_nodes()\n",
    "print(nodes_comm0_sentsimmod0_7nov)\n",
    "print(nodes_comm1_sentsimmod1_7nov)"
   ]
  },
  {
   "cell_type": "code",
   "execution_count": 64,
   "id": "82695ed2",
   "metadata": {},
   "outputs": [
    {
     "name": "stderr",
     "output_type": "stream",
     "text": [
      "C:\\Users\\acer\\AppData\\Local\\Temp/ipykernel_12572/819305791.py:3: SettingWithCopyWarning: \n",
      "A value is trying to be set on a copy of a slice from a DataFrame.\n",
      "Try using .loc[row_indexer,col_indexer] = value instead\n",
      "\n",
      "See the caveats in the documentation: https://pandas.pydata.org/pandas-docs/stable/user_guide/indexing.html#returning-a-view-versus-a-copy\n",
      "  df_7Nov[\"Community_Screen_name\"] = np.where(df_7Nov[\"Screen_name\"].isin(community0), \"0\", \"1\")\n",
      "C:\\Users\\acer\\AppData\\Local\\Temp/ipykernel_12572/819305791.py:4: SettingWithCopyWarning: \n",
      "A value is trying to be set on a copy of a slice from a DataFrame.\n",
      "Try using .loc[row_indexer,col_indexer] = value instead\n",
      "\n",
      "See the caveats in the documentation: https://pandas.pydata.org/pandas-docs/stable/user_guide/indexing.html#returning-a-view-versus-a-copy\n",
      "  df_7Nov[\"Community_Retweet\"] = np.where(df_7Nov[\"Retweet\"].isin(community0), \"0\", \"1\")\n"
     ]
    },
    {
     "name": "stdout",
     "output_type": "stream",
     "text": [
      "Modularity community 0:  85.81840983305469\n",
      "Modularity community 1:  81.17284602802413\n",
      "108023\n",
      "108167\n"
     ]
    }
   ],
   "source": [
    "#STUDY THE COMMUNITIES FORMED USING THE POLARIZATION SIMILARITY\n",
    "community0 = list(polarization_parts_communities_7[0])\n",
    "df_7Nov[\"Community_Screen_name\"] = np.where(df_7Nov[\"Screen_name\"].isin(community0), \"0\", \"1\")\n",
    "df_7Nov[\"Community_Retweet\"] = np.where(df_7Nov[\"Retweet\"].isin(community0), \"0\", \"1\")\n",
    "df_7Nov_community0 = df_7Nov.loc[df_7Nov['Community_Screen_name']=='0']\n",
    "df_7Nov_community1 = df_7Nov.loc[df_7Nov['Community_Screen_name']=='1']\n",
    "Gcommunity0_7Nov = nx.from_pandas_edgelist(df_7Nov_community0, 'Screen_name', 'Retweet')\n",
    "mod0_7nov = community.modularity(community.best_partition(Gcommunity0_7Nov, random_state=1),Gcommunity0_7Nov)*100\n",
    "print(\"Modularity community 0: \", community.modularity(community.best_partition(Gcommunity0_7Nov, random_state=1),Gcommunity0_7Nov)*100)\n",
    "Gcommunity1_7Nov = nx.from_pandas_edgelist(df_7Nov_community1, 'Screen_name', 'Retweet')\n",
    "print(\"Modularity community 1: \", community.modularity(community.best_partition(Gcommunity1_7Nov,random_state=1),Gcommunity1_7Nov)*100)\n",
    "polsimmod0_7nov = community.modularity(community.best_partition(Gcommunity0_7Nov, random_state=1),Gcommunity0_7Nov)*100\n",
    "polsimmod1_7nov = community.modularity(community.best_partition(Gcommunity1_7Nov,random_state=1),Gcommunity1_7Nov)*100\n",
    "\n",
    "nodes_comm0_polsimmod0_7nov = Gcommunity0_7Nov.number_of_nodes()\n",
    "nodes_comm1_polsimmod1_7nov = Gcommunity1_7Nov.number_of_nodes()\n",
    "print(nodes_comm0_polsimmod0_7nov)\n",
    "print(nodes_comm1_polsimmod1_7nov)"
   ]
  },
  {
   "cell_type": "code",
   "execution_count": 65,
   "id": "eb5cd81a",
   "metadata": {},
   "outputs": [
    {
     "name": "stderr",
     "output_type": "stream",
     "text": [
      "C:\\Users\\acer\\AppData\\Local\\Temp/ipykernel_12572/1571960474.py:3: SettingWithCopyWarning: \n",
      "A value is trying to be set on a copy of a slice from a DataFrame.\n",
      "Try using .loc[row_indexer,col_indexer] = value instead\n",
      "\n",
      "See the caveats in the documentation: https://pandas.pydata.org/pandas-docs/stable/user_guide/indexing.html#returning-a-view-versus-a-copy\n",
      "  df_7Nov[\"Community_Screen_name\"] = np.where(df_7Nov[\"Screen_name\"].isin(community0), \"0\", \"1\")\n",
      "C:\\Users\\acer\\AppData\\Local\\Temp/ipykernel_12572/1571960474.py:4: SettingWithCopyWarning: \n",
      "A value is trying to be set on a copy of a slice from a DataFrame.\n",
      "Try using .loc[row_indexer,col_indexer] = value instead\n",
      "\n",
      "See the caveats in the documentation: https://pandas.pydata.org/pandas-docs/stable/user_guide/indexing.html#returning-a-view-versus-a-copy\n",
      "  df_7Nov[\"Community_Retweet\"] = np.where(df_7Nov[\"Retweet\"].isin(community0), \"0\", \"1\")\n"
     ]
    },
    {
     "name": "stdout",
     "output_type": "stream",
     "text": [
      "Modularity community 0:  86.06997821900752\n",
      "Modularity community 1:  80.77285694841419\n",
      "107795\n",
      "108349\n"
     ]
    }
   ],
   "source": [
    "#STUDY THE COMMUNITIES FORMED USING THE SENTIMENT HYBRID\n",
    "community0 = list(sentimenthybrid_parts_communities_7[0])\n",
    "df_7Nov[\"Community_Screen_name\"] = np.where(df_7Nov[\"Screen_name\"].isin(community0), \"0\", \"1\")\n",
    "df_7Nov[\"Community_Retweet\"] = np.where(df_7Nov[\"Retweet\"].isin(community0), \"0\", \"1\")\n",
    "df_7Nov_community0 = df_7Nov.loc[df_7Nov['Community_Screen_name']=='0']\n",
    "df_7Nov_community1 = df_7Nov.loc[df_7Nov['Community_Screen_name']=='1']\n",
    "Gcommunity0_7Nov = nx.from_pandas_edgelist(df_7Nov_community0, 'Screen_name', 'Retweet')\n",
    "print(\"Modularity community 0: \", community.modularity(community.best_partition(Gcommunity0_7Nov, random_state=1),Gcommunity0_7Nov)*100)\n",
    "Gcommunity1_7Nov = nx.from_pandas_edgelist(df_7Nov_community1, 'Screen_name', 'Retweet')\n",
    "print(\"Modularity community 1: \", community.modularity(community.best_partition(Gcommunity1_7Nov, random_state=1),Gcommunity1_7Nov)*100)\n",
    "sentmod0_7nov = community.modularity(community.best_partition(Gcommunity0_7Nov, random_state=1),Gcommunity0_7Nov)*100\n",
    "sentmod1_7nov = community.modularity(community.best_partition(Gcommunity1_7Nov,random_state=1),Gcommunity1_7Nov)*100\n",
    "\n",
    "nodes_comm0_sent7nov = Gcommunity0_7Nov.number_of_nodes()\n",
    "nodes_comm1_sent7nov = Gcommunity1_7Nov.number_of_nodes()\n",
    "print(nodes_comm0_sent7nov)\n",
    "print(nodes_comm1_sent7nov)"
   ]
  },
  {
   "cell_type": "code",
   "execution_count": 66,
   "id": "7a1f955d",
   "metadata": {},
   "outputs": [],
   "source": [
    "df_7Nov.to_csv(\"C:/Users/acer/OneDrive/Desktop/MATERIALE TESI/DATASET/Evaluation dataset/Sentiment community/day7_sent.csv\", index=False)"
   ]
  },
  {
   "cell_type": "code",
   "execution_count": 67,
   "id": "89d0999b",
   "metadata": {},
   "outputs": [
    {
     "name": "stderr",
     "output_type": "stream",
     "text": [
      "C:\\Users\\acer\\AppData\\Local\\Temp/ipykernel_12572/232372396.py:3: SettingWithCopyWarning: \n",
      "A value is trying to be set on a copy of a slice from a DataFrame.\n",
      "Try using .loc[row_indexer,col_indexer] = value instead\n",
      "\n",
      "See the caveats in the documentation: https://pandas.pydata.org/pandas-docs/stable/user_guide/indexing.html#returning-a-view-versus-a-copy\n",
      "  df_7Nov[\"Community_Screen_name\"] = np.where(df_7Nov[\"Screen_name\"].isin(community0), \"0\", \"1\")\n",
      "C:\\Users\\acer\\AppData\\Local\\Temp/ipykernel_12572/232372396.py:4: SettingWithCopyWarning: \n",
      "A value is trying to be set on a copy of a slice from a DataFrame.\n",
      "Try using .loc[row_indexer,col_indexer] = value instead\n",
      "\n",
      "See the caveats in the documentation: https://pandas.pydata.org/pandas-docs/stable/user_guide/indexing.html#returning-a-view-versus-a-copy\n",
      "  df_7Nov[\"Community_Retweet\"] = np.where(df_7Nov[\"Retweet\"].isin(community0), \"0\", \"1\")\n"
     ]
    },
    {
     "name": "stdout",
     "output_type": "stream",
     "text": [
      "Modularity community 0:  85.81840983305469\n",
      "Modularity community 1:  81.17284602802413\n",
      "108023\n",
      "108167\n"
     ]
    }
   ],
   "source": [
    "#STUDY THE COMMUNITIES FORMED USING THE POLARIZATION HYBRID\n",
    "community0 = list(polarization_parts_communities_7[0])\n",
    "df_7Nov[\"Community_Screen_name\"] = np.where(df_7Nov[\"Screen_name\"].isin(community0), \"0\", \"1\")\n",
    "df_7Nov[\"Community_Retweet\"] = np.where(df_7Nov[\"Retweet\"].isin(community0), \"0\", \"1\")\n",
    "df_7Nov_community0 = df_7Nov.loc[df_7Nov['Community_Screen_name']=='0']\n",
    "df_7Nov_community1 = df_7Nov.loc[df_7Nov['Community_Screen_name']=='1']\n",
    "Gcommunity0_7Nov = nx.from_pandas_edgelist(df_7Nov_community0, 'Screen_name', 'Retweet')\n",
    "print(\"Modularity community 0: \", community.modularity(community.best_partition(Gcommunity0_7Nov, random_state=1),Gcommunity0_7Nov)*100)\n",
    "Gcommunity1_7Nov = nx.from_pandas_edgelist(df_7Nov_community1, 'Screen_name', 'Retweet')\n",
    "print(\"Modularity community 1: \", community.modularity(community.best_partition(Gcommunity1_7Nov, random_state=1),Gcommunity1_7Nov)*100)\n",
    "polmod0_7nov = community.modularity(community.best_partition(Gcommunity0_7Nov, random_state=1),Gcommunity0_7Nov)*100\n",
    "polmod1_7nov = community.modularity(community.best_partition(Gcommunity1_7Nov,random_state=1),Gcommunity1_7Nov)*100\n",
    "\n",
    "nodes_comm0_pol7nov = Gcommunity0_7Nov.number_of_nodes()\n",
    "nodes_comm1_pol7nov = Gcommunity1_7Nov.number_of_nodes()\n",
    "print(nodes_comm0_pol7nov)\n",
    "print(nodes_comm1_pol7nov)"
   ]
  },
  {
   "cell_type": "markdown",
   "id": "0398e100",
   "metadata": {},
   "source": [
    "DAY 8"
   ]
  },
  {
   "cell_type": "code",
   "execution_count": 68,
   "id": "a8985daa",
   "metadata": {},
   "outputs": [],
   "source": [
    "df_8Nov = df.loc[df['Day']==8]\n",
    "#df_8Nov = df_8Nov[['Screen_name','Retweet','Text_clean','Polarization hybrid measure','Sentiment hybrid measure','Polarization distance','Sentiment distance']]\n",
    "#weights = dict(zip([tuple(x) for x in df_2Nov[['Screen_name','Retweet']].to_numpy()],df['Hybrid_measure']))\n",
    "G=nx.from_pandas_edgelist(df_8Nov,\"Screen_name\", \"Retweet\",create_using=nx.Graph(), edge_attr=['Tot connection user1,user2','Polarization hybrid measure','Sentiment hybrid measure','Polarization distance','Sentiment distance'])\n",
    "\n",
    "noweight_parts = nxmetis.partition(G, 2, edge_weight = 'Tot connection user1,user2', node_weight=None, node_size=None)\n",
    "sentiment_parts = nxmetis.partition(G, 2, edge_weight = 'Sentiment distance' , node_weight=None, node_size=None)\n",
    "polarization_parts = nxmetis.partition(G, 2, edge_weight = 'Polarization distance' , node_weight=None, node_size=None)\n",
    "sentimenthybrid_parts = nxmetis.partition(G, 2, edge_weight = 'Sentiment hybrid measure' , node_weight=None, node_size=None)\n",
    "polarizationhybrid_parts = nxmetis.partition(G, 2, edge_weight = 'Polarization hybrid measure' , node_weight=None, node_size=None)"
   ]
  },
  {
   "cell_type": "code",
   "execution_count": 69,
   "id": "de78d1c1",
   "metadata": {},
   "outputs": [
    {
     "name": "stdout",
     "output_type": "stream",
     "text": [
      "--------TOPOLOGICAL WEIGHT--------\n",
      "                         min         max         avg        std\n",
      "Index                                                          \n",
      "Internal Density      0.0001      0.0001      0.0001     0.0000\n",
      "Edges inside      15625.0000  18938.0000  17281.5000  1656.5000\n",
      "Average Degree        1.8125      2.1773      1.9949     0.1824\n",
      "FOMD                  0.1310      0.1712      0.1511     0.0201\n",
      "TPR                   0.0023      0.0076      0.0049     0.0027\n",
      "Expansion             0.0016      0.0016      0.0016     0.0000\n",
      "Cut Ratio             0.0000      0.0000      0.0000     0.0000\n",
      "Conductance           0.0007      0.0009      0.0008     0.0001\n",
      "Normalized Cut        0.0016      0.0016      0.0016     0.0000\n",
      "Maximum-ODF           2.0000      2.0000      2.0000     0.0000\n",
      "Average-ODF           0.0016      0.0016      0.0016     0.0000\n",
      "Flake-ODF             0.0000      0.0000      0.0000     0.0000\n",
      "                          value\n",
      "Index                          \n",
      "Modularity (no overlap)  0.4946\n",
      "--------SENTIMENT WEIGHT--------\n",
      "                         min         max         avg        std\n",
      "Index                                                          \n",
      "Internal Density      0.0001      0.0001      0.0001     0.0000\n",
      "Edges inside      15663.0000  18902.0000  17282.5000  1619.5000\n",
      "Average Degree        1.8182      2.1716      1.9949     0.1767\n",
      "FOMD                  0.1319      0.1703      0.1511     0.0192\n",
      "TPR                   0.0023      0.0076      0.0049     0.0027\n",
      "Expansion             0.0014      0.0015      0.0014     0.0000\n",
      "Cut Ratio             0.0000      0.0000      0.0000     0.0000\n",
      "Conductance           0.0007      0.0008      0.0007     0.0001\n",
      "Normalized Cut        0.0015      0.0015      0.0015     0.0000\n",
      "Maximum-ODF           1.0000      3.0000      2.0000     1.0000\n",
      "Average-ODF           0.0014      0.0015      0.0014     0.0000\n",
      "Flake-ODF             0.0000      0.0000      0.0000     0.0000\n",
      "                          value\n",
      "Index                          \n",
      "Modularity (no overlap)  0.4949\n",
      "--------POLARIZATION WEIGHT--------\n",
      "                         min         max         avg        std\n",
      "Index                                                          \n",
      "Internal Density      0.0001      0.0001      0.0001     0.0000\n",
      "Edges inside      15707.0000  18840.0000  17273.5000  1566.5000\n",
      "Average Degree        1.8189      2.1698      1.9943     0.1754\n",
      "FOMD                  0.1307      0.1710      0.1509     0.0202\n",
      "TPR                   0.0023      0.0076      0.0049     0.0027\n",
      "Expansion             0.0025      0.0025      0.0025     0.0000\n",
      "Cut Ratio             0.0000      0.0000      0.0000     0.0000\n",
      "Conductance           0.0011      0.0014      0.0013     0.0001\n",
      "Normalized Cut        0.0025      0.0025      0.0025     0.0000\n",
      "Maximum-ODF           3.0000      5.0000      4.0000     1.0000\n",
      "Average-ODF           0.0025      0.0025      0.0025     0.0000\n",
      "Flake-ODF             0.0000      0.0000      0.0000     0.0000\n",
      "                          value\n",
      "Index                          \n",
      "Modularity (no overlap)  0.4947\n",
      "--------SENTIMENT BOOSTER WEIGHT--------\n",
      "                         min         max         avg        std\n",
      "Index                                                          \n",
      "Internal Density      0.0001      0.0001      0.0001     0.0000\n",
      "Edges inside      15663.0000  18902.0000  17282.5000  1619.5000\n",
      "Average Degree        1.8182      2.1716      1.9949     0.1767\n",
      "FOMD                  0.1319      0.1703      0.1511     0.0192\n",
      "TPR                   0.0023      0.0076      0.0049     0.0027\n",
      "Expansion             0.0014      0.0015      0.0014     0.0000\n",
      "Cut Ratio             0.0000      0.0000      0.0000     0.0000\n",
      "Conductance           0.0007      0.0008      0.0007     0.0001\n",
      "Normalized Cut        0.0015      0.0015      0.0015     0.0000\n",
      "Maximum-ODF           1.0000      3.0000      2.0000     1.0000\n",
      "Average-ODF           0.0014      0.0015      0.0014     0.0000\n",
      "Flake-ODF             0.0000      0.0000      0.0000     0.0000\n",
      "                          value\n",
      "Index                          \n",
      "Modularity (no overlap)  0.4949\n",
      "--------POLARIZATION BOOSTER WEIGHT--------\n",
      "                         min         max         avg        std\n",
      "Index                                                          \n",
      "Internal Density      0.0001      0.0001      0.0001     0.0000\n",
      "Edges inside      15707.0000  18840.0000  17273.5000  1566.5000\n",
      "Average Degree        1.8189      2.1698      1.9943     0.1754\n",
      "FOMD                  0.1307      0.1710      0.1509     0.0202\n",
      "TPR                   0.0023      0.0076      0.0049     0.0027\n",
      "Expansion             0.0025      0.0025      0.0025     0.0000\n",
      "Cut Ratio             0.0000      0.0000      0.0000     0.0000\n",
      "Conductance           0.0011      0.0014      0.0013     0.0001\n",
      "Normalized Cut        0.0025      0.0025      0.0025     0.0000\n",
      "Maximum-ODF           3.0000      5.0000      4.0000     1.0000\n",
      "Average-ODF           0.0025      0.0025      0.0025     0.0000\n",
      "Flake-ODF             0.0000      0.0000      0.0000     0.0000\n",
      "                          value\n",
      "Index                          \n",
      "Modularity (no overlap)  0.4947\n"
     ]
    }
   ],
   "source": [
    "#FOMD\n",
    "#average degree\n",
    "#Expansion\n",
    "#Maximum-ODF\n",
    "noweight_communities = list(noweight_parts[1])\n",
    "scores_now = pquality.pquality_summary(G,noweight_communities)\n",
    "print(\"--------TOPOLOGICAL WEIGHT--------\")\n",
    "print(scores_now['Indexes'].round(4))\n",
    "print(scores_now['Modularity'].round(4))\n",
    "noweight_communities = pd.DataFrame(noweight_communities)\n",
    "noweight_communities_8 = noweight_communities.transpose()\n",
    "#------------------------------\n",
    "sentiment_parts_communities = list(sentiment_parts[1])\n",
    "sent_now = pquality.pquality_summary(G,sentiment_parts_communities)\n",
    "print(\"--------SENTIMENT WEIGHT--------\")\n",
    "print(sent_now['Indexes'].round(4))\n",
    "print(sent_now['Modularity'].round(4))\n",
    "sentiment_parts_communities = pd.DataFrame(sentiment_parts_communities)\n",
    "sentiment_parts_communities_8 = sentiment_parts_communities.transpose()\n",
    "#------------------------------\n",
    "polarization_parts_communities = list(polarization_parts[1])\n",
    "scores_pol = pquality.pquality_summary(G,polarization_parts_communities)\n",
    "print(\"--------POLARIZATION WEIGHT--------\")\n",
    "print(scores_pol['Indexes'].round(4))\n",
    "print(scores_pol['Modularity'].round(4))\n",
    "polarization_parts_communities = pd.DataFrame(polarization_parts_communities)\n",
    "polarization_parts_communities_8 = polarization_parts_communities.transpose()\n",
    "#------------------------------\n",
    "sentimenthybrid_parts_communities = list(sentimenthybrid_parts[1])\n",
    "scores_senthib = pquality.pquality_summary(G,sentimenthybrid_parts_communities)\n",
    "print(\"--------SENTIMENT BOOSTER WEIGHT--------\")\n",
    "print(scores_senthib['Indexes'].round(4))\n",
    "print(scores_senthib['Modularity'].round(4))\n",
    "sentimenthybrid_parts_communities = pd.DataFrame(sentimenthybrid_parts_communities)\n",
    "sentimenthybrid_parts_communities_8 = sentimenthybrid_parts_communities.transpose()\n",
    "#-----------------------------\n",
    "polarizationhybrid_parts_communities = list(polarizationhybrid_parts[1])\n",
    "scores_polhib = pquality.pquality_summary(G,polarizationhybrid_parts_communities)\n",
    "print(\"--------POLARIZATION BOOSTER WEIGHT--------\")\n",
    "print(scores_polhib['Indexes'].round(4))\n",
    "print(scores_polhib['Modularity'].round(4))\n",
    "polarizationhybrid_parts_communities = pd.DataFrame(polarizationhybrid_parts_communities)\n",
    "polarizationhybrid_parts_communities_8 = polarizationhybrid_parts_communities.transpose()"
   ]
  },
  {
   "cell_type": "code",
   "execution_count": 70,
   "id": "b4b46051",
   "metadata": {},
   "outputs": [
    {
     "name": "stderr",
     "output_type": "stream",
     "text": [
      "C:\\Users\\acer\\AppData\\Local\\Temp/ipykernel_12572/1923275730.py:3: SettingWithCopyWarning: \n",
      "A value is trying to be set on a copy of a slice from a DataFrame.\n",
      "Try using .loc[row_indexer,col_indexer] = value instead\n",
      "\n",
      "See the caveats in the documentation: https://pandas.pydata.org/pandas-docs/stable/user_guide/indexing.html#returning-a-view-versus-a-copy\n",
      "  df_8Nov[\"Community_Screen_name\"] = np.where(df_8Nov[\"Screen_name\"].isin(community0), \"0\", \"1\")\n",
      "C:\\Users\\acer\\AppData\\Local\\Temp/ipykernel_12572/1923275730.py:4: SettingWithCopyWarning: \n",
      "A value is trying to be set on a copy of a slice from a DataFrame.\n",
      "Try using .loc[row_indexer,col_indexer] = value instead\n",
      "\n",
      "See the caveats in the documentation: https://pandas.pydata.org/pandas-docs/stable/user_guide/indexing.html#returning-a-view-versus-a-copy\n",
      "  df_8Nov[\"Community_Retweet\"] = np.where(df_8Nov[\"Retweet\"].isin(community0), \"0\", \"1\")\n"
     ]
    },
    {
     "name": "stdout",
     "output_type": "stream",
     "text": [
      "Modularity community 0:  82.00906220056537\n",
      "Modularity community 1:  95.29565243066368\n",
      "17405\n",
      "17256\n"
     ]
    }
   ],
   "source": [
    "#STUDY THE COMMUNITIES FORMED USING ONLY THE TOPOLOGICAL STRUCTURE\n",
    "community0 = list(noweight_communities_8[0])\n",
    "df_8Nov[\"Community_Screen_name\"] = np.where(df_8Nov[\"Screen_name\"].isin(community0), \"0\", \"1\")\n",
    "df_8Nov[\"Community_Retweet\"] = np.where(df_8Nov[\"Retweet\"].isin(community0), \"0\", \"1\")\n",
    "df_8Nov_community0 = df_8Nov.loc[df_8Nov['Community_Screen_name']=='0']\n",
    "df_8Nov_community1 = df_8Nov.loc[df_8Nov['Community_Screen_name']=='1']\n",
    "Gcommunity0_8Nov = nx.from_pandas_edgelist(df_8Nov_community0, 'Screen_name', 'Retweet')\n",
    "print(\"Modularity community 0: \", community.modularity(community.best_partition(Gcommunity0_8Nov, random_state=1),Gcommunity0_8Nov)*100)\n",
    "Gcommunity1_8Nov = nx.from_pandas_edgelist(df_8Nov_community1, 'Screen_name', 'Retweet')\n",
    "print(\"Modularity community 1: \", community.modularity(community.best_partition(Gcommunity1_8Nov, random_state=1),Gcommunity1_8Nov)*100)\n",
    "nowmod0_8nov = community.modularity(community.best_partition(Gcommunity0_8Nov, random_state=1),Gcommunity0_8Nov)*100\n",
    "nowmod1_8nov = community.modularity(community.best_partition(Gcommunity1_8Nov,random_state=1),Gcommunity1_8Nov)*100\n",
    "\n",
    "nodes_comm0_noweight8nov = Gcommunity0_8Nov.number_of_nodes()\n",
    "nodes_comm1_noweight8nov = Gcommunity1_8Nov.number_of_nodes()\n",
    "print(nodes_comm0_noweight8nov)\n",
    "print(nodes_comm1_noweight8nov)"
   ]
  },
  {
   "cell_type": "code",
   "execution_count": 71,
   "id": "3ffd3079",
   "metadata": {},
   "outputs": [
    {
     "name": "stderr",
     "output_type": "stream",
     "text": [
      "C:\\Users\\acer\\AppData\\Local\\Temp/ipykernel_12572/2033501221.py:3: SettingWithCopyWarning: \n",
      "A value is trying to be set on a copy of a slice from a DataFrame.\n",
      "Try using .loc[row_indexer,col_indexer] = value instead\n",
      "\n",
      "See the caveats in the documentation: https://pandas.pydata.org/pandas-docs/stable/user_guide/indexing.html#returning-a-view-versus-a-copy\n",
      "  df_8Nov[\"Community_Screen_name\"] = np.where(df_8Nov[\"Screen_name\"].isin(community0), \"0\", \"1\")\n",
      "C:\\Users\\acer\\AppData\\Local\\Temp/ipykernel_12572/2033501221.py:4: SettingWithCopyWarning: \n",
      "A value is trying to be set on a copy of a slice from a DataFrame.\n",
      "Try using .loc[row_indexer,col_indexer] = value instead\n",
      "\n",
      "See the caveats in the documentation: https://pandas.pydata.org/pandas-docs/stable/user_guide/indexing.html#returning-a-view-versus-a-copy\n",
      "  df_8Nov[\"Community_Retweet\"] = np.where(df_8Nov[\"Retweet\"].isin(community0), \"0\", \"1\")\n"
     ]
    },
    {
     "name": "stdout",
     "output_type": "stream",
     "text": [
      "Modularity community 0:  81.93462798279107\n",
      "Modularity community 1:  95.33008555604886\n",
      "17419\n",
      "17240\n"
     ]
    }
   ],
   "source": [
    "#STUDY THE COMMUNITIES FORMED USING THE SENTIMENT SIMILARITY\n",
    "community0 = list(sentiment_parts_communities_8[0])\n",
    "df_8Nov[\"Community_Screen_name\"] = np.where(df_8Nov[\"Screen_name\"].isin(community0), \"0\", \"1\")\n",
    "df_8Nov[\"Community_Retweet\"] = np.where(df_8Nov[\"Retweet\"].isin(community0), \"0\", \"1\")\n",
    "df_8Nov_community0 = df_8Nov.loc[df_8Nov['Community_Screen_name']=='0']\n",
    "df_8Nov_community1 = df_8Nov.loc[df_8Nov['Community_Screen_name']=='1']\n",
    "Gcommunity0_8Nov = nx.from_pandas_edgelist(df_8Nov_community0, 'Screen_name', 'Retweet')\n",
    "mod0_8nov = community.modularity(community.best_partition(Gcommunity0_8Nov, random_state=1),Gcommunity0_8Nov)*100\n",
    "print(\"Modularity community 0: \", community.modularity(community.best_partition(Gcommunity0_8Nov, random_state=1),Gcommunity0_8Nov)*100)\n",
    "Gcommunity1_8Nov = nx.from_pandas_edgelist(df_8Nov_community1, 'Screen_name', 'Retweet')\n",
    "print(\"Modularity community 1: \", community.modularity(community.best_partition(Gcommunity1_8Nov,random_state=1),Gcommunity1_8Nov)*100)\n",
    "sentsimmod0_8nov = community.modularity(community.best_partition(Gcommunity0_8Nov, random_state=1),Gcommunity0_8Nov)*100\n",
    "sentsimmod1_8nov = community.modularity(community.best_partition(Gcommunity1_8Nov,random_state=1),Gcommunity1_8Nov)*100\n",
    "\n",
    "nodes_comm0_sentsimmod0_8nov = Gcommunity0_8Nov.number_of_nodes()\n",
    "nodes_comm1_sentsimmod1_8nov = Gcommunity1_8Nov.number_of_nodes()\n",
    "print(nodes_comm0_sentsimmod0_8nov)\n",
    "print(nodes_comm1_sentsimmod1_8nov)"
   ]
  },
  {
   "cell_type": "code",
   "execution_count": 72,
   "id": "cc0f71a2",
   "metadata": {},
   "outputs": [
    {
     "name": "stderr",
     "output_type": "stream",
     "text": [
      "C:\\Users\\acer\\AppData\\Local\\Temp/ipykernel_12572/1087301123.py:3: SettingWithCopyWarning: \n",
      "A value is trying to be set on a copy of a slice from a DataFrame.\n",
      "Try using .loc[row_indexer,col_indexer] = value instead\n",
      "\n",
      "See the caveats in the documentation: https://pandas.pydata.org/pandas-docs/stable/user_guide/indexing.html#returning-a-view-versus-a-copy\n",
      "  df_8Nov[\"Community_Screen_name\"] = np.where(df_8Nov[\"Screen_name\"].isin(community0), \"0\", \"1\")\n",
      "C:\\Users\\acer\\AppData\\Local\\Temp/ipykernel_12572/1087301123.py:4: SettingWithCopyWarning: \n",
      "A value is trying to be set on a copy of a slice from a DataFrame.\n",
      "Try using .loc[row_indexer,col_indexer] = value instead\n",
      "\n",
      "See the caveats in the documentation: https://pandas.pydata.org/pandas-docs/stable/user_guide/indexing.html#returning-a-view-versus-a-copy\n",
      "  df_8Nov[\"Community_Retweet\"] = np.where(df_8Nov[\"Retweet\"].isin(community0), \"0\", \"1\")\n"
     ]
    },
    {
     "name": "stdout",
     "output_type": "stream",
     "text": [
      "Modularity community 0:  95.34522737005814\n",
      "Modularity community 1:  81.89415634901937\n",
      "17287\n",
      "17379\n"
     ]
    }
   ],
   "source": [
    "#STUDY THE COMMUNITIES FORMED USING THE POLARIZATION SIMILARITY\n",
    "community0 = list(polarization_parts_communities_8[0])\n",
    "df_8Nov[\"Community_Screen_name\"] = np.where(df_8Nov[\"Screen_name\"].isin(community0), \"0\", \"1\")\n",
    "df_8Nov[\"Community_Retweet\"] = np.where(df_8Nov[\"Retweet\"].isin(community0), \"0\", \"1\")\n",
    "df_8Nov_community0 = df_8Nov.loc[df_8Nov['Community_Screen_name']=='0']\n",
    "df_8Nov_community1 = df_8Nov.loc[df_8Nov['Community_Screen_name']=='1']\n",
    "Gcommunity0_8Nov = nx.from_pandas_edgelist(df_8Nov_community0, 'Screen_name', 'Retweet')\n",
    "mod0_8nov = community.modularity(community.best_partition(Gcommunity0_8Nov, random_state=1),Gcommunity0_8Nov)*100\n",
    "print(\"Modularity community 0: \", community.modularity(community.best_partition(Gcommunity0_8Nov, random_state=1),Gcommunity0_8Nov)*100)\n",
    "Gcommunity1_8Nov = nx.from_pandas_edgelist(df_8Nov_community1, 'Screen_name', 'Retweet')\n",
    "print(\"Modularity community 1: \", community.modularity(community.best_partition(Gcommunity1_8Nov,random_state=1),Gcommunity1_8Nov)*100)\n",
    "polsimmod0_8nov = community.modularity(community.best_partition(Gcommunity0_8Nov, random_state=1),Gcommunity0_8Nov)*100\n",
    "polsimmod1_8nov = community.modularity(community.best_partition(Gcommunity1_8Nov,random_state=1),Gcommunity1_8Nov)*100\n",
    "\n",
    "nodes_comm0_polsimmod0_8nov = Gcommunity0_8Nov.number_of_nodes()\n",
    "nodes_comm1_polsimmod1_8nov = Gcommunity1_8Nov.number_of_nodes()\n",
    "print(nodes_comm0_polsimmod0_8nov)\n",
    "print(nodes_comm1_polsimmod1_8nov)"
   ]
  },
  {
   "cell_type": "code",
   "execution_count": 73,
   "id": "b73a0387",
   "metadata": {},
   "outputs": [
    {
     "name": "stderr",
     "output_type": "stream",
     "text": [
      "C:\\Users\\acer\\AppData\\Local\\Temp/ipykernel_12572/3288186890.py:3: SettingWithCopyWarning: \n",
      "A value is trying to be set on a copy of a slice from a DataFrame.\n",
      "Try using .loc[row_indexer,col_indexer] = value instead\n",
      "\n",
      "See the caveats in the documentation: https://pandas.pydata.org/pandas-docs/stable/user_guide/indexing.html#returning-a-view-versus-a-copy\n",
      "  df_8Nov[\"Community_Screen_name\"] = np.where(df_8Nov[\"Screen_name\"].isin(community0), \"0\", \"1\")\n",
      "C:\\Users\\acer\\AppData\\Local\\Temp/ipykernel_12572/3288186890.py:4: SettingWithCopyWarning: \n",
      "A value is trying to be set on a copy of a slice from a DataFrame.\n",
      "Try using .loc[row_indexer,col_indexer] = value instead\n",
      "\n",
      "See the caveats in the documentation: https://pandas.pydata.org/pandas-docs/stable/user_guide/indexing.html#returning-a-view-versus-a-copy\n",
      "  df_8Nov[\"Community_Retweet\"] = np.where(df_8Nov[\"Retweet\"].isin(community0), \"0\", \"1\")\n"
     ]
    },
    {
     "name": "stdout",
     "output_type": "stream",
     "text": [
      "Modularity community 0:  81.93462798279107\n",
      "Modularity community 1:  95.33008555604886\n",
      "17419\n",
      "17240\n"
     ]
    }
   ],
   "source": [
    "#STUDY THE COMMUNITIES FORMED USING THE SENTIMENT HYBRID\n",
    "community0 = list(sentimenthybrid_parts_communities_8[0])\n",
    "df_8Nov[\"Community_Screen_name\"] = np.where(df_8Nov[\"Screen_name\"].isin(community0), \"0\", \"1\")\n",
    "df_8Nov[\"Community_Retweet\"] = np.where(df_8Nov[\"Retweet\"].isin(community0), \"0\", \"1\")\n",
    "df_8Nov_community0 = df_8Nov.loc[df_8Nov['Community_Screen_name']=='0']\n",
    "df_8Nov_community1 = df_8Nov.loc[df_8Nov['Community_Screen_name']=='1']\n",
    "Gcommunity0_8Nov = nx.from_pandas_edgelist(df_8Nov_community0, 'Screen_name', 'Retweet')\n",
    "print(\"Modularity community 0: \", community.modularity(community.best_partition(Gcommunity0_8Nov, random_state=1),Gcommunity0_8Nov)*100)\n",
    "Gcommunity1_8Nov = nx.from_pandas_edgelist(df_8Nov_community1, 'Screen_name', 'Retweet')\n",
    "print(\"Modularity community 1: \", community.modularity(community.best_partition(Gcommunity1_8Nov, random_state=1),Gcommunity1_8Nov)*100)\n",
    "sentmod0_8nov = community.modularity(community.best_partition(Gcommunity0_8Nov, random_state=1),Gcommunity0_8Nov)*100\n",
    "sentmod1_8nov = community.modularity(community.best_partition(Gcommunity1_8Nov,random_state=1),Gcommunity1_8Nov)*100\n",
    "\n",
    "nodes_comm0_sent8nov = Gcommunity0_8Nov.number_of_nodes()\n",
    "nodes_comm1_sent8nov = Gcommunity1_8Nov.number_of_nodes()\n",
    "print(nodes_comm0_sent8nov)\n",
    "print(nodes_comm1_sent8nov)"
   ]
  },
  {
   "cell_type": "code",
   "execution_count": 74,
   "id": "d6d1bbbf",
   "metadata": {},
   "outputs": [],
   "source": [
    "df_8Nov.to_csv(\"C:/Users/acer/OneDrive/Desktop/MATERIALE TESI/DATASET/Evaluation dataset/Sentiment community/day8_sent.csv\", index=False)"
   ]
  },
  {
   "cell_type": "code",
   "execution_count": 75,
   "id": "570878cb",
   "metadata": {},
   "outputs": [
    {
     "name": "stderr",
     "output_type": "stream",
     "text": [
      "C:\\Users\\acer\\AppData\\Local\\Temp/ipykernel_12572/918942191.py:3: SettingWithCopyWarning: \n",
      "A value is trying to be set on a copy of a slice from a DataFrame.\n",
      "Try using .loc[row_indexer,col_indexer] = value instead\n",
      "\n",
      "See the caveats in the documentation: https://pandas.pydata.org/pandas-docs/stable/user_guide/indexing.html#returning-a-view-versus-a-copy\n",
      "  df_8Nov[\"Community_Screen_name\"] = np.where(df_8Nov[\"Screen_name\"].isin(community0), \"0\", \"1\")\n",
      "C:\\Users\\acer\\AppData\\Local\\Temp/ipykernel_12572/918942191.py:4: SettingWithCopyWarning: \n",
      "A value is trying to be set on a copy of a slice from a DataFrame.\n",
      "Try using .loc[row_indexer,col_indexer] = value instead\n",
      "\n",
      "See the caveats in the documentation: https://pandas.pydata.org/pandas-docs/stable/user_guide/indexing.html#returning-a-view-versus-a-copy\n",
      "  df_8Nov[\"Community_Retweet\"] = np.where(df_8Nov[\"Retweet\"].isin(community0), \"0\", \"1\")\n"
     ]
    },
    {
     "name": "stdout",
     "output_type": "stream",
     "text": [
      "Modularity community 0:  95.34522737005814\n",
      "Modularity community 1:  81.89415634901937\n",
      "17287\n",
      "17379\n"
     ]
    }
   ],
   "source": [
    "#STUDY THE COMMUNITIES FORMED USING THE POLARIZATION HYBRID\n",
    "community0 = list(polarization_parts_communities_8[0])\n",
    "df_8Nov[\"Community_Screen_name\"] = np.where(df_8Nov[\"Screen_name\"].isin(community0), \"0\", \"1\")\n",
    "df_8Nov[\"Community_Retweet\"] = np.where(df_8Nov[\"Retweet\"].isin(community0), \"0\", \"1\")\n",
    "df_8Nov_community0 = df_8Nov.loc[df_8Nov['Community_Screen_name']=='0']\n",
    "df_8Nov_community1 = df_8Nov.loc[df_8Nov['Community_Screen_name']=='1']\n",
    "Gcommunity0_8Nov = nx.from_pandas_edgelist(df_8Nov_community0, 'Screen_name', 'Retweet')\n",
    "print(\"Modularity community 0: \", community.modularity(community.best_partition(Gcommunity0_8Nov, random_state=1),Gcommunity0_8Nov)*100)\n",
    "Gcommunity1_8Nov = nx.from_pandas_edgelist(df_8Nov_community1, 'Screen_name', 'Retweet')\n",
    "print(\"Modularity community 1: \", community.modularity(community.best_partition(Gcommunity1_8Nov, random_state=1),Gcommunity1_8Nov)*100)\n",
    "polmod0_8nov = community.modularity(community.best_partition(Gcommunity0_8Nov, random_state=1),Gcommunity0_8Nov)*100\n",
    "polmod1_8nov = community.modularity(community.best_partition(Gcommunity1_8Nov,random_state=1),Gcommunity1_8Nov)*100\n",
    "\n",
    "nodes_comm0_pol8nov = Gcommunity0_8Nov.number_of_nodes()\n",
    "nodes_comm1_pol8nov = Gcommunity1_8Nov.number_of_nodes()\n",
    "print(nodes_comm0_pol8nov)\n",
    "print(nodes_comm1_pol8nov)"
   ]
  },
  {
   "cell_type": "markdown",
   "id": "a7cf18a8",
   "metadata": {},
   "source": [
    "DAY 9"
   ]
  },
  {
   "cell_type": "code",
   "execution_count": 76,
   "id": "56ba6e81",
   "metadata": {},
   "outputs": [],
   "source": [
    "df_9Nov = df.loc[df['Day']==9]\n",
    "#df_9Nov = df_9Nov[['Screen_name','Retweet','Text_clean','Polarization hybrid measure','Sentiment hybrid measure','Polarization distance','Sentiment distance']]\n",
    "#weights = dict(zip([tuple(x) for x in df_2Nov[['Screen_name','Retweet']].to_numpy()],df['Hybrid_measure']))\n",
    "G=nx.from_pandas_edgelist(df_9Nov,\"Screen_name\", \"Retweet\",create_using=nx.Graph(), edge_attr=['Tot connection user1,user2','Polarization hybrid measure','Sentiment hybrid measure','Polarization distance','Sentiment distance'])\n",
    "\n",
    "noweight_parts = nxmetis.partition(G, 2, edge_weight = 'Tot connection user1,user2', node_weight=None, node_size=None)\n",
    "sentiment_parts = nxmetis.partition(G, 2, edge_weight = 'Sentiment distance' , node_weight=None, node_size=None)\n",
    "polarization_parts = nxmetis.partition(G, 2, edge_weight = 'Polarization distance' , node_weight=None, node_size=None)\n",
    "sentimenthybrid_parts = nxmetis.partition(G, 2, edge_weight = 'Sentiment hybrid measure' , node_weight=None, node_size=None)\n",
    "polarizationhybrid_parts = nxmetis.partition(G, 2, edge_weight = 'Polarization hybrid measure' , node_weight=None, node_size=None)"
   ]
  },
  {
   "cell_type": "code",
   "execution_count": 77,
   "id": "d3cb4f3f",
   "metadata": {},
   "outputs": [
    {
     "name": "stdout",
     "output_type": "stream",
     "text": [
      "--------TOPOLOGICAL WEIGHT--------\n",
      "                        min         max        avg       std\n",
      "Index                                                       \n",
      "Internal Density     0.0002      0.0002     0.0002    0.0000\n",
      "Edges inside      8719.0000  10230.0000  9474.5000  755.5000\n",
      "Average Degree       1.7591      2.1041     1.9316    0.1725\n",
      "FOMD                 0.1139      0.1681     0.1410    0.0271\n",
      "TPR                  0.0039      0.0081     0.0060    0.0021\n",
      "Expansion            0.0395      0.0403     0.0399    0.0004\n",
      "Cut Ratio            0.0000      0.0000     0.0000    0.0000\n",
      "Conductance          0.0188      0.0220     0.0204    0.0016\n",
      "Normalized Cut       0.0399      0.0401     0.0400    0.0001\n",
      "Maximum-ODF         15.0000    262.0000   138.5000  123.5000\n",
      "Average-ODF          0.0395      0.0403     0.0399    0.0004\n",
      "Flake-ODF            0.0000      0.0000     0.0000    0.0000\n",
      "                          value\n",
      "Index                          \n",
      "Modularity (no overlap)  0.4767\n",
      "--------SENTIMENT WEIGHT--------\n",
      "                        min         max        avg       std\n",
      "Index                                                       \n",
      "Internal Density     0.0002      0.0002     0.0002    0.0000\n",
      "Edges inside      8703.0000  10244.0000  9473.5000  770.5000\n",
      "Average Degree       1.7632      2.0981     1.9306    0.1675\n",
      "FOMD                 0.1114      0.1697     0.1406    0.0291\n",
      "TPR                  0.0040      0.0081     0.0060    0.0021\n",
      "Expansion            0.0399      0.0403     0.0401    0.0002\n",
      "Cut Ratio            0.0000      0.0000     0.0000    0.0000\n",
      "Conductance          0.0189      0.0221     0.0205    0.0016\n",
      "Normalized Cut       0.0401      0.0403     0.0402    0.0001\n",
      "Maximum-ODF         15.0000    232.0000   123.5000  108.5000\n",
      "Average-ODF          0.0399      0.0403     0.0401    0.0002\n",
      "Flake-ODF            0.0000      0.0000     0.0000    0.0000\n",
      "                          value\n",
      "Index                          \n",
      "Modularity (no overlap)  0.4765\n",
      "--------POLARIZATION WEIGHT--------\n",
      "                        min         max        avg       std\n",
      "Index                                                       \n",
      "Internal Density     0.0002      0.0002     0.0002    0.0000\n",
      "Edges inside      8742.0000  10206.0000  9474.0000  732.0000\n",
      "Average Degree       1.7530      2.1124     1.9327    0.1797\n",
      "FOMD                 0.1153      0.1668     0.1411    0.0258\n",
      "TPR                  0.0039      0.0082     0.0060    0.0021\n",
      "Expansion            0.0394      0.0407     0.0400    0.0006\n",
      "Cut Ratio            0.0000      0.0000     0.0000    0.0000\n",
      "Conductance          0.0189      0.0220     0.0204    0.0015\n",
      "Normalized Cut       0.0399      0.0402     0.0401    0.0001\n",
      "Maximum-ODF         17.0000    243.0000   130.0000  113.0000\n",
      "Average-ODF          0.0394      0.0407     0.0400    0.0006\n",
      "Flake-ODF            0.0000      0.0000     0.0000    0.0000\n",
      "                          value\n",
      "Index                          \n",
      "Modularity (no overlap)  0.4768\n",
      "--------SENTIMENT BOOSTER WEIGHT--------\n",
      "                         min          max         avg        std\n",
      "Index                                                           \n",
      "Internal Density     0.00018      0.00021     0.00020    0.00002\n",
      "Edges inside      8703.00000  10244.00000  9473.50000  770.50000\n",
      "Average Degree       1.76317      2.09811     1.93064    0.16747\n",
      "FOMD                 0.11143      0.16969     0.14056    0.02913\n",
      "TPR                  0.00395      0.00809     0.00602    0.00207\n",
      "Expansion            0.03991      0.04035     0.04013    0.00022\n",
      "Cut Ratio            0.00000      0.00000     0.00000    0.00000\n",
      "Conductance          0.01887      0.02213     0.02050    0.00163\n",
      "Normalized Cut       0.04006      0.04032     0.04019    0.00013\n",
      "Maximum-ODF         15.00000    232.00000   123.50000  108.50000\n",
      "Average-ODF          0.03991      0.04035     0.04013    0.00022\n",
      "Flake-ODF            0.00000      0.00000     0.00000    0.00000\n",
      "                           value\n",
      "Index                           \n",
      "Modularity (no overlap)  0.47645\n",
      "--------POLARIZATION BOOSTER WEIGHT--------\n",
      "                        min         max        avg       std\n",
      "Index                                                       \n",
      "Internal Density     0.0002      0.0002     0.0002    0.0000\n",
      "Edges inside      8742.0000  10206.0000  9474.0000  732.0000\n",
      "Average Degree       1.7530      2.1124     1.9327    0.1797\n",
      "FOMD                 0.1153      0.1668     0.1411    0.0258\n",
      "TPR                  0.0039      0.0082     0.0060    0.0021\n",
      "Expansion            0.0394      0.0407     0.0400    0.0006\n",
      "Cut Ratio            0.0000      0.0000     0.0000    0.0000\n",
      "Conductance          0.0189      0.0220     0.0204    0.0015\n",
      "Normalized Cut       0.0399      0.0402     0.0401    0.0001\n",
      "Maximum-ODF         17.0000    243.0000   130.0000  113.0000\n",
      "Average-ODF          0.0394      0.0407     0.0400    0.0006\n",
      "Flake-ODF            0.0000      0.0000     0.0000    0.0000\n",
      "                          value\n",
      "Index                          \n",
      "Modularity (no overlap)  0.4768\n"
     ]
    }
   ],
   "source": [
    "#FOMD\n",
    "#average degree\n",
    "#Expansion\n",
    "#Maximum-ODF\n",
    "noweight_communities = list(noweight_parts[1])\n",
    "scores_now = pquality.pquality_summary(G,noweight_communities)\n",
    "print(\"--------TOPOLOGICAL WEIGHT--------\")\n",
    "print(scores_now['Indexes'].round(4))\n",
    "print(scores_now['Modularity'].round(4))\n",
    "noweight_communities = pd.DataFrame(noweight_communities)\n",
    "noweight_communities_9 = noweight_communities.transpose()\n",
    "#------------------------------\n",
    "sentiment_parts_communities = list(sentiment_parts[1])\n",
    "sent_now = pquality.pquality_summary(G,sentiment_parts_communities)\n",
    "print(\"--------SENTIMENT WEIGHT--------\")\n",
    "print(sent_now['Indexes'].round(4))\n",
    "print(sent_now['Modularity'].round(4))\n",
    "sentiment_parts_communities = pd.DataFrame(sentiment_parts_communities)\n",
    "sentiment_parts_communities_9 = sentiment_parts_communities.transpose()\n",
    "#------------------------------\n",
    "polarization_parts_communities = list(polarization_parts[1])\n",
    "scores_pol = pquality.pquality_summary(G,polarization_parts_communities)\n",
    "print(\"--------POLARIZATION WEIGHT--------\")\n",
    "print(scores_pol['Indexes'].round(4))\n",
    "print(scores_pol['Modularity'].round(4))\n",
    "polarization_parts_communities = pd.DataFrame(polarization_parts_communities)\n",
    "polarization_parts_communities_9 = polarization_parts_communities.transpose()\n",
    "#------------------------------\n",
    "sentimenthybrid_parts_communities = list(sentimenthybrid_parts[1])\n",
    "scores_senthib = pquality.pquality_summary(G,sentimenthybrid_parts_communities)\n",
    "print(\"--------SENTIMENT BOOSTER WEIGHT--------\")\n",
    "print(scores_senthib['Indexes'].round(5))\n",
    "print(scores_senthib['Modularity'].round(5))\n",
    "sentimenthybrid_parts_communities = pd.DataFrame(sentimenthybrid_parts_communities)\n",
    "sentimenthybrid_parts_communities_9 = sentimenthybrid_parts_communities.transpose()\n",
    "#-----------------------------\n",
    "polarizationhybrid_parts_communities = list(polarizationhybrid_parts[1])\n",
    "scores_polhib = pquality.pquality_summary(G,polarizationhybrid_parts_communities)\n",
    "print(\"--------POLARIZATION BOOSTER WEIGHT--------\")\n",
    "print(scores_polhib['Indexes'].round(4))\n",
    "print(scores_polhib['Modularity'].round(4))\n",
    "polarizationhybrid_parts_communities = pd.DataFrame(polarizationhybrid_parts_communities)\n",
    "polarizationhybrid_parts_communities_9 = polarizationhybrid_parts_communities.transpose()"
   ]
  },
  {
   "cell_type": "code",
   "execution_count": 78,
   "id": "1b8ac8b8",
   "metadata": {},
   "outputs": [
    {
     "name": "stderr",
     "output_type": "stream",
     "text": [
      "C:\\Users\\acer\\AppData\\Local\\Temp/ipykernel_12572/2367135852.py:3: SettingWithCopyWarning: \n",
      "A value is trying to be set on a copy of a slice from a DataFrame.\n",
      "Try using .loc[row_indexer,col_indexer] = value instead\n",
      "\n",
      "See the caveats in the documentation: https://pandas.pydata.org/pandas-docs/stable/user_guide/indexing.html#returning-a-view-versus-a-copy\n",
      "  df_9Nov[\"Community_Screen_name\"] = np.where(df_9Nov[\"Screen_name\"].isin(community0), \"0\", \"1\")\n",
      "C:\\Users\\acer\\AppData\\Local\\Temp/ipykernel_12572/2367135852.py:4: SettingWithCopyWarning: \n",
      "A value is trying to be set on a copy of a slice from a DataFrame.\n",
      "Try using .loc[row_indexer,col_indexer] = value instead\n",
      "\n",
      "See the caveats in the documentation: https://pandas.pydata.org/pandas-docs/stable/user_guide/indexing.html#returning-a-view-versus-a-copy\n",
      "  df_9Nov[\"Community_Retweet\"] = np.where(df_9Nov[\"Retweet\"].isin(community0), \"0\", \"1\")\n"
     ]
    },
    {
     "name": "stdout",
     "output_type": "stream",
     "text": [
      "Modularity community 0:  85.91325113360669\n",
      "Modularity community 1:  88.94866170300322\n",
      "9736\n",
      "9964\n"
     ]
    }
   ],
   "source": [
    "#STUDY THE COMMUNITIES FORMED USING ONLY THE TOPOLOGICAL STRUCTURE\n",
    "community0 = list(noweight_communities_9[0])\n",
    "df_9Nov[\"Community_Screen_name\"] = np.where(df_9Nov[\"Screen_name\"].isin(community0), \"0\", \"1\")\n",
    "df_9Nov[\"Community_Retweet\"] = np.where(df_9Nov[\"Retweet\"].isin(community0), \"0\", \"1\")\n",
    "df_9Nov_community0 = df_9Nov.loc[df_9Nov['Community_Screen_name']=='0']\n",
    "df_9Nov_community1 = df_9Nov.loc[df_9Nov['Community_Screen_name']=='1']\n",
    "Gcommunity0_9Nov = nx.from_pandas_edgelist(df_9Nov_community0, 'Screen_name', 'Retweet')\n",
    "print(\"Modularity community 0: \", community.modularity(community.best_partition(Gcommunity0_9Nov, random_state=1),Gcommunity0_9Nov)*100)\n",
    "Gcommunity1_9Nov = nx.from_pandas_edgelist(df_9Nov_community1, 'Screen_name', 'Retweet')\n",
    "print(\"Modularity community 1: \", community.modularity(community.best_partition(Gcommunity1_9Nov, random_state=1),Gcommunity1_9Nov)*100)\n",
    "nowmod0_9nov = community.modularity(community.best_partition(Gcommunity0_9Nov, random_state=1),Gcommunity0_9Nov)*100\n",
    "nowmod1_9nov = community.modularity(community.best_partition(Gcommunity1_9Nov,random_state=1),Gcommunity1_9Nov)*100\n",
    "\n",
    "nodes_comm0_noweight9nov = Gcommunity0_9Nov.number_of_nodes()\n",
    "nodes_comm1_noweight9nov = Gcommunity1_9Nov.number_of_nodes()\n",
    "print(nodes_comm0_noweight9nov)\n",
    "print(nodes_comm1_noweight9nov)"
   ]
  },
  {
   "cell_type": "code",
   "execution_count": 79,
   "id": "dae2d785",
   "metadata": {},
   "outputs": [
    {
     "name": "stderr",
     "output_type": "stream",
     "text": [
      "C:\\Users\\acer\\AppData\\Local\\Temp/ipykernel_12572/269368206.py:3: SettingWithCopyWarning: \n",
      "A value is trying to be set on a copy of a slice from a DataFrame.\n",
      "Try using .loc[row_indexer,col_indexer] = value instead\n",
      "\n",
      "See the caveats in the documentation: https://pandas.pydata.org/pandas-docs/stable/user_guide/indexing.html#returning-a-view-versus-a-copy\n",
      "  df_9Nov[\"Community_Screen_name\"] = np.where(df_9Nov[\"Screen_name\"].isin(community0), \"0\", \"1\")\n",
      "C:\\Users\\acer\\AppData\\Local\\Temp/ipykernel_12572/269368206.py:4: SettingWithCopyWarning: \n",
      "A value is trying to be set on a copy of a slice from a DataFrame.\n",
      "Try using .loc[row_indexer,col_indexer] = value instead\n",
      "\n",
      "See the caveats in the documentation: https://pandas.pydata.org/pandas-docs/stable/user_guide/indexing.html#returning-a-view-versus-a-copy\n",
      "  df_9Nov[\"Community_Retweet\"] = np.where(df_9Nov[\"Retweet\"].isin(community0), \"0\", \"1\")\n"
     ]
    },
    {
     "name": "stdout",
     "output_type": "stream",
     "text": [
      "Modularity community 0:  86.27237031351679\n",
      "Modularity community 1:  88.51938346376515\n",
      "9777\n",
      "9929\n"
     ]
    }
   ],
   "source": [
    "#STUDY THE COMMUNITIES FORMED USING THE SENTIMENT SIMILARITY\n",
    "community0 = list(sentiment_parts_communities_9[0])\n",
    "df_9Nov[\"Community_Screen_name\"] = np.where(df_9Nov[\"Screen_name\"].isin(community0), \"0\", \"1\")\n",
    "df_9Nov[\"Community_Retweet\"] = np.where(df_9Nov[\"Retweet\"].isin(community0), \"0\", \"1\")\n",
    "df_9Nov_community0 = df_9Nov.loc[df_9Nov['Community_Screen_name']=='0']\n",
    "df_9Nov_community1 = df_9Nov.loc[df_9Nov['Community_Screen_name']=='1']\n",
    "Gcommunity0_9Nov = nx.from_pandas_edgelist(df_9Nov_community0, 'Screen_name', 'Retweet')\n",
    "mod0_9nov = community.modularity(community.best_partition(Gcommunity0_9Nov, random_state=1),Gcommunity0_9Nov)*100\n",
    "print(\"Modularity community 0: \", community.modularity(community.best_partition(Gcommunity0_9Nov, random_state=1),Gcommunity0_9Nov)*100)\n",
    "Gcommunity1_9Nov = nx.from_pandas_edgelist(df_9Nov_community1, 'Screen_name', 'Retweet')\n",
    "print(\"Modularity community 1: \", community.modularity(community.best_partition(Gcommunity1_9Nov,random_state=1),Gcommunity1_9Nov)*100)\n",
    "sentsimmod0_9nov = community.modularity(community.best_partition(Gcommunity0_9Nov, random_state=1),Gcommunity0_9Nov)*100\n",
    "sentsimmod1_9nov = community.modularity(community.best_partition(Gcommunity1_9Nov,random_state=1),Gcommunity1_9Nov)*100\n",
    "\n",
    "nodes_comm0_sentsimmod0_9nov = Gcommunity0_9Nov.number_of_nodes()\n",
    "nodes_comm1_sentsimmod1_9nov = Gcommunity1_9Nov.number_of_nodes()\n",
    "print(nodes_comm0_sentsimmod0_9nov)\n",
    "print(nodes_comm1_sentsimmod1_9nov)"
   ]
  },
  {
   "cell_type": "code",
   "execution_count": 80,
   "id": "5c759e93",
   "metadata": {},
   "outputs": [
    {
     "name": "stderr",
     "output_type": "stream",
     "text": [
      "C:\\Users\\acer\\AppData\\Local\\Temp/ipykernel_12572/166878291.py:3: SettingWithCopyWarning: \n",
      "A value is trying to be set on a copy of a slice from a DataFrame.\n",
      "Try using .loc[row_indexer,col_indexer] = value instead\n",
      "\n",
      "See the caveats in the documentation: https://pandas.pydata.org/pandas-docs/stable/user_guide/indexing.html#returning-a-view-versus-a-copy\n",
      "  df_9Nov[\"Community_Screen_name\"] = np.where(df_9Nov[\"Screen_name\"].isin(community0), \"0\", \"1\")\n",
      "C:\\Users\\acer\\AppData\\Local\\Temp/ipykernel_12572/166878291.py:4: SettingWithCopyWarning: \n",
      "A value is trying to be set on a copy of a slice from a DataFrame.\n",
      "Try using .loc[row_indexer,col_indexer] = value instead\n",
      "\n",
      "See the caveats in the documentation: https://pandas.pydata.org/pandas-docs/stable/user_guide/indexing.html#returning-a-view-versus-a-copy\n",
      "  df_9Nov[\"Community_Retweet\"] = np.where(df_9Nov[\"Retweet\"].isin(community0), \"0\", \"1\")\n"
     ]
    },
    {
     "name": "stdout",
     "output_type": "stream",
     "text": [
      "Modularity community 0:  86.04177984783988\n",
      "Modularity community 1:  88.75144932316175\n",
      "9777\n",
      "9929\n"
     ]
    }
   ],
   "source": [
    "#STUDY THE COMMUNITIES FORMED USING THE POLARIZATION SIMILARITY\n",
    "community0 = list(polarization_parts_communities_9[0])\n",
    "df_9Nov[\"Community_Screen_name\"] = np.where(df_9Nov[\"Screen_name\"].isin(community0), \"0\", \"1\")\n",
    "df_9Nov[\"Community_Retweet\"] = np.where(df_9Nov[\"Retweet\"].isin(community0), \"0\", \"1\")\n",
    "df_9Nov_community0 = df_9Nov.loc[df_9Nov['Community_Screen_name']=='0']\n",
    "df_9Nov_community1 = df_9Nov.loc[df_9Nov['Community_Screen_name']=='1']\n",
    "Gcommunity0_9Nov = nx.from_pandas_edgelist(df_9Nov_community0, 'Screen_name', 'Retweet')\n",
    "mod0_9nov = community.modularity(community.best_partition(Gcommunity0_9Nov, random_state=1),Gcommunity0_9Nov)*100\n",
    "print(\"Modularity community 0: \", community.modularity(community.best_partition(Gcommunity0_9Nov, random_state=1),Gcommunity0_9Nov)*100)\n",
    "Gcommunity1_9Nov = nx.from_pandas_edgelist(df_9Nov_community1, 'Screen_name', 'Retweet')\n",
    "print(\"Modularity community 1: \", community.modularity(community.best_partition(Gcommunity1_9Nov,random_state=1),Gcommunity1_9Nov)*100)\n",
    "polsimmod0_9nov = community.modularity(community.best_partition(Gcommunity0_9Nov, random_state=1),Gcommunity0_9Nov)*100\n",
    "polsimmod1_9nov = community.modularity(community.best_partition(Gcommunity1_9Nov,random_state=1),Gcommunity1_9Nov)*100\n",
    "\n",
    "nodes_comm0_polsimmod0_9nov = Gcommunity0_9Nov.number_of_nodes()\n",
    "nodes_comm1_polsimmod1_9nov = Gcommunity1_9Nov.number_of_nodes()\n",
    "print(nodes_comm0_sentsimmod0_9nov)\n",
    "print(nodes_comm1_sentsimmod1_9nov)"
   ]
  },
  {
   "cell_type": "code",
   "execution_count": 81,
   "id": "69a5ab37",
   "metadata": {},
   "outputs": [
    {
     "name": "stderr",
     "output_type": "stream",
     "text": [
      "C:\\Users\\acer\\AppData\\Local\\Temp/ipykernel_12572/562606043.py:3: SettingWithCopyWarning: \n",
      "A value is trying to be set on a copy of a slice from a DataFrame.\n",
      "Try using .loc[row_indexer,col_indexer] = value instead\n",
      "\n",
      "See the caveats in the documentation: https://pandas.pydata.org/pandas-docs/stable/user_guide/indexing.html#returning-a-view-versus-a-copy\n",
      "  df_9Nov[\"Community_Screen_name\"] = np.where(df_9Nov[\"Screen_name\"].isin(community0), \"0\", \"1\")\n",
      "C:\\Users\\acer\\AppData\\Local\\Temp/ipykernel_12572/562606043.py:4: SettingWithCopyWarning: \n",
      "A value is trying to be set on a copy of a slice from a DataFrame.\n",
      "Try using .loc[row_indexer,col_indexer] = value instead\n",
      "\n",
      "See the caveats in the documentation: https://pandas.pydata.org/pandas-docs/stable/user_guide/indexing.html#returning-a-view-versus-a-copy\n",
      "  df_9Nov[\"Community_Retweet\"] = np.where(df_9Nov[\"Retweet\"].isin(community0), \"0\", \"1\")\n"
     ]
    },
    {
     "name": "stdout",
     "output_type": "stream",
     "text": [
      "Modularity community 0:  86.27237031351679\n",
      "Modularity community 1:  88.51938346376515\n",
      "9777\n",
      "9929\n"
     ]
    }
   ],
   "source": [
    "#STUDY THE COMMUNITIES FORMED USING THE SENTIMENT HYBRID\n",
    "community0 = list(sentimenthybrid_parts_communities_9[0])\n",
    "df_9Nov[\"Community_Screen_name\"] = np.where(df_9Nov[\"Screen_name\"].isin(community0), \"0\", \"1\")\n",
    "df_9Nov[\"Community_Retweet\"] = np.where(df_9Nov[\"Retweet\"].isin(community0), \"0\", \"1\")\n",
    "df_9Nov_community0 = df_9Nov.loc[df_9Nov['Community_Screen_name']=='0']\n",
    "df_9Nov_community1 = df_9Nov.loc[df_9Nov['Community_Screen_name']=='1']\n",
    "Gcommunity0_9Nov = nx.from_pandas_edgelist(df_9Nov_community0, 'Screen_name', 'Retweet')\n",
    "print(\"Modularity community 0: \", community.modularity(community.best_partition(Gcommunity0_9Nov, random_state=1),Gcommunity0_9Nov)*100)\n",
    "Gcommunity1_9Nov = nx.from_pandas_edgelist(df_9Nov_community1, 'Screen_name', 'Retweet')\n",
    "print(\"Modularity community 1: \", community.modularity(community.best_partition(Gcommunity1_9Nov, random_state=1),Gcommunity1_9Nov)*100)\n",
    "sentmod0_9nov = community.modularity(community.best_partition(Gcommunity0_9Nov, random_state=1),Gcommunity0_9Nov)*100\n",
    "sentmod1_9nov = community.modularity(community.best_partition(Gcommunity1_9Nov,random_state=1),Gcommunity1_9Nov)*100\n",
    "\n",
    "nodes_comm0_sent9nov = Gcommunity0_9Nov.number_of_nodes()\n",
    "nodes_comm1_sent9nov = Gcommunity1_9Nov.number_of_nodes()\n",
    "print(nodes_comm0_sent9nov)\n",
    "print(nodes_comm1_sent9nov)"
   ]
  },
  {
   "cell_type": "code",
   "execution_count": 85,
   "id": "28604bec",
   "metadata": {},
   "outputs": [],
   "source": [
    "df_9Nov.to_csv(\"C:/Users/acer/OneDrive/Desktop/MATERIALE TESI/DATASET/Evaluation dataset/Sentiment community/day9_sent.csv\", index=False)"
   ]
  },
  {
   "cell_type": "code",
   "execution_count": 82,
   "id": "6cb8a6d6",
   "metadata": {},
   "outputs": [
    {
     "name": "stderr",
     "output_type": "stream",
     "text": [
      "C:\\Users\\acer\\AppData\\Local\\Temp/ipykernel_12572/3586382351.py:3: SettingWithCopyWarning: \n",
      "A value is trying to be set on a copy of a slice from a DataFrame.\n",
      "Try using .loc[row_indexer,col_indexer] = value instead\n",
      "\n",
      "See the caveats in the documentation: https://pandas.pydata.org/pandas-docs/stable/user_guide/indexing.html#returning-a-view-versus-a-copy\n",
      "  df_9Nov[\"Community_Screen_name\"] = np.where(df_9Nov[\"Screen_name\"].isin(community0), \"0\", \"1\")\n",
      "C:\\Users\\acer\\AppData\\Local\\Temp/ipykernel_12572/3586382351.py:4: SettingWithCopyWarning: \n",
      "A value is trying to be set on a copy of a slice from a DataFrame.\n",
      "Try using .loc[row_indexer,col_indexer] = value instead\n",
      "\n",
      "See the caveats in the documentation: https://pandas.pydata.org/pandas-docs/stable/user_guide/indexing.html#returning-a-view-versus-a-copy\n",
      "  df_9Nov[\"Community_Retweet\"] = np.where(df_9Nov[\"Retweet\"].isin(community0), \"0\", \"1\")\n"
     ]
    },
    {
     "name": "stdout",
     "output_type": "stream",
     "text": [
      "Modularity community 0:  86.04177984783988\n",
      "Modularity community 1:  88.75144932316175\n",
      "9675\n",
      "10032\n"
     ]
    }
   ],
   "source": [
    "#STUDY THE COMMUNITIES FORMED USING THE POLARIZATION HYBRID\n",
    "community0 = list(polarization_parts_communities_9[0])\n",
    "df_9Nov[\"Community_Screen_name\"] = np.where(df_9Nov[\"Screen_name\"].isin(community0), \"0\", \"1\")\n",
    "df_9Nov[\"Community_Retweet\"] = np.where(df_9Nov[\"Retweet\"].isin(community0), \"0\", \"1\")\n",
    "df_9Nov_community0 = df_9Nov.loc[df_9Nov['Community_Screen_name']=='0']\n",
    "df_9Nov_community1 = df_9Nov.loc[df_9Nov['Community_Screen_name']=='1']\n",
    "Gcommunity0_9Nov = nx.from_pandas_edgelist(df_9Nov_community0, 'Screen_name', 'Retweet')\n",
    "print(\"Modularity community 0: \", community.modularity(community.best_partition(Gcommunity0_9Nov, random_state=1),Gcommunity0_9Nov)*100)\n",
    "Gcommunity1_9Nov = nx.from_pandas_edgelist(df_9Nov_community1, 'Screen_name', 'Retweet')\n",
    "print(\"Modularity community 1: \", community.modularity(community.best_partition(Gcommunity1_9Nov, random_state=1),Gcommunity1_9Nov)*100)\n",
    "polmod0_9nov = community.modularity(community.best_partition(Gcommunity0_9Nov, random_state=1),Gcommunity0_9Nov)*100\n",
    "polmod1_9nov = community.modularity(community.best_partition(Gcommunity1_9Nov,random_state=1),Gcommunity1_9Nov)*100\n",
    "\n",
    "nodes_comm0_pol9nov = Gcommunity0_9Nov.number_of_nodes()\n",
    "nodes_comm1_pol9nov = Gcommunity1_9Nov.number_of_nodes()\n",
    "print(nodes_comm0_pol9nov)\n",
    "print(nodes_comm1_pol9nov)"
   ]
  },
  {
   "cell_type": "markdown",
   "id": "2fc18899",
   "metadata": {},
   "source": [
    "COLLECT THE TOPOLOGICAL RESULTS FOR THE COMMUNITIES"
   ]
  },
  {
   "cell_type": "code",
   "execution_count": 83,
   "id": "2488f035",
   "metadata": {
    "scrolled": true
   },
   "outputs": [
    {
     "ename": "NameError",
     "evalue": "name 'sentmod0_2nov' is not defined",
     "output_type": "error",
     "traceback": [
      "\u001b[1;31m---------------------------------------------------------------------------\u001b[0m",
      "\u001b[1;31mNameError\u001b[0m                                 Traceback (most recent call last)",
      "\u001b[1;32m~\\AppData\\Local\\Temp/ipykernel_12572/279568427.py\u001b[0m in \u001b[0;36m<module>\u001b[1;34m\u001b[0m\n\u001b[0;32m      2\u001b[0m      \u001b[1;34m'Metric'\u001b[0m\u001b[1;33m:\u001b[0m \u001b[1;33m[\u001b[0m\u001b[1;34m\"Noweight\"\u001b[0m\u001b[1;33m,\u001b[0m\u001b[1;34m\"Sentiment\"\u001b[0m\u001b[1;33m,\u001b[0m\u001b[1;34m\"Polarization\"\u001b[0m\u001b[1;33m,\u001b[0m\u001b[1;34m\"Sentiment booster\"\u001b[0m\u001b[1;33m,\u001b[0m \u001b[1;34m\"Polarization booster\"\u001b[0m\u001b[1;33m,\u001b[0m\u001b[1;34m\"Noweight\"\u001b[0m\u001b[1;33m,\u001b[0m\u001b[1;34m\"Sentiment\"\u001b[0m\u001b[1;33m,\u001b[0m\u001b[1;34m\"Polarization\"\u001b[0m\u001b[1;33m,\u001b[0m\u001b[1;34m\"Sentiment booster\"\u001b[0m\u001b[1;33m,\u001b[0m\u001b[1;34m\"Polarization booster\"\u001b[0m\u001b[1;33m]\u001b[0m\u001b[1;33m,\u001b[0m\u001b[1;33m\u001b[0m\u001b[1;33m\u001b[0m\u001b[0m\n\u001b[0;32m      3\u001b[0m      \u001b[1;34m'Day'\u001b[0m \u001b[1;33m:\u001b[0m \u001b[1;33m[\u001b[0m\u001b[1;36m2\u001b[0m\u001b[1;33m,\u001b[0m\u001b[1;36m2\u001b[0m\u001b[1;33m,\u001b[0m\u001b[1;36m2\u001b[0m\u001b[1;33m,\u001b[0m\u001b[1;36m2\u001b[0m\u001b[1;33m,\u001b[0m\u001b[1;36m2\u001b[0m\u001b[1;33m,\u001b[0m\u001b[1;36m2\u001b[0m\u001b[1;33m,\u001b[0m\u001b[1;36m2\u001b[0m\u001b[1;33m,\u001b[0m\u001b[1;36m2\u001b[0m\u001b[1;33m,\u001b[0m\u001b[1;36m2\u001b[0m\u001b[1;33m,\u001b[0m\u001b[1;36m2\u001b[0m\u001b[1;33m]\u001b[0m\u001b[1;33m,\u001b[0m\u001b[1;33m\u001b[0m\u001b[1;33m\u001b[0m\u001b[0m\n\u001b[1;32m----> 4\u001b[1;33m      \u001b[1;34m'Modularity'\u001b[0m\u001b[1;33m:\u001b[0m \u001b[1;33m[\u001b[0m\u001b[0mnowmod0_2nov\u001b[0m\u001b[1;33m,\u001b[0m \u001b[0msentsimmod0_2nov\u001b[0m\u001b[1;33m,\u001b[0m \u001b[0mpolsimmod0_2nov\u001b[0m\u001b[1;33m,\u001b[0m \u001b[0msentmod0_2nov\u001b[0m\u001b[1;33m,\u001b[0m \u001b[0mpolmod0_2nov\u001b[0m\u001b[1;33m,\u001b[0m\u001b[0mnowmod1_2nov\u001b[0m\u001b[1;33m,\u001b[0m \u001b[0msentsimmod1_2nov\u001b[0m\u001b[1;33m,\u001b[0m\u001b[0mpolsimmod1_2nov\u001b[0m \u001b[1;33m,\u001b[0m \u001b[0msentmod1_2nov\u001b[0m\u001b[1;33m,\u001b[0m \u001b[0mpolmod1_2nov\u001b[0m\u001b[1;33m]\u001b[0m\u001b[1;33m,\u001b[0m\u001b[1;33m\u001b[0m\u001b[1;33m\u001b[0m\u001b[0m\n\u001b[0m\u001b[0;32m      5\u001b[0m      'Nodes': [nodes_comm0_noweight2nov,nodes_comm0_sentsimmod0_2nov,nodes_comm0_polsimmod0_2nov,nodes_comm0_sent2nov, nodes_comm0_pol2nov, nodes_comm1_noweight2nov, nodes_comm1_sentsimmod1_2nov,nodes_comm1_polsimmod1_2nov,nodes_comm1_sent2nov, nodes_comm1_pol2nov]}\n\u001b[0;32m      6\u001b[0m \u001b[0mnov2results\u001b[0m \u001b[1;33m=\u001b[0m \u001b[0mpd\u001b[0m\u001b[1;33m.\u001b[0m\u001b[0mDataFrame\u001b[0m\u001b[1;33m(\u001b[0m\u001b[0mdata\u001b[0m \u001b[1;33m=\u001b[0m \u001b[0md2\u001b[0m\u001b[1;33m)\u001b[0m\u001b[1;33m\u001b[0m\u001b[1;33m\u001b[0m\u001b[0m\n",
      "\u001b[1;31mNameError\u001b[0m: name 'sentmod0_2nov' is not defined"
     ]
    }
   ],
   "source": [
    "d2 = {'Community': [\"Comm0\", \"Comm0\", \"Comm0\", \"Comm0\", \"Comm0\",\"Comm1\",\"Comm1\", \"Comm1\",\"Comm1\",\"Comm1\"], \n",
    "     'Metric': [\"Noweight\",\"Sentiment\",\"Polarization\",\"Sentiment booster\", \"Polarization booster\",\"Noweight\",\"Sentiment\",\"Polarization\",\"Sentiment booster\",\"Polarization booster\"],\n",
    "     'Day' : [2,2,2,2,2,2,2,2,2,2],\n",
    "     'Modularity': [nowmod0_2nov, sentsimmod0_2nov, polsimmod0_2nov, sentmod0_2nov, polmod0_2nov,nowmod1_2nov, sentsimmod1_2nov,polsimmod1_2nov , sentmod1_2nov, polmod1_2nov],\n",
    "     'Nodes': [nodes_comm0_noweight2nov,nodes_comm0_sentsimmod0_2nov,nodes_comm0_polsimmod0_2nov,nodes_comm0_sent2nov, nodes_comm0_pol2nov, nodes_comm1_noweight2nov, nodes_comm1_sentsimmod1_2nov,nodes_comm1_polsimmod1_2nov,nodes_comm1_sent2nov, nodes_comm1_pol2nov]}\n",
    "nov2results = pd.DataFrame(data = d2)\n",
    "\n",
    "d3 = {'Community': [\"Comm0\", \"Comm0\", \"Comm0\", \"Comm0\", \"Comm0\",\"Comm1\",\"Comm1\", \"Comm1\",\"Comm1\",\"Comm1\"], \n",
    "     'Metric': [\"Noweight\",\"Sentiment\",\"Polarization\",\"Sentiment booster\", \"Polarization booster\",\"Noweight\",\"Sentiment\",\"Polarization\",\"Sentiment booster\",\"Polarization booster\"],\n",
    "     'Day' : [3,3,3,3,3,3,3,3,3,3],\n",
    "     'Modularity': [nowmod0_3nov, sentsimmod0_3nov, polsimmod0_3nov, sentmod0_3nov, polmod0_3nov,nowmod1_3nov, sentsimmod1_3nov,polsimmod1_3nov , sentmod1_3nov, polmod1_3nov],\n",
    "     'Nodes': [nodes_comm0_noweight3nov,nodes_comm0_sentsimmod0_3nov,nodes_comm0_polsimmod0_3nov,nodes_comm0_sent3nov, nodes_comm0_pol3nov, nodes_comm1_noweight3nov, nodes_comm1_sentsimmod1_3nov,nodes_comm1_polsimmod1_3nov,nodes_comm1_sent3nov, nodes_comm1_pol3nov]}\n",
    "nov3results = pd.DataFrame(data = d3)\n",
    "d4 = {'Community': [\"Comm0\", \"Comm0\", \"Comm0\", \"Comm0\", \"Comm0\",\"Comm1\",\"Comm1\", \"Comm1\",\"Comm1\",\"Comm1\"], \n",
    "     'Metric': [\"Noweight\",\"Sentiment\",\"Polarization\",\"Sentiment booster\", \"Polarization booster\",\"Noweight\",\"Sentiment\",\"Polarization\",\"Sentiment booster\",\"Polarization booster\"],\n",
    "     'Day' : [4,4,4,4,4,4,4,4,4,4],\n",
    "     'Modularity': [nowmod0_4nov, sentsimmod0_4nov, polsimmod0_4nov, sentmod0_4nov, polmod0_4nov,nowmod1_4nov, sentsimmod1_4nov,polsimmod1_4nov , sentmod1_4nov, polmod1_4nov],\n",
    "     'Nodes': [nodes_comm0_noweight4nov,nodes_comm0_sentsimmod0_4nov,nodes_comm0_polsimmod0_4nov,nodes_comm0_sent4nov, nodes_comm0_pol4nov, nodes_comm1_noweight4nov, nodes_comm1_sentsimmod1_4nov,nodes_comm1_polsimmod1_4nov,nodes_comm1_sent4nov, nodes_comm1_pol4nov]}\n",
    "nov4results = pd.DataFrame(data = d4)\n",
    "d5 = {'Community': [\"Comm0\", \"Comm0\", \"Comm0\", \"Comm0\", \"Comm0\",\"Comm1\",\"Comm1\", \"Comm1\",\"Comm1\",\"Comm1\"], \n",
    "     'Metric': [\"Noweight\",\"Sentiment\",\"Polarization\",\"Sentiment booster\", \"Polarization booster\",\"Noweight\",\"Sentiment\",\"Polarization\",\"Sentiment booster\",\"Polarization booster\"],\n",
    "     'Day' : [5,5,5,5,5,5,5,5,5,5],\n",
    "     'Modularity': [nowmod0_5nov, sentsimmod0_5nov, polsimmod0_5nov, sentmod0_5nov, polmod0_5nov,nowmod1_5nov, sentsimmod1_5nov,polsimmod1_5nov , sentmod1_5nov, polmod1_5nov],\n",
    "     'Nodes': [nodes_comm0_noweight5nov,nodes_comm0_sentsimmod0_5nov,nodes_comm0_polsimmod0_5nov,nodes_comm0_sent5nov, nodes_comm0_pol5nov, nodes_comm1_noweight5nov, nodes_comm1_sentsimmod1_5nov,nodes_comm1_polsimmod1_5nov,nodes_comm1_sent5nov, nodes_comm1_pol5nov]}\n",
    "nov5results = pd.DataFrame(data = d5)\n",
    "d6 = {'Community': [\"Comm0\", \"Comm0\", \"Comm0\", \"Comm0\", \"Comm0\",\"Comm1\",\"Comm1\", \"Comm1\",\"Comm1\",\"Comm1\"], \n",
    "     'Metric': [\"Noweight\",\"Sentiment\",\"Polarization\",\"Sentiment booster\", \"Polarization booster\",\"Noweight\",\"Sentiment\",\"Polarization\",\"Sentiment booster\",\"Polarization booster\"],\n",
    "     'Day' : [6,6,6,6,6,6,6,6,6,6],\n",
    "     'Modularity': [nowmod0_6nov, sentsimmod0_6nov, polsimmod0_6nov, sentmod0_6nov, polmod0_6nov,nowmod1_6nov, sentsimmod1_6nov,polsimmod1_6nov , sentmod1_6nov, polmod1_6nov],\n",
    "     'Nodes': [nodes_comm0_noweight6nov,nodes_comm0_sentsimmod0_6nov,nodes_comm0_polsimmod0_6nov,nodes_comm0_sent6nov, nodes_comm0_pol6nov, nodes_comm1_noweight6nov, nodes_comm1_sentsimmod1_6nov,nodes_comm1_polsimmod1_6nov,nodes_comm1_sent6nov, nodes_comm1_pol6nov]}\n",
    "nov6results = pd.DataFrame(data = d6)\n",
    "d7 = {'Community': [\"Comm0\", \"Comm0\", \"Comm0\", \"Comm0\", \"Comm0\",\"Comm1\",\"Comm1\", \"Comm1\",\"Comm1\",\"Comm1\"], \n",
    "     'Metric': [\"Noweight\",\"Sentiment\",\"Polarization\",\"Sentiment booster\", \"Polarization booster\",\"Noweight\",\"Sentiment\",\"Polarization\",\"Sentiment booster\",\"Polarization booster\"],\n",
    "     'Day' : [7,7,7,7,7,7,7,7,7,7],\n",
    "     'Modularity': [nowmod0_7nov, sentsimmod0_7nov, polsimmod0_7nov, sentmod0_7nov, polmod0_7nov,nowmod1_7nov, sentsimmod1_7nov,polsimmod1_7nov , sentmod1_7nov, polmod1_7nov],\n",
    "     'Nodes': [nodes_comm0_noweight7nov,nodes_comm0_sentsimmod0_7nov,nodes_comm0_polsimmod0_7nov,nodes_comm0_sent7nov, nodes_comm0_pol7nov, nodes_comm1_noweight7nov, nodes_comm1_sentsimmod1_7nov,nodes_comm1_polsimmod1_7nov,nodes_comm1_sent7nov, nodes_comm1_pol7nov]}\n",
    "nov7results = pd.DataFrame(data = d7)\n",
    "d8 = {'Community': [\"Comm0\", \"Comm0\", \"Comm0\", \"Comm0\", \"Comm0\",\"Comm1\",\"Comm1\", \"Comm1\",\"Comm1\",\"Comm1\"], \n",
    "     'Metric': [\"Noweight\",\"Sentiment\",\"Polarization\",\"Sentiment booster\", \"Polarization booster\",\"Noweight\",\"Sentiment\",\"Polarization\",\"Sentiment booster\",\"Polarization booster\"],\n",
    "     'Day' : [8,8,8,8,8,8,8,8,8,8],\n",
    "     'Modularity': [nowmod0_8nov, sentsimmod0_8nov, polsimmod0_8nov, sentmod0_8nov, polmod0_8nov,nowmod1_8nov, sentsimmod1_8nov,polsimmod1_8nov , sentmod1_8nov, polmod1_8nov],\n",
    "     'Nodes': [nodes_comm0_noweight8nov,nodes_comm0_sentsimmod0_8nov,nodes_comm0_polsimmod0_8nov,nodes_comm0_sent8nov, nodes_comm0_pol8nov, nodes_comm1_noweight8nov, nodes_comm1_sentsimmod1_8nov,nodes_comm1_polsimmod1_8nov,nodes_comm1_sent8nov, nodes_comm1_pol8nov]}\n",
    "nov8results = pd.DataFrame(data = d8)\n",
    "d9 = {'Community': [\"Comm0\", \"Comm0\", \"Comm0\", \"Comm0\", \"Comm0\",\"Comm1\",\"Comm1\", \"Comm1\",\"Comm1\",\"Comm1\"], \n",
    "     'Metric': [\"Noweight\",\"Sentiment\",\"Polarization\",\"Sentiment booster\", \"Polarization booster\",\"Noweight\",\"Sentiment\",\"Polarization\",\"Sentiment booster\",\"Polarization booster\"],\n",
    "     'Day' : [9,9,9,9,9,9,9,9,9,9],\n",
    "     'Modularity': [nowmod0_9nov, sentsimmod0_9nov, polsimmod0_9nov, sentmod0_9nov, polmod0_9nov,nowmod1_9nov, sentsimmod1_9nov,polsimmod1_9nov , sentmod1_9nov, polmod1_9nov],\n",
    "     'Nodes': [nodes_comm0_noweight9nov,nodes_comm0_sentsimmod0_9nov,nodes_comm0_polsimmod0_9nov,nodes_comm0_sent9nov, nodes_comm0_pol9nov, nodes_comm1_noweight9nov, nodes_comm1_sentsimmod1_9nov,nodes_comm1_polsimmod1_9nov,nodes_comm1_sent9nov, nodes_comm1_pol9nov]}\n",
    "nov9results = pd.DataFrame(data = d9)\n",
    "dataset_evaluation = pd.concat([nov2results, nov3results, nov4results, nov5results, nov6results, nov7results, nov8results , nov9results], ignore_index=True)\n",
    "dataset_evaluation"
   ]
  },
  {
   "cell_type": "markdown",
   "id": "cbc7cd4d",
   "metadata": {},
   "source": [
    "COLLECT THE RESULTS OF THE QUALITY METRICS"
   ]
  },
  {
   "cell_type": "code",
   "execution_count": 91,
   "id": "8202e27e",
   "metadata": {},
   "outputs": [],
   "source": [
    "data2 = {'Approach':['Topological','Sentiment','Polarization','Sentiment booster','Polarization booster'],\n",
    "         'Day': [2,2,2,2,2],\n",
    "         'Avg Degree': [2.0553,2.0552,2.0565,2.0561,2.0539],\n",
    "         'FOMD':[0.1850,0.1851,0.1853,0.1852,0.1846],\n",
    "         'Max-ODF': [5.000, 2.5000, 3.000, 5.500, 7.500],\n",
    "         'Modularity': [0.484,0.4843,0.4846,0.4816,0.4775],\n",
    "         'Nodes community 0': [nodes_comm0_noweight2nov,nodes_comm0_sentsimmod0_2nov,nodes_comm0_polsimmod0_2nov,nodes_comm0_sent2nov, nodes_comm0_pol2nov], \n",
    "         'Nodes community 1': [nodes_comm1_noweight2nov, nodes_comm1_sentsimmod1_2nov,nodes_comm1_polsimmod1_2nov,nodes_comm1_sent2nov, nodes_comm1_pol2nov]\n",
    "          }\n",
    "qualityday2 = pd.DataFrame(data = data2)\n",
    "data3 = {'Approach':['Topological','Sentiment','Polarization','Sentiment booster','Polarization booster'],\n",
    "         'Day': [3,3,3,3,3],\n",
    "         'Avg Degree': [2.2511,2.2518,2.2512,2.2503,2.251],\n",
    "         'FOMD':[0.2224,0.2225,0.2222,0.2220,0.2221],\n",
    "         'Max-ODF': [7.500,7.500,9.000,10.500,9.000],\n",
    "         'Modularity': [0.4775,0.4779,0.4771,0.4762,0.4777],\n",
    "         'Nodes community 0': [nodes_comm0_noweight3nov,nodes_comm0_sentsimmod0_3nov,nodes_comm0_polsimmod0_3nov,nodes_comm0_sent3nov, nodes_comm0_pol3nov], \n",
    "         'Nodes community 1': [nodes_comm1_noweight3nov, nodes_comm1_sentsimmod1_3nov,nodes_comm1_polsimmod1_3nov,nodes_comm1_sent3nov, nodes_comm1_pol3nov]\n",
    "          }\n",
    "qualityday3 = pd.DataFrame(data = data3)\n",
    "data4 = {'Approach':['Topological','Sentiment','Polarization','Sentiment booster','Polarization booster'],\n",
    "         'Day': [4,4,4,4,4],\n",
    "         'Avg Degree': [2.0443,2.0442,2.0432,2.0441,2.0436],\n",
    "         'FOMD':[0.1494,0.1494,0.1489,0.1493,0.1492],\n",
    "         'Max-ODF': [17.500,16.500,22.500,16.500,16.000],\n",
    "         'Modularity': [0.4974,0.4974,0.4968,0.4973,0.4970],\n",
    "         'Nodes community 0': [nodes_comm0_noweight4nov,nodes_comm0_sentsimmod0_4nov,nodes_comm0_polsimmod0_4nov,nodes_comm0_sent4nov, nodes_comm0_pol4nov], \n",
    "         'Nodes community 1': [nodes_comm1_noweight4nov, nodes_comm1_sentsimmod1_4nov,nodes_comm1_polsimmod1_4nov,nodes_comm1_sent4nov, nodes_comm1_pol4nov]\n",
    "          }\n",
    "qualityday4 = pd.DataFrame(data = data4)\n",
    "data5 = {'Approach':['Topological','Sentiment','Polarization','Sentiment booster','Polarization booster'],\n",
    "         'Day': [5,5,5,5,5],\n",
    "         'Avg Degree': [2.1050,2.1045,2.1043,2.1043,2.1047],\n",
    "         'FOMD':[0.1588,0.1588,0.1586,0.1588,0.1588],\n",
    "         'Max-ODF': [14.000,17.000,16.500,12.500,12.500],\n",
    "         'Modularity': [0.4967,0.4966,0.4965,0.4963,0.4965],\n",
    "         'Nodes community 0': [nodes_comm0_noweight5nov,nodes_comm0_sentsimmod0_5nov,nodes_comm0_polsimmod0_5nov,nodes_comm0_sent5nov, nodes_comm0_pol5nov], \n",
    "         'Nodes community 1': [nodes_comm1_noweight5nov, nodes_comm1_sentsimmod1_5nov,nodes_comm1_polsimmod1_5nov,nodes_comm1_sent5nov, nodes_comm1_pol5nov]\n",
    "          }\n",
    "qualityday5 = pd.DataFrame(data = data5)\n",
    "data6 = {'Approach':['Topological','Sentiment','Polarization','Sentiment booster','Polarization booster'],\n",
    "         'Day': [6,6,6,6,6],\n",
    "         'Avg Degree': [2.1001,2.1004,2.0995,2.1001,2.1001],\n",
    "         'FOMD':[0.1624,0.1623,0.1620,0.1623,0.1622],\n",
    "         'Max-ODF': [13.500,14.500,16.000,12.500,13.500],\n",
    "         'Modularity': [0.4947,0.4950,0.4936,0.4950,0.4945],\n",
    "         'Nodes community 0': [nodes_comm0_noweight6nov,nodes_comm0_sentsimmod0_6nov,nodes_comm0_polsimmod0_6nov,nodes_comm0_sent6nov, nodes_comm0_pol6nov], \n",
    "         'Nodes community 1': [nodes_comm1_noweight6nov, nodes_comm1_sentsimmod1_6nov,nodes_comm1_polsimmod1_6nov,nodes_comm1_sent6nov, nodes_comm1_pol6nov]\n",
    "          }\n",
    "qualityday6 = pd.DataFrame(data=data6)\n",
    "\n",
    "data7 = {'Approach':['Topological','Sentiment','Polarization','Sentiment booster','Polarization booster'],\n",
    "         'Day': [7,7,7,7,7],\n",
    "         'Avg Degree': [2.2802,2.2799,2.2787,2.2785,2.2790],\n",
    "         'FOMD':[0.1847,0.1842,0.1839,0.1839,0.1841],\n",
    "         'Max-ODF': [276.000,279.000,281.000,272.500,281.500],\n",
    "         'Modularity': [0.4898,0.4894,0.4885,0.4888,0.4889],\n",
    "         'Nodes community 0': [nodes_comm0_noweight7nov,nodes_comm0_sentsimmod0_7nov,nodes_comm0_polsimmod0_7nov,nodes_comm0_sent7nov, nodes_comm0_pol7nov], \n",
    "         'Nodes community 1': [nodes_comm1_noweight7nov, nodes_comm1_sentsimmod1_7nov,nodes_comm1_polsimmod1_7nov,nodes_comm1_sent7nov, nodes_comm1_pol7nov]\n",
    "          }\n",
    "qualityday7 = pd.DataFrame(data=data7)\n",
    "data8 = {'Approach':['Topological','Sentiment','Polarization','Sentiment booster','Polarization booster'],\n",
    "         'Day': [8,8,8,8,8],\n",
    "         'Avg Degree': [2.0381,2.0368,2.0349,2.0360,2.0365],\n",
    "         'FOMD':[0.1590,0.1586,0.1579,0.1582,0.1582],\n",
    "         'Max-ODF': [8.000,8.500,22.5000,9.500,13.000],\n",
    "         'Modularity': [0.4937,0.4930,0.4915,0.4922,0.4924],\n",
    "         'Nodes community 0': [nodes_comm0_noweight8nov,nodes_comm0_sentsimmod0_8nov,nodes_comm0_polsimmod0_8nov,nodes_comm0_sent8nov, nodes_comm0_pol8nov], \n",
    "         'Nodes community 1': [nodes_comm1_noweight8nov, nodes_comm1_sentsimmod1_8nov,nodes_comm1_polsimmod1_8nov,nodes_comm1_sent8nov, nodes_comm1_pol8nov]\n",
    "          }\n",
    "qualityday8 = pd.DataFrame(data=data8)\n",
    "data9 = {'Approach':['Topological','Sentiment','Polarization','Sentiment booster','Polarization booster'],\n",
    "         'Day': [9,9,9,9,9],\n",
    "         'Avg Degree': [1.9850,1.9705,1.9783,1.9779,1.9708],\n",
    "         'FOMD':[0.1524,0.1437,0.1491,0.1490,0.1435],\n",
    "         'Max-ODF': [85.000,246.500,114.000,110.500,242.500],\n",
    "         'Modularity': [0.4704,0.4639,0.4666,0.4673,0.4637],\n",
    "         'Nodes community 0': [nodes_comm0_noweight9nov,nodes_comm0_sentsimmod0_9nov,nodes_comm0_polsimmod0_9nov,nodes_comm0_sent9nov, nodes_comm0_pol9nov], \n",
    "         'Nodes community 1': [nodes_comm1_noweight9nov, nodes_comm1_sentsimmod1_9nov,nodes_comm1_polsimmod1_9nov,nodes_comm1_sent9nov, nodes_comm1_pol9nov]\n",
    "          }\n",
    "qualityday9 = pd.DataFrame(data=data9)"
   ]
  },
  {
   "cell_type": "code",
   "execution_count": 92,
   "id": "c166cb2d",
   "metadata": {},
   "outputs": [
    {
     "data": {
      "text/html": [
       "<div>\n",
       "<style scoped>\n",
       "    .dataframe tbody tr th:only-of-type {\n",
       "        vertical-align: middle;\n",
       "    }\n",
       "\n",
       "    .dataframe tbody tr th {\n",
       "        vertical-align: top;\n",
       "    }\n",
       "\n",
       "    .dataframe thead th {\n",
       "        text-align: right;\n",
       "    }\n",
       "</style>\n",
       "<table border=\"1\" class=\"dataframe\">\n",
       "  <thead>\n",
       "    <tr style=\"text-align: right;\">\n",
       "      <th></th>\n",
       "      <th>Approach</th>\n",
       "      <th>Day</th>\n",
       "      <th>Avg Degree</th>\n",
       "      <th>FOMD</th>\n",
       "      <th>Max-ODF</th>\n",
       "      <th>Modularity</th>\n",
       "      <th>Nodes community 0</th>\n",
       "      <th>Nodes community 1</th>\n",
       "    </tr>\n",
       "  </thead>\n",
       "  <tbody>\n",
       "    <tr>\n",
       "      <th>0</th>\n",
       "      <td>Topological</td>\n",
       "      <td>2</td>\n",
       "      <td>2.0553</td>\n",
       "      <td>0.1850</td>\n",
       "      <td>5.0</td>\n",
       "      <td>0.4840</td>\n",
       "      <td>11571</td>\n",
       "      <td>11581</td>\n",
       "    </tr>\n",
       "    <tr>\n",
       "      <th>1</th>\n",
       "      <td>Sentiment</td>\n",
       "      <td>2</td>\n",
       "      <td>2.0552</td>\n",
       "      <td>0.1851</td>\n",
       "      <td>2.5</td>\n",
       "      <td>0.4843</td>\n",
       "      <td>11589</td>\n",
       "      <td>11564</td>\n",
       "    </tr>\n",
       "    <tr>\n",
       "      <th>2</th>\n",
       "      <td>Polarization</td>\n",
       "      <td>2</td>\n",
       "      <td>2.0565</td>\n",
       "      <td>0.1853</td>\n",
       "      <td>3.0</td>\n",
       "      <td>0.4846</td>\n",
       "      <td>11544</td>\n",
       "      <td>11606</td>\n",
       "    </tr>\n",
       "    <tr>\n",
       "      <th>3</th>\n",
       "      <td>Sentiment booster</td>\n",
       "      <td>2</td>\n",
       "      <td>2.0561</td>\n",
       "      <td>0.1852</td>\n",
       "      <td>5.5</td>\n",
       "      <td>0.4816</td>\n",
       "      <td>11591</td>\n",
       "      <td>11561</td>\n",
       "    </tr>\n",
       "    <tr>\n",
       "      <th>4</th>\n",
       "      <td>Polarization booster</td>\n",
       "      <td>2</td>\n",
       "      <td>2.0539</td>\n",
       "      <td>0.1846</td>\n",
       "      <td>7.5</td>\n",
       "      <td>0.4775</td>\n",
       "      <td>11571</td>\n",
       "      <td>11587</td>\n",
       "    </tr>\n",
       "    <tr>\n",
       "      <th>5</th>\n",
       "      <td>Topological</td>\n",
       "      <td>3</td>\n",
       "      <td>2.2511</td>\n",
       "      <td>0.2224</td>\n",
       "      <td>7.5</td>\n",
       "      <td>0.4775</td>\n",
       "      <td>31319</td>\n",
       "      <td>31306</td>\n",
       "    </tr>\n",
       "    <tr>\n",
       "      <th>6</th>\n",
       "      <td>Sentiment</td>\n",
       "      <td>3</td>\n",
       "      <td>2.2518</td>\n",
       "      <td>0.2225</td>\n",
       "      <td>7.5</td>\n",
       "      <td>0.4779</td>\n",
       "      <td>31285</td>\n",
       "      <td>31326</td>\n",
       "    </tr>\n",
       "    <tr>\n",
       "      <th>7</th>\n",
       "      <td>Polarization</td>\n",
       "      <td>3</td>\n",
       "      <td>2.2512</td>\n",
       "      <td>0.2222</td>\n",
       "      <td>9.0</td>\n",
       "      <td>0.4771</td>\n",
       "      <td>31233</td>\n",
       "      <td>31402</td>\n",
       "    </tr>\n",
       "    <tr>\n",
       "      <th>8</th>\n",
       "      <td>Sentiment booster</td>\n",
       "      <td>3</td>\n",
       "      <td>2.5030</td>\n",
       "      <td>0.2220</td>\n",
       "      <td>10.5</td>\n",
       "      <td>0.4762</td>\n",
       "      <td>31312</td>\n",
       "      <td>31321</td>\n",
       "    </tr>\n",
       "    <tr>\n",
       "      <th>9</th>\n",
       "      <td>Polarization booster</td>\n",
       "      <td>3</td>\n",
       "      <td>2.2510</td>\n",
       "      <td>0.2221</td>\n",
       "      <td>9.0</td>\n",
       "      <td>0.4777</td>\n",
       "      <td>31233</td>\n",
       "      <td>31402</td>\n",
       "    </tr>\n",
       "    <tr>\n",
       "      <th>10</th>\n",
       "      <td>Topological</td>\n",
       "      <td>4</td>\n",
       "      <td>2.0443</td>\n",
       "      <td>0.1494</td>\n",
       "      <td>17.5</td>\n",
       "      <td>0.4974</td>\n",
       "      <td>32186</td>\n",
       "      <td>32179</td>\n",
       "    </tr>\n",
       "    <tr>\n",
       "      <th>11</th>\n",
       "      <td>Sentiment</td>\n",
       "      <td>4</td>\n",
       "      <td>2.0442</td>\n",
       "      <td>0.1494</td>\n",
       "      <td>16.5</td>\n",
       "      <td>0.4974</td>\n",
       "      <td>32182</td>\n",
       "      <td>32187</td>\n",
       "    </tr>\n",
       "    <tr>\n",
       "      <th>12</th>\n",
       "      <td>Polarization</td>\n",
       "      <td>4</td>\n",
       "      <td>2.0432</td>\n",
       "      <td>0.1489</td>\n",
       "      <td>22.5</td>\n",
       "      <td>0.4968</td>\n",
       "      <td>32150</td>\n",
       "      <td>32231</td>\n",
       "    </tr>\n",
       "    <tr>\n",
       "      <th>13</th>\n",
       "      <td>Sentiment booster</td>\n",
       "      <td>4</td>\n",
       "      <td>2.0441</td>\n",
       "      <td>0.1493</td>\n",
       "      <td>16.5</td>\n",
       "      <td>0.4973</td>\n",
       "      <td>32188</td>\n",
       "      <td>32180</td>\n",
       "    </tr>\n",
       "    <tr>\n",
       "      <th>14</th>\n",
       "      <td>Polarization booster</td>\n",
       "      <td>4</td>\n",
       "      <td>2.0436</td>\n",
       "      <td>0.1492</td>\n",
       "      <td>16.0</td>\n",
       "      <td>0.4970</td>\n",
       "      <td>32150</td>\n",
       "      <td>32231</td>\n",
       "    </tr>\n",
       "    <tr>\n",
       "      <th>15</th>\n",
       "      <td>Topological</td>\n",
       "      <td>5</td>\n",
       "      <td>2.1050</td>\n",
       "      <td>0.1588</td>\n",
       "      <td>14.0</td>\n",
       "      <td>0.4967</td>\n",
       "      <td>32918</td>\n",
       "      <td>32839</td>\n",
       "    </tr>\n",
       "    <tr>\n",
       "      <th>16</th>\n",
       "      <td>Sentiment</td>\n",
       "      <td>5</td>\n",
       "      <td>2.1045</td>\n",
       "      <td>0.1588</td>\n",
       "      <td>17.0</td>\n",
       "      <td>0.4966</td>\n",
       "      <td>32837</td>\n",
       "      <td>32927</td>\n",
       "    </tr>\n",
       "    <tr>\n",
       "      <th>17</th>\n",
       "      <td>Polarization</td>\n",
       "      <td>5</td>\n",
       "      <td>2.1043</td>\n",
       "      <td>0.1586</td>\n",
       "      <td>16.5</td>\n",
       "      <td>0.4965</td>\n",
       "      <td>32891</td>\n",
       "      <td>32876</td>\n",
       "    </tr>\n",
       "    <tr>\n",
       "      <th>18</th>\n",
       "      <td>Sentiment booster</td>\n",
       "      <td>5</td>\n",
       "      <td>2.1043</td>\n",
       "      <td>0.1588</td>\n",
       "      <td>12.5</td>\n",
       "      <td>0.4963</td>\n",
       "      <td>32889</td>\n",
       "      <td>32876</td>\n",
       "    </tr>\n",
       "    <tr>\n",
       "      <th>19</th>\n",
       "      <td>Polarization booster</td>\n",
       "      <td>5</td>\n",
       "      <td>2.1047</td>\n",
       "      <td>0.1588</td>\n",
       "      <td>12.5</td>\n",
       "      <td>0.4965</td>\n",
       "      <td>32891</td>\n",
       "      <td>32876</td>\n",
       "    </tr>\n",
       "    <tr>\n",
       "      <th>20</th>\n",
       "      <td>Topological</td>\n",
       "      <td>6</td>\n",
       "      <td>2.1001</td>\n",
       "      <td>0.1624</td>\n",
       "      <td>13.5</td>\n",
       "      <td>0.4947</td>\n",
       "      <td>31840</td>\n",
       "      <td>31835</td>\n",
       "    </tr>\n",
       "    <tr>\n",
       "      <th>21</th>\n",
       "      <td>Sentiment</td>\n",
       "      <td>6</td>\n",
       "      <td>2.1004</td>\n",
       "      <td>0.1623</td>\n",
       "      <td>14.5</td>\n",
       "      <td>0.4950</td>\n",
       "      <td>31861</td>\n",
       "      <td>31814</td>\n",
       "    </tr>\n",
       "    <tr>\n",
       "      <th>22</th>\n",
       "      <td>Polarization</td>\n",
       "      <td>6</td>\n",
       "      <td>2.0995</td>\n",
       "      <td>0.1620</td>\n",
       "      <td>16.0</td>\n",
       "      <td>0.4936</td>\n",
       "      <td>31840</td>\n",
       "      <td>31834</td>\n",
       "    </tr>\n",
       "    <tr>\n",
       "      <th>23</th>\n",
       "      <td>Sentiment booster</td>\n",
       "      <td>6</td>\n",
       "      <td>2.1001</td>\n",
       "      <td>0.1623</td>\n",
       "      <td>12.5</td>\n",
       "      <td>0.4950</td>\n",
       "      <td>31833</td>\n",
       "      <td>31845</td>\n",
       "    </tr>\n",
       "    <tr>\n",
       "      <th>24</th>\n",
       "      <td>Polarization booster</td>\n",
       "      <td>6</td>\n",
       "      <td>2.1001</td>\n",
       "      <td>0.1622</td>\n",
       "      <td>13.5</td>\n",
       "      <td>0.4945</td>\n",
       "      <td>31840</td>\n",
       "      <td>31834</td>\n",
       "    </tr>\n",
       "    <tr>\n",
       "      <th>25</th>\n",
       "      <td>Topological</td>\n",
       "      <td>7</td>\n",
       "      <td>2.2802</td>\n",
       "      <td>0.1847</td>\n",
       "      <td>276.0</td>\n",
       "      <td>0.4898</td>\n",
       "      <td>108717</td>\n",
       "      <td>108560</td>\n",
       "    </tr>\n",
       "    <tr>\n",
       "      <th>26</th>\n",
       "      <td>Sentiment</td>\n",
       "      <td>7</td>\n",
       "      <td>2.2799</td>\n",
       "      <td>0.1842</td>\n",
       "      <td>279.0</td>\n",
       "      <td>0.4894</td>\n",
       "      <td>109025</td>\n",
       "      <td>108229</td>\n",
       "    </tr>\n",
       "    <tr>\n",
       "      <th>27</th>\n",
       "      <td>Polarization</td>\n",
       "      <td>7</td>\n",
       "      <td>2.2787</td>\n",
       "      <td>0.1839</td>\n",
       "      <td>281.0</td>\n",
       "      <td>0.4885</td>\n",
       "      <td>108372</td>\n",
       "      <td>108873</td>\n",
       "    </tr>\n",
       "    <tr>\n",
       "      <th>28</th>\n",
       "      <td>Sentiment booster</td>\n",
       "      <td>7</td>\n",
       "      <td>2.2785</td>\n",
       "      <td>0.1839</td>\n",
       "      <td>272.5</td>\n",
       "      <td>0.4888</td>\n",
       "      <td>108729</td>\n",
       "      <td>108529</td>\n",
       "    </tr>\n",
       "    <tr>\n",
       "      <th>29</th>\n",
       "      <td>Polarization booster</td>\n",
       "      <td>7</td>\n",
       "      <td>2.2790</td>\n",
       "      <td>0.1841</td>\n",
       "      <td>281.5</td>\n",
       "      <td>0.4889</td>\n",
       "      <td>108372</td>\n",
       "      <td>108873</td>\n",
       "    </tr>\n",
       "    <tr>\n",
       "      <th>30</th>\n",
       "      <td>Topological</td>\n",
       "      <td>8</td>\n",
       "      <td>2.0381</td>\n",
       "      <td>0.1590</td>\n",
       "      <td>8.0</td>\n",
       "      <td>0.4937</td>\n",
       "      <td>18504</td>\n",
       "      <td>18413</td>\n",
       "    </tr>\n",
       "    <tr>\n",
       "      <th>31</th>\n",
       "      <td>Sentiment</td>\n",
       "      <td>8</td>\n",
       "      <td>2.0368</td>\n",
       "      <td>0.1586</td>\n",
       "      <td>8.5</td>\n",
       "      <td>0.4930</td>\n",
       "      <td>18497</td>\n",
       "      <td>18434</td>\n",
       "    </tr>\n",
       "    <tr>\n",
       "      <th>32</th>\n",
       "      <td>Polarization</td>\n",
       "      <td>8</td>\n",
       "      <td>2.0349</td>\n",
       "      <td>0.1579</td>\n",
       "      <td>22.5</td>\n",
       "      <td>0.4915</td>\n",
       "      <td>18363</td>\n",
       "      <td>18561</td>\n",
       "    </tr>\n",
       "    <tr>\n",
       "      <th>33</th>\n",
       "      <td>Sentiment booster</td>\n",
       "      <td>8</td>\n",
       "      <td>2.0360</td>\n",
       "      <td>0.1582</td>\n",
       "      <td>9.5</td>\n",
       "      <td>0.4922</td>\n",
       "      <td>18610</td>\n",
       "      <td>18314</td>\n",
       "    </tr>\n",
       "    <tr>\n",
       "      <th>34</th>\n",
       "      <td>Polarization booster</td>\n",
       "      <td>8</td>\n",
       "      <td>2.0365</td>\n",
       "      <td>0.1582</td>\n",
       "      <td>13.0</td>\n",
       "      <td>0.4924</td>\n",
       "      <td>18363</td>\n",
       "      <td>18561</td>\n",
       "    </tr>\n",
       "    <tr>\n",
       "      <th>35</th>\n",
       "      <td>Topological</td>\n",
       "      <td>9</td>\n",
       "      <td>1.9850</td>\n",
       "      <td>0.1524</td>\n",
       "      <td>85.0</td>\n",
       "      <td>0.4704</td>\n",
       "      <td>10568</td>\n",
       "      <td>11028</td>\n",
       "    </tr>\n",
       "    <tr>\n",
       "      <th>36</th>\n",
       "      <td>Sentiment</td>\n",
       "      <td>9</td>\n",
       "      <td>1.9705</td>\n",
       "      <td>0.1437</td>\n",
       "      <td>246.5</td>\n",
       "      <td>0.4639</td>\n",
       "      <td>10763</td>\n",
       "      <td>10822</td>\n",
       "    </tr>\n",
       "    <tr>\n",
       "      <th>37</th>\n",
       "      <td>Polarization</td>\n",
       "      <td>9</td>\n",
       "      <td>1.9783</td>\n",
       "      <td>0.1491</td>\n",
       "      <td>114.0</td>\n",
       "      <td>0.4666</td>\n",
       "      <td>10984</td>\n",
       "      <td>10608</td>\n",
       "    </tr>\n",
       "    <tr>\n",
       "      <th>38</th>\n",
       "      <td>Sentiment booster</td>\n",
       "      <td>9</td>\n",
       "      <td>1.9779</td>\n",
       "      <td>0.1490</td>\n",
       "      <td>110.5</td>\n",
       "      <td>0.4673</td>\n",
       "      <td>10886</td>\n",
       "      <td>10708</td>\n",
       "    </tr>\n",
       "    <tr>\n",
       "      <th>39</th>\n",
       "      <td>Polarization booster</td>\n",
       "      <td>9</td>\n",
       "      <td>1.9708</td>\n",
       "      <td>0.1435</td>\n",
       "      <td>242.5</td>\n",
       "      <td>0.4637</td>\n",
       "      <td>10984</td>\n",
       "      <td>10608</td>\n",
       "    </tr>\n",
       "  </tbody>\n",
       "</table>\n",
       "</div>"
      ],
      "text/plain": [
       "                Approach  Day  Avg Degree    FOMD  Max-ODF  Modularity  \\\n",
       "0            Topological    2      2.0553  0.1850      5.0      0.4840   \n",
       "1              Sentiment    2      2.0552  0.1851      2.5      0.4843   \n",
       "2           Polarization    2      2.0565  0.1853      3.0      0.4846   \n",
       "3      Sentiment booster    2      2.0561  0.1852      5.5      0.4816   \n",
       "4   Polarization booster    2      2.0539  0.1846      7.5      0.4775   \n",
       "5            Topological    3      2.2511  0.2224      7.5      0.4775   \n",
       "6              Sentiment    3      2.2518  0.2225      7.5      0.4779   \n",
       "7           Polarization    3      2.2512  0.2222      9.0      0.4771   \n",
       "8      Sentiment booster    3      2.5030  0.2220     10.5      0.4762   \n",
       "9   Polarization booster    3      2.2510  0.2221      9.0      0.4777   \n",
       "10           Topological    4      2.0443  0.1494     17.5      0.4974   \n",
       "11             Sentiment    4      2.0442  0.1494     16.5      0.4974   \n",
       "12          Polarization    4      2.0432  0.1489     22.5      0.4968   \n",
       "13     Sentiment booster    4      2.0441  0.1493     16.5      0.4973   \n",
       "14  Polarization booster    4      2.0436  0.1492     16.0      0.4970   \n",
       "15           Topological    5      2.1050  0.1588     14.0      0.4967   \n",
       "16             Sentiment    5      2.1045  0.1588     17.0      0.4966   \n",
       "17          Polarization    5      2.1043  0.1586     16.5      0.4965   \n",
       "18     Sentiment booster    5      2.1043  0.1588     12.5      0.4963   \n",
       "19  Polarization booster    5      2.1047  0.1588     12.5      0.4965   \n",
       "20           Topological    6      2.1001  0.1624     13.5      0.4947   \n",
       "21             Sentiment    6      2.1004  0.1623     14.5      0.4950   \n",
       "22          Polarization    6      2.0995  0.1620     16.0      0.4936   \n",
       "23     Sentiment booster    6      2.1001  0.1623     12.5      0.4950   \n",
       "24  Polarization booster    6      2.1001  0.1622     13.5      0.4945   \n",
       "25           Topological    7      2.2802  0.1847    276.0      0.4898   \n",
       "26             Sentiment    7      2.2799  0.1842    279.0      0.4894   \n",
       "27          Polarization    7      2.2787  0.1839    281.0      0.4885   \n",
       "28     Sentiment booster    7      2.2785  0.1839    272.5      0.4888   \n",
       "29  Polarization booster    7      2.2790  0.1841    281.5      0.4889   \n",
       "30           Topological    8      2.0381  0.1590      8.0      0.4937   \n",
       "31             Sentiment    8      2.0368  0.1586      8.5      0.4930   \n",
       "32          Polarization    8      2.0349  0.1579     22.5      0.4915   \n",
       "33     Sentiment booster    8      2.0360  0.1582      9.5      0.4922   \n",
       "34  Polarization booster    8      2.0365  0.1582     13.0      0.4924   \n",
       "35           Topological    9      1.9850  0.1524     85.0      0.4704   \n",
       "36             Sentiment    9      1.9705  0.1437    246.5      0.4639   \n",
       "37          Polarization    9      1.9783  0.1491    114.0      0.4666   \n",
       "38     Sentiment booster    9      1.9779  0.1490    110.5      0.4673   \n",
       "39  Polarization booster    9      1.9708  0.1435    242.5      0.4637   \n",
       "\n",
       "    Nodes community 0  Nodes community 1  \n",
       "0               11571              11581  \n",
       "1               11589              11564  \n",
       "2               11544              11606  \n",
       "3               11591              11561  \n",
       "4               11571              11587  \n",
       "5               31319              31306  \n",
       "6               31285              31326  \n",
       "7               31233              31402  \n",
       "8               31312              31321  \n",
       "9               31233              31402  \n",
       "10              32186              32179  \n",
       "11              32182              32187  \n",
       "12              32150              32231  \n",
       "13              32188              32180  \n",
       "14              32150              32231  \n",
       "15              32918              32839  \n",
       "16              32837              32927  \n",
       "17              32891              32876  \n",
       "18              32889              32876  \n",
       "19              32891              32876  \n",
       "20              31840              31835  \n",
       "21              31861              31814  \n",
       "22              31840              31834  \n",
       "23              31833              31845  \n",
       "24              31840              31834  \n",
       "25             108717             108560  \n",
       "26             109025             108229  \n",
       "27             108372             108873  \n",
       "28             108729             108529  \n",
       "29             108372             108873  \n",
       "30              18504              18413  \n",
       "31              18497              18434  \n",
       "32              18363              18561  \n",
       "33              18610              18314  \n",
       "34              18363              18561  \n",
       "35              10568              11028  \n",
       "36              10763              10822  \n",
       "37              10984              10608  \n",
       "38              10886              10708  \n",
       "39              10984              10608  "
      ]
     },
     "execution_count": 92,
     "metadata": {},
     "output_type": "execute_result"
    }
   ],
   "source": [
    "qualitymeasures = pd.concat([qualityday2,qualityday3,qualityday4,qualityday5,qualityday6,qualityday7,qualityday8,qualityday9], ignore_index=True)\n",
    "qualitymeasures"
   ]
  },
  {
   "cell_type": "code",
   "execution_count": 93,
   "id": "098c0d94",
   "metadata": {},
   "outputs": [],
   "source": [
    "qualitymeasures.to_excel(\"C:/Users/acer/OneDrive/Desktop/MATERIALE TESI/DATASET/Evaluation dataset/quality_metrics.xlsx\", index=False)"
   ]
  },
  {
   "cell_type": "code",
   "execution_count": 243,
   "id": "bd18ddef",
   "metadata": {},
   "outputs": [],
   "source": [
    "#EXPORT DATASET FOR VISUALIZATION\n",
    "dataset_evaluation.to_excel(\"C:/Users/acer/OneDrive/Desktop/MATERIALE TESI/DATASET/Evaluation dataset/evaluation_metrics_VADER.xlsx\", index=False)"
   ]
  },
  {
   "cell_type": "code",
   "execution_count": 498,
   "id": "23d097ca",
   "metadata": {},
   "outputs": [],
   "source": [
    "df_2Nov.to_csv(\"C:/Users/acer/OneDrive/Desktop/MATERIALE TESI/DATASET/Evaluation dataset/day2_comm_VADER.csv\", index=False)\n",
    "df_3Nov.to_csv(\"C:/Users/acer/OneDrive/Desktop/MATERIALE TESI/DATASET/Evaluation dataset/day3_comm_VADER.csv\", index=False)\n",
    "df_4Nov.to_csv(\"C:/Users/acer/OneDrive/Desktop/MATERIALE TESI/DATASET/Evaluation dataset/day4_comm_VADER.csv\", index=False)\n",
    "df_5Nov.to_csv(\"C:/Users/acer/OneDrive/Desktop/MATERIALE TESI/DATASET/Evaluation dataset/day5_comm_VADER.csv\", index=False)\n",
    "df_6Nov.to_csv(\"C:/Users/acer/OneDrive/Desktop/MATERIALE TESI/DATASET/Evaluation dataset/day6_comm_VADER.csv\", index=False)\n",
    "df_7Nov.to_csv(\"C:/Users/acer/OneDrive/Desktop/MATERIALE TESI/DATASET/Evaluation dataset/day7_comm_VADER.csv\", index=False)\n",
    "df_8Nov.to_csv(\"C:/Users/acer/OneDrive/Desktop/MATERIALE TESI/DATASET/Evaluation dataset/day8_comm_VADER.csv\", index=False)\n",
    "df_9Nov.to_csv(\"C:/Users/acer/OneDrive/Desktop/MATERIALE TESI/DATASET/Evaluation dataset/day9_comm_VADER.csv\", index=False)"
   ]
  }
 ],
 "metadata": {
  "kernelspec": {
   "display_name": "Python 3 (ipykernel)",
   "language": "python",
   "name": "python3"
  },
  "language_info": {
   "codemirror_mode": {
    "name": "ipython",
    "version": 3
   },
   "file_extension": ".py",
   "mimetype": "text/x-python",
   "name": "python",
   "nbconvert_exporter": "python",
   "pygments_lexer": "ipython3",
   "version": "3.8.5"
  }
 },
 "nbformat": 4,
 "nbformat_minor": 5
}
